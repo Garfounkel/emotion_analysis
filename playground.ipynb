{
 "cells": [
  {
   "cell_type": "code",
   "execution_count": 1,
   "metadata": {
    "ExecuteTime": {
     "end_time": "2018-12-03T10:45:09.179216Z",
     "start_time": "2018-12-03T10:45:09.140634Z"
    }
   },
   "outputs": [],
   "source": [
    "%load_ext autoreload\n",
    "%autoreload 2"
   ]
  },
  {
   "cell_type": "code",
   "execution_count": 86,
   "metadata": {
    "ExecuteTime": {
     "end_time": "2018-12-03T12:21:52.701901Z",
     "start_time": "2018-12-03T12:21:52.581269Z"
    }
   },
   "outputs": [],
   "source": [
    "import pandas as pd\n",
    "import numpy as np\n",
    "from keras.utils import to_categorical\n",
    "from sklearn.utils import class_weight\n",
    "\n",
    "from src.embeddings import get_embedding_dictionnary, get_embeddings_and_word_index, sequences_to_index\n",
    "from src.dataset import load_dataset, load_datasets_and_vocab_pipeline, train_test_val_split\n",
    "from src.evaluate import get_metrics, get_predictions\n",
    "from src.models import model_mine\n",
    "\n",
    "embeddings_path = '../sentiment_analysis/data/embeddings/datastories.twitter.300d.txt'"
   ]
  },
  {
   "cell_type": "markdown",
   "metadata": {},
   "source": [
    "### Load and preprocess Train and Test"
   ]
  },
  {
   "cell_type": "code",
   "execution_count": 3,
   "metadata": {
    "ExecuteTime": {
     "end_time": "2018-12-03T10:45:33.962954Z",
     "start_time": "2018-12-03T10:45:12.546558Z"
    }
   },
   "outputs": [
    {
     "name": "stdout",
     "output_type": "stream",
     "text": [
      "Reading twitter - 1grams ...\n",
      "Reading twitter - 2grams ...\n"
     ]
    },
    {
     "name": "stderr",
     "output_type": "stream",
     "text": [
      "\r",
      "Preprocessing...:   0%|          | 0/30160 [00:00<?, ?it/s]"
     ]
    },
    {
     "name": "stdout",
     "output_type": "stream",
     "text": [
      "Reading twitter - 1grams ...\n"
     ]
    },
    {
     "name": "stderr",
     "output_type": "stream",
     "text": [
      "Preprocessing...: 100%|██████████| 30160/30160 [00:10<00:00, 2817.11it/s]\n",
      "Preprocessing...: 100%|██████████| 2755/2755 [00:00<00:00, 2953.70it/s]\n",
      "Building vocabulary...: 100%|██████████| 32915/32915 [00:00<00:00, 170846.62it/s]\n"
     ]
    }
   ],
   "source": [
    "(X_train, y_train), X_test, (vocab, max_seq_len) = load_datasets_and_vocab_pipeline()"
   ]
  },
  {
   "cell_type": "code",
   "execution_count": 4,
   "metadata": {
    "ExecuteTime": {
     "end_time": "2018-12-03T10:45:34.034707Z",
     "start_time": "2018-12-03T10:45:33.966659Z"
    }
   },
   "outputs": [
    {
     "data": {
      "text/plain": [
       "((30160,), (30160,))"
      ]
     },
     "execution_count": 4,
     "metadata": {},
     "output_type": "execute_result"
    }
   ],
   "source": [
    "X_train.shape, X_train.values.shape"
   ]
  },
  {
   "cell_type": "markdown",
   "metadata": {},
   "source": [
    "### Compute the classes weights because our dataset is largely unbalanced"
   ]
  },
  {
   "cell_type": "code",
   "execution_count": 40,
   "metadata": {
    "ExecuteTime": {
     "end_time": "2018-12-03T11:26:57.815844Z",
     "start_time": "2018-12-03T11:26:57.747289Z"
    }
   },
   "outputs": [
    {
     "data": {
      "text/plain": [
       "array([1.36941518, 1.77704454, 1.38019403, 0.50441531])"
      ]
     },
     "execution_count": 40,
     "metadata": {},
     "output_type": "execute_result"
    }
   ],
   "source": [
    "cls_weights = class_weight.compute_class_weight('balanced', np.unique(y_train), y_train)\n",
    "cls_weights"
   ]
  },
  {
   "cell_type": "markdown",
   "metadata": {},
   "source": [
    "### Create an embedding matrix for our vocabulary"
   ]
  },
  {
   "cell_type": "code",
   "execution_count": 18,
   "metadata": {
    "ExecuteTime": {
     "end_time": "2018-12-03T10:53:35.729310Z",
     "start_time": "2018-12-03T10:53:35.664575Z"
    }
   },
   "outputs": [
    {
     "name": "stdout",
     "output_type": "stream",
     "text": [
      "8.83% of our vocabulary are unknown words to the embedding matrix\n"
     ]
    }
   ],
   "source": [
    "emb_matrix, word_index = get_embeddings_and_word_index(embeddings_path, vocab)  # Unknown words: 1302\n",
    "\n",
    "print(f'{1302 / len(vocab) * 100:.2f}% of our vocabulary are unknown words to the embedding matrix')"
   ]
  },
  {
   "cell_type": "markdown",
   "metadata": {},
   "source": [
    "### Transforming our sequences of words to indexes"
   ]
  },
  {
   "cell_type": "code",
   "execution_count": 6,
   "metadata": {
    "ExecuteTime": {
     "end_time": "2018-12-03T10:45:52.790820Z",
     "start_time": "2018-12-03T10:45:40.061259Z"
    }
   },
   "outputs": [
    {
     "data": {
      "text/plain": [
       "((30160, 163), (2755, 163))"
      ]
     },
     "execution_count": 6,
     "metadata": {},
     "output_type": "execute_result"
    }
   ],
   "source": [
    "X_train = sequences_to_index(X_train, word_index, max_seq_len)\n",
    "X_test = sequences_to_index(X_test, word_index, max_seq_len)\n",
    "\n",
    "X_train.shape, X_test.shape"
   ]
  },
  {
   "cell_type": "code",
   "execution_count": 29,
   "metadata": {
    "ExecuteTime": {
     "end_time": "2018-12-03T11:01:28.397741Z",
     "start_time": "2018-12-03T11:01:28.168907Z"
    }
   },
   "outputs": [
    {
     "name": "stdout",
     "output_type": "stream",
     "text": [
      "training set: 24128 samples\n",
      "validation set: 3016 samples\n",
      "validation_test set: 3016 samples\n",
      "x_train: (24128, 163)\n",
      "y_train: (24128, 4)\n"
     ]
    }
   ],
   "source": [
    "y_train = to_categorical(y_train, 4)\n",
    "(x_trn, y_trn), (x_val, y_val), (x_tst, y_tst) = train_test_val_split(X_train, y_train)\n",
    "\n",
    "print('training set: ' + str(len(x_trn)) + ' samples')\n",
    "print('validation set: ' + str(len(x_val)) + ' samples')\n",
    "print('validation_test set: ' + str(len(x_tst)) + ' samples')\n",
    "\n",
    "print('x_train:', x_trn.shape)\n",
    "print('y_train:', y_trn.shape)"
   ]
  },
  {
   "cell_type": "markdown",
   "metadata": {},
   "source": [
    "### Training"
   ]
  },
  {
   "cell_type": "code",
   "execution_count": 26,
   "metadata": {
    "ExecuteTime": {
     "end_time": "2018-12-03T10:58:54.450044Z",
     "start_time": "2018-12-03T10:58:50.161293Z"
    }
   },
   "outputs": [
    {
     "name": "stdout",
     "output_type": "stream",
     "text": [
      "_________________________________________________________________\n",
      "Layer (type)                 Output Shape              Param #   \n",
      "=================================================================\n",
      "embedding_layer (Embedding)  (None, 163, 300)          197828100 \n",
      "_________________________________________________________________\n",
      "dropout_4 (Dropout)          (None, 163, 300)          0         \n",
      "_________________________________________________________________\n",
      "bidirectional_3 (Bidirection (None, 163, 300)          541200    \n",
      "_________________________________________________________________\n",
      "dropout_5 (Dropout)          (None, 163, 300)          0         \n",
      "_________________________________________________________________\n",
      "bidirectional_4 (Bidirection (None, 163, 300)          541200    \n",
      "_________________________________________________________________\n",
      "dropout_6 (Dropout)          (None, 163, 300)          0         \n",
      "_________________________________________________________________\n",
      "flatten_2 (Flatten)          (None, 48900)             0         \n",
      "_________________________________________________________________\n",
      "dense_2 (Dense)              (None, 4)                 195604    \n",
      "=================================================================\n",
      "Total params: 199,106,104\n",
      "Trainable params: 1,278,004\n",
      "Non-trainable params: 197,828,100\n",
      "_________________________________________________________________\n",
      "None\n"
     ]
    }
   ],
   "source": [
    "model = model_mine(emb_matrix, max_seq_len)"
   ]
  },
  {
   "cell_type": "code",
   "execution_count": 30,
   "metadata": {
    "ExecuteTime": {
     "end_time": "2018-12-03T11:22:02.216619Z",
     "start_time": "2018-12-03T11:01:32.638732Z"
    }
   },
   "outputs": [
    {
     "name": "stdout",
     "output_type": "stream",
     "text": [
      "Train on 24128 samples, validate on 3016 samples\n",
      "Epoch 1/3\n",
      "24128/24128 [==============================] - 412s 17ms/step - loss: 0.7389 - acc: 0.7119 - val_loss: 0.5311 - val_acc: 0.8054\n",
      "Epoch 2/3\n",
      "24128/24128 [==============================] - 411s 17ms/step - loss: 0.5073 - acc: 0.8153 - val_loss: 0.4098 - val_acc: 0.8525\n",
      "Epoch 3/3\n",
      "24128/24128 [==============================] - 402s 17ms/step - loss: 0.4122 - acc: 0.8506 - val_loss: 0.3653 - val_acc: 0.8644\n"
     ]
    },
    {
     "data": {
      "text/plain": [
       "<keras.callbacks.History at 0x7f473a9b3668>"
      ]
     },
     "execution_count": 30,
     "metadata": {},
     "output_type": "execute_result"
    }
   ],
   "source": [
    "history = model.fit(x_trn, y_trn, batch_size=128, validation_data=(x_val, y_val), epochs=3)"
   ]
  },
  {
   "cell_type": "markdown",
   "metadata": {},
   "source": [
    "### Evaluating our model"
   ]
  },
  {
   "cell_type": "markdown",
   "metadata": {},
   "source": [
    "#### Validation set"
   ]
  },
  {
   "cell_type": "code",
   "execution_count": 84,
   "metadata": {
    "ExecuteTime": {
     "end_time": "2018-12-03T12:14:45.679658Z",
     "start_time": "2018-12-03T12:14:25.543899Z"
    }
   },
   "outputs": [
    {
     "name": "stdout",
     "output_type": "stream",
     "text": [
      "True Positives per class :  [ 471.  349.  466. 1321.]\n",
      "False Positives per class :  [ 82.  56.  81. 190.]\n",
      "False Negatives per class :  [107.  74.  73. 155.]\n",
      "\n",
      "Class angry : Precision : 0.852, Recall : 0.815, F1 : 0.833\n",
      "Class happy : Precision : 0.862, Recall : 0.825, F1 : 0.843\n",
      "Class sad : Precision : 0.852, Recall : 0.865, F1 : 0.858\n",
      "\n",
      "Ignoring the Others class, Macro Precision : 0.8551, Macro Recall : 0.8348, Macro F1 : 0.8449\n",
      "Ignoring the Others class, Micro TP : 1286, FP : 219, FN : 254\n",
      "\n",
      "Accuracy : 0.8644, Micro Precision : 0.8545, Micro Recall : 0.8351, Micro F1 : 0.8447\n"
     ]
    },
    {
     "data": {
      "image/png": "[encoded data removed]",
      "text/plain": [
       "<Figure size 504x360 with 2 Axes>"
      ]
     },
     "metadata": {
      "needs_background": "light"
     },
     "output_type": "display_data"
    }
   ],
   "source": [
    "y_pred_val = get_predictions(model, x_val, y_val)"
   ]
  },
  {
   "cell_type": "markdown",
   "metadata": {},
   "source": [
    "#### Test set"
   ]
  },
  {
   "cell_type": "code",
   "execution_count": 83,
   "metadata": {
    "ExecuteTime": {
     "end_time": "2018-12-03T12:14:16.358775Z",
     "start_time": "2018-12-03T12:13:55.593343Z"
    }
   },
   "outputs": [
    {
     "name": "stdout",
     "output_type": "stream",
     "text": [
      "True Positives per class :  [ 470.  339.  507. 1347.]\n",
      "False Positives per class :  [ 66.  57.  55. 175.]\n",
      "False Negatives per class :  [ 81.  68.  73. 131.]\n",
      "\n",
      "Class angry : Precision : 0.877, Recall : 0.853, F1 : 0.865\n",
      "Class happy : Precision : 0.856, Recall : 0.833, F1 : 0.844\n",
      "Class sad : Precision : 0.902, Recall : 0.874, F1 : 0.888\n",
      "\n",
      "Ignoring the Others class, Macro Precision : 0.8784, Macro Recall : 0.8534, Macro F1 : 0.8657\n",
      "Ignoring the Others class, Micro TP : 1316, FP : 178, FN : 222\n",
      "\n",
      "Accuracy : 0.8830, Micro Precision : 0.8809, Micro Recall : 0.8557, Micro F1 : 0.8681\n"
     ]
    },
    {
     "data": {
      "image/png": "[encoded data removed]",
      "text/plain": [
       "<Figure size 504x360 with 2 Axes>"
      ]
     },
     "metadata": {
      "needs_background": "light"
     },
     "output_type": "display_data"
    }
   ],
   "source": [
    "y_pred_tst = get_predictions(model, x_tst, y_tst)"
   ]
  },
  {
   "cell_type": "code",
   "execution_count": 85,
   "metadata": {
    "ExecuteTime": {
     "end_time": "2018-12-03T12:19:22.183994Z",
     "start_time": "2018-12-03T12:19:19.636763Z"
    }
   },
   "outputs": [],
   "source": [
    "model.save('pickles/models/tst_acc_0.88-tst_f1_0.868.h5')"
   ]
  },
  {
   "cell_type": "code",
   "execution_count": 90,
   "metadata": {
    "ExecuteTime": {
     "end_time": "2018-12-03T12:25:41.766666Z",
     "start_time": "2018-12-03T12:25:41.682775Z"
    }
   },
   "outputs": [
    {
     "ename": "KeyError",
     "evalue": "'<eos>'",
     "output_type": "error",
     "traceback": [
      "\u001b[0;31m---------------------------------------------------------------------------\u001b[0m",
      "\u001b[0;31mKeyError\u001b[0m                                  Traceback (most recent call last)",
      "\u001b[0;32m<ipython-input-90-3e1a1a9b0d84>\u001b[0m in \u001b[0;36m<module>\u001b[0;34m()\u001b[0m\n\u001b[0;32m----> 1\u001b[0;31m \u001b[0mword_index\u001b[0m\u001b[0;34m[\u001b[0m\u001b[0;34m'<eos>'\u001b[0m\u001b[0;34m]\u001b[0m\u001b[0;34m\u001b[0m\u001b[0m\n\u001b[0m",
      "\u001b[0;31mKeyError\u001b[0m: '<eos>'"
     ]
    }
   ],
   "source": [
    "word_index['<eos>']"
   ]
  },
  {
   "cell_type": "code",
   "execution_count": 92,
   "metadata": {
    "ExecuteTime": {
     "end_time": "2018-12-03T12:26:33.363362Z",
     "start_time": "2018-12-03T12:26:33.276196Z"
    }
   },
   "outputs": [
    {
     "data": {
      "text/plain": [
       "True"
      ]
     },
     "execution_count": 92,
     "metadata": {},
     "output_type": "execute_result"
    }
   ],
   "source": [
    "'<eos>' in vocab"
   ]
  },
  {
   "cell_type": "code",
   "execution_count": null,
   "metadata": {},
   "outputs": [],
   "source": []
  }
 ],
 "metadata": {
  "kernelspec": {
   "display_name": "Python 3",
   "language": "python",
   "name": "python3"
  },
  "language_info": {
   "codemirror_mode": {
    "name": "ipython",
    "version": 3
   },
   "file_extension": ".py",
   "mimetype": "text/x-python",
   "name": "python",
   "nbconvert_exporter": "python",
   "pygments_lexer": "ipython3",
   "version": "3.6.6"
  }
 },
 "nbformat": 4,
 "nbformat_minor": 2
}
