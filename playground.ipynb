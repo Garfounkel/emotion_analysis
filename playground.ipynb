{
 "cells": [
  {
   "cell_type": "code",
   "execution_count": 1,
   "metadata": {
    "ExecuteTime": {
     "end_time": "2018-12-03T10:45:09.179216Z",
     "start_time": "2018-12-03T10:45:09.140634Z"
    }
   },
   "outputs": [],
   "source": [
    "%load_ext autoreload\n",
    "%autoreload 2"
   ]
  },
  {
   "cell_type": "code",
   "execution_count": 270,
   "metadata": {
    "ExecuteTime": {
     "end_time": "2018-12-03T21:20:49.907340Z",
     "start_time": "2018-12-03T21:20:49.824929Z"
    }
   },
   "outputs": [],
   "source": [
    "import pandas as pd\n",
    "import numpy as np\n",
    "from keras.utils import to_categorical\n",
    "from keras.callbacks import ModelCheckpoint\n",
    "from keras.models import load_model\n",
    "from sklearn.utils import class_weight\n",
    "\n",
    "from src.embeddings import get_embedding_dictionnary, get_embeddings_and_word_index, sequences_to_index\n",
    "from src.dataset import load_dataset, load_datasets_and_vocab_pipeline, train_test_val_split\n",
    "from src.evaluate import get_metrics, get_predictions\n",
    "from src.models import model_mine\n",
    "from src.submission import generate_predictions\n",
    "\n",
    "embeddings_path = '../sentiment_analysis/data/embeddings/datastories.twitter.300d.txt'"
   ]
  },
  {
   "cell_type": "markdown",
   "metadata": {},
   "source": [
    "### Load and preprocess Train and Test"
   ]
  },
  {
   "cell_type": "code",
   "execution_count": 149,
   "metadata": {
    "ExecuteTime": {
     "end_time": "2018-12-03T16:24:09.810470Z",
     "start_time": "2018-12-03T16:23:43.270539Z"
    }
   },
   "outputs": [
    {
     "name": "stdout",
     "output_type": "stream",
     "text": [
      "Reading twitter - 1grams ...\n",
      "Reading twitter - 2grams ...\n",
      "Reading twitter - 1grams ...\n"
     ]
    },
    {
     "name": "stderr",
     "output_type": "stream",
     "text": [
      "Preprocessing...: 100%|██████████| 30160/30160 [00:12<00:00, 2353.91it/s]\n",
      "Preprocessing...: 100%|██████████| 2755/2755 [00:00<00:00, 2777.94it/s]\n",
      "Building vocabulary...: 100%|██████████| 32915/32915 [00:00<00:00, 128338.14it/s]\n"
     ]
    }
   ],
   "source": [
    "(X_train, y_train), _, (vocab, max_seq_len) = load_datasets_and_vocab_pipeline()"
   ]
  },
  {
   "cell_type": "code",
   "execution_count": 150,
   "metadata": {
    "ExecuteTime": {
     "end_time": "2018-12-03T16:24:09.884759Z",
     "start_time": "2018-12-03T16:24:09.815289Z"
    }
   },
   "outputs": [
    {
     "data": {
      "text/plain": [
       "((30160,), (30160,))"
      ]
     },
     "execution_count": 150,
     "metadata": {},
     "output_type": "execute_result"
    }
   ],
   "source": [
    "X_train.shape, X_train.values.shape"
   ]
  },
  {
   "cell_type": "markdown",
   "metadata": {},
   "source": [
    "### Compute the classes weights because our dataset is largely unbalanced"
   ]
  },
  {
   "cell_type": "code",
   "execution_count": 118,
   "metadata": {
    "ExecuteTime": {
     "end_time": "2018-12-03T15:33:47.553947Z",
     "start_time": "2018-12-03T15:33:47.507034Z"
    }
   },
   "outputs": [
    {
     "data": {
      "text/plain": [
       "array([1.36941518, 1.77704454, 1.38019403, 0.50441531])"
      ]
     },
     "execution_count": 118,
     "metadata": {},
     "output_type": "execute_result"
    }
   ],
   "source": [
    "cls_weights = class_weight.compute_class_weight('balanced', np.unique(y_train), y_train)\n",
    "cls_weights"
   ]
  },
  {
   "cell_type": "markdown",
   "metadata": {},
   "source": [
    "### Create an embedding matrix for our vocabulary"
   ]
  },
  {
   "cell_type": "code",
   "execution_count": 224,
   "metadata": {
    "ExecuteTime": {
     "end_time": "2018-12-03T19:55:00.806204Z",
     "start_time": "2018-12-03T19:55:00.538957Z"
    }
   },
   "outputs": [
    {
     "name": "stdout",
     "output_type": "stream",
     "text": [
      "8.84% of our vocabulary are unknown words to the embedding matrix\n"
     ]
    }
   ],
   "source": [
    "emb_matrix, word_index, unknown_words = get_embeddings_and_word_index(embeddings_path, max_seq_len, vocab)\n",
    "# Unknown words: 1303\n",
    "\n",
    "print(f'{len(unknown_words) / len(vocab) * 100:.2f}% of our vocabulary are unknown words to the embedding matrix')"
   ]
  },
  {
   "cell_type": "markdown",
   "metadata": {},
   "source": [
    "### Spellcheck testing"
   ]
  },
  {
   "cell_type": "code",
   "execution_count": 193,
   "metadata": {
    "ExecuteTime": {
     "end_time": "2018-12-03T19:25:21.277899Z",
     "start_time": "2018-12-03T19:25:21.136640Z"
    }
   },
   "outputs": [],
   "source": [
    "from autocorrect import spell"
   ]
  },
  {
   "cell_type": "code",
   "execution_count": 195,
   "metadata": {
    "ExecuteTime": {
     "end_time": "2018-12-03T19:29:09.514404Z",
     "start_time": "2018-12-03T19:29:09.390398Z"
    }
   },
   "outputs": [],
   "source": [
    "l_unkown = list(unknown_words.keys())"
   ]
  },
  {
   "cell_type": "code",
   "execution_count": 196,
   "metadata": {
    "ExecuteTime": {
     "end_time": "2018-12-03T19:30:56.164373Z",
     "start_time": "2018-12-03T19:30:18.449802Z"
    }
   },
   "outputs": [],
   "source": [
    "from multiprocessing import Pool\n",
    "\n",
    "def spellcheck(word):\n",
    "    return word, spell(word)\n",
    "\n",
    "with Pool(processes=6) as pool:\n",
    "    res = list(pool.map(spellcheck, l_unkown))\n",
    "    corr_2 = {k: v for (k,v) in res}"
   ]
  },
  {
   "cell_type": "code",
   "execution_count": 200,
   "metadata": {
    "ExecuteTime": {
     "end_time": "2018-12-03T19:37:18.013213Z",
     "start_time": "2018-12-03T19:37:10.376253Z"
    }
   },
   "outputs": [],
   "source": [
    "emb_dict = get_embedding_dictionnary(embeddings_path)"
   ]
  },
  {
   "cell_type": "code",
   "execution_count": 226,
   "metadata": {
    "ExecuteTime": {
     "end_time": "2018-12-03T19:55:02.866141Z",
     "start_time": "2018-12-03T19:55:02.801381Z"
    }
   },
   "outputs": [
    {
     "data": {
      "text/plain": [
       "535"
      ]
     },
     "execution_count": 226,
     "metadata": {},
     "output_type": "execute_result"
    }
   ],
   "source": [
    "still_unknown = defaultdict(int)\n",
    "\n",
    "for word, correction in corr_2.items():\n",
    "    correction = correction.lower()\n",
    "    if len(word) > 2 and word != correction:\n",
    "        index = word_index[word]\n",
    "        if correction in emb_dict:\n",
    "            emb_matrix[index] = emb_dict[correction]\n",
    "        elif correction in word_index:\n",
    "            print(f'{correction} (from {word}) in word_index')\n",
    "        else:\n",
    "            still_unknown[(word, correction)] += 1\n",
    "    else:\n",
    "        still_unknown[(word, correction)] += 1\n",
    "\n",
    "len(still_unknown)"
   ]
  },
  {
   "cell_type": "markdown",
   "metadata": {},
   "source": [
    "### Transforming our sequences of words to indexes"
   ]
  },
  {
   "cell_type": "code",
   "execution_count": 151,
   "metadata": {
    "ExecuteTime": {
     "end_time": "2018-12-03T16:24:22.133233Z",
     "start_time": "2018-12-03T16:24:09.888036Z"
    }
   },
   "outputs": [
    {
     "data": {
      "text/plain": [
       "(30160, 163)"
      ]
     },
     "execution_count": 151,
     "metadata": {},
     "output_type": "execute_result"
    }
   ],
   "source": [
    "X_train = sequences_to_index(X_train, word_index, max_seq_len)\n",
    "\n",
    "X_train.shape"
   ]
  },
  {
   "cell_type": "code",
   "execution_count": 152,
   "metadata": {
    "ExecuteTime": {
     "end_time": "2018-12-03T16:24:31.268496Z",
     "start_time": "2018-12-03T16:24:31.075863Z"
    }
   },
   "outputs": [
    {
     "name": "stdout",
     "output_type": "stream",
     "text": [
      "training set: 24128 samples\n",
      "validation set: 3016 samples\n",
      "validation_test set: 3016 samples\n",
      "x_train: (24128, 163)\n",
      "y_train: (24128, 4)\n"
     ]
    }
   ],
   "source": [
    "y_train = to_categorical(y_train, 4)\n",
    "(x_trn, y_trn), (x_val, y_val), (x_tst, y_tst) = train_test_val_split(X_train, y_train)\n",
    "\n",
    "print('training set: ' + str(len(x_trn)) + ' samples')\n",
    "print('validation set: ' + str(len(x_val)) + ' samples')\n",
    "print('validation_test set: ' + str(len(x_tst)) + ' samples')\n",
    "\n",
    "print('x_train:', x_trn.shape)\n",
    "print('y_train:', y_trn.shape)"
   ]
  },
  {
   "cell_type": "markdown",
   "metadata": {},
   "source": [
    "### Training"
   ]
  },
  {
   "cell_type": "code",
   "execution_count": 227,
   "metadata": {
    "ExecuteTime": {
     "end_time": "2018-12-03T19:55:31.741085Z",
     "start_time": "2018-12-03T19:55:19.659922Z"
    }
   },
   "outputs": [
    {
     "name": "stdout",
     "output_type": "stream",
     "text": [
      "_________________________________________________________________\n",
      "Layer (type)                 Output Shape              Param #   \n",
      "=================================================================\n",
      "embedding_layer (Embedding)  (None, 163, 300)          4424400   \n",
      "_________________________________________________________________\n",
      "dropout_10 (Dropout)         (None, 163, 300)          0         \n",
      "_________________________________________________________________\n",
      "bidirectional_7 (Bidirection (None, 163, 300)          541200    \n",
      "_________________________________________________________________\n",
      "dropout_11 (Dropout)         (None, 163, 300)          0         \n",
      "_________________________________________________________________\n",
      "bidirectional_8 (Bidirection (None, 163, 300)          541200    \n",
      "_________________________________________________________________\n",
      "dropout_12 (Dropout)         (None, 163, 300)          0         \n",
      "_________________________________________________________________\n",
      "flatten_4 (Flatten)          (None, 48900)             0         \n",
      "_________________________________________________________________\n",
      "dense_4 (Dense)              (None, 4)                 195604    \n",
      "=================================================================\n",
      "Total params: 5,702,404\n",
      "Trainable params: 1,278,004\n",
      "Non-trainable params: 4,424,400\n",
      "_________________________________________________________________\n",
      "None\n"
     ]
    }
   ],
   "source": [
    "model = model_mine(emb_matrix, max_seq_len)"
   ]
  },
  {
   "cell_type": "code",
   "execution_count": 228,
   "metadata": {
    "ExecuteTime": {
     "end_time": "2018-12-03T19:55:31.810129Z",
     "start_time": "2018-12-03T19:55:31.745011Z"
    }
   },
   "outputs": [],
   "source": [
    "checkpointer = ModelCheckpoint(filepath='pickles/models/best.h5', save_best_only=True, verbose=1)"
   ]
  },
  {
   "cell_type": "code",
   "execution_count": 229,
   "metadata": {
    "ExecuteTime": {
     "end_time": "2018-12-03T20:16:57.138296Z",
     "start_time": "2018-12-03T19:55:34.834101Z"
    }
   },
   "outputs": [
    {
     "name": "stdout",
     "output_type": "stream",
     "text": [
      "Train on 24128 samples, validate on 3016 samples\n",
      "Epoch 1/3\n",
      "24128/24128 [==============================] - 431s 18ms/step - loss: 0.7477 - acc: 0.7086 - val_loss: 0.5180 - val_acc: 0.8031\n",
      "\n",
      "Epoch 00001: val_loss improved from inf to 0.51801, saving model to pickles/models/best.h5\n",
      "Epoch 2/3\n",
      "24128/24128 [==============================] - 421s 17ms/step - loss: 0.4909 - acc: 0.8176 - val_loss: 0.4264 - val_acc: 0.8515\n",
      "\n",
      "Epoch 00002: val_loss improved from 0.51801 to 0.42639, saving model to pickles/models/best.h5\n",
      "Epoch 3/3\n",
      "24128/24128 [==============================] - 418s 17ms/step - loss: 0.4132 - acc: 0.8507 - val_loss: 0.3787 - val_acc: 0.8581\n",
      "\n",
      "Epoch 00003: val_loss improved from 0.42639 to 0.37867, saving model to pickles/models/best.h5\n"
     ]
    }
   ],
   "source": [
    "history = model.fit(x_trn, y_trn, batch_size=128, validation_data=(x_val, y_val), epochs=3, class_weight=cls_weights, callbacks=[checkpointer])"
   ]
  },
  {
   "cell_type": "code",
   "execution_count": null,
   "metadata": {
    "ExecuteTime": {
     "start_time": "2018-12-03T19:55:45.908Z"
    }
   },
   "outputs": [
    {
     "name": "stdout",
     "output_type": "stream",
     "text": [
      "Train on 24128 samples, validate on 3016 samples\n",
      "Epoch 1/6\n",
      "24128/24128 [==============================] - 422s 17ms/step - loss: 0.3567 - acc: 0.8693 - val_loss: 0.3294 - val_acc: 0.8863\n",
      "\n",
      "Epoch 00001: val_loss improved from 0.37867 to 0.32939, saving model to pickles/models/best.h5\n",
      "Epoch 2/6\n",
      "17280/24128 [====================>.........] - ETA: 1:52 - loss: 0.3109 - acc: 0.8858"
     ]
    }
   ],
   "source": [
    "history = model.fit(x_trn, y_trn, batch_size=128, validation_data=(x_val, y_val), epochs=6, class_weight=cls_weights, callbacks=[checkpointer])"
   ]
  },
  {
   "cell_type": "markdown",
   "metadata": {},
   "source": [
    "### Evaluating our model"
   ]
  },
  {
   "cell_type": "code",
   "execution_count": 271,
   "metadata": {
    "ExecuteTime": {
     "end_time": "2018-12-03T21:21:22.311205Z",
     "start_time": "2018-12-03T21:21:04.382224Z"
    }
   },
   "outputs": [],
   "source": [
    "model = load_model('pickles/models/best.h5')"
   ]
  },
  {
   "cell_type": "markdown",
   "metadata": {},
   "source": [
    "#### Validation set"
   ]
  },
  {
   "cell_type": "code",
   "execution_count": 272,
   "metadata": {
    "ExecuteTime": {
     "end_time": "2018-12-03T21:21:43.671631Z",
     "start_time": "2018-12-03T21:21:22.320823Z"
    }
   },
   "outputs": [
    {
     "name": "stdout",
     "output_type": "stream",
     "text": [
      "True Positives per class :  [ 478.  368.  466. 1380.]\n",
      "False Positives per class :  [ 69.  52.  40. 163.]\n",
      "False Negatives per class :  [ 80.  67.  73. 104.]\n",
      "\n",
      "Class angry : Precision : 0.874, Recall : 0.857, F1 : 0.865\n",
      "Class happy : Precision : 0.876, Recall : 0.846, F1 : 0.861\n",
      "Class sad : Precision : 0.921, Recall : 0.865, F1 : 0.892\n",
      "\n",
      "Ignoring the Others class, Macro Precision : 0.8903, Macro Recall : 0.8557, Macro F1 : 0.8727\n",
      "Ignoring the Others class, Micro TP : 1312, FP : 161, FN : 220\n",
      "\n",
      "Accuracy : 0.8926, Micro Precision : 0.8907, Micro Recall : 0.8564, Micro F1 : 0.8732\n"
     ]
    },
    {
     "data": {
      "image/png": "[encoded data removed]",
      "text/plain": [
       "<Figure size 504x360 with 2 Axes>"
      ]
     },
     "metadata": {
      "needs_background": "light"
     },
     "output_type": "display_data"
    }
   ],
   "source": [
    "y_pred_val = get_predictions(model, x_val, y_val) # Last Best"
   ]
  },
  {
   "cell_type": "markdown",
   "metadata": {},
   "source": [
    "#### Test set"
   ]
  },
  {
   "cell_type": "code",
   "execution_count": 273,
   "metadata": {
    "ExecuteTime": {
     "end_time": "2018-12-03T21:22:04.366986Z",
     "start_time": "2018-12-03T21:21:43.677004Z"
    }
   },
   "outputs": [
    {
     "name": "stdout",
     "output_type": "stream",
     "text": [
      "True Positives per class :  [ 474.  379.  492. 1356.]\n",
      "False Positives per class :  [ 59.  56.  47. 153.]\n",
      "False Negatives per class :  [ 70.  63.  59. 123.]\n",
      "\n",
      "Class angry : Precision : 0.889, Recall : 0.871, F1 : 0.880\n",
      "Class happy : Precision : 0.871, Recall : 0.857, F1 : 0.864\n",
      "Class sad : Precision : 0.913, Recall : 0.893, F1 : 0.903\n",
      "\n",
      "Ignoring the Others class, Macro Precision : 0.8911, Macro Recall : 0.8739, Macro F1 : 0.8824\n",
      "Ignoring the Others class, Micro TP : 1345, FP : 162, FN : 192\n",
      "\n",
      "Accuracy : 0.8956, Micro Precision : 0.8925, Micro Recall : 0.8751, Micro F1 : 0.8837\n"
     ]
    },
    {
     "data": {
      "image/png": "[encoded data removed]",
      "text/plain": [
       "<Figure size 504x360 with 2 Axes>"
      ]
     },
     "metadata": {
      "needs_background": "light"
     },
     "output_type": "display_data"
    }
   ],
   "source": [
    "y_pred_tst = get_predictions(model, x_tst, y_tst) # Last Best"
   ]
  },
  {
   "cell_type": "code",
   "execution_count": 276,
   "metadata": {
    "ExecuteTime": {
     "end_time": "2018-12-03T21:27:05.303604Z",
     "start_time": "2018-12-03T21:27:01.462190Z"
    }
   },
   "outputs": [],
   "source": [
    "model.save('pickles/models/val_acc_0.88-tst_f1_0.883-res_f1_?.h5')"
   ]
  },
  {
   "cell_type": "markdown",
   "metadata": {},
   "source": [
    "### Generating a submission file"
   ]
  },
  {
   "cell_type": "code",
   "execution_count": 277,
   "metadata": {
    "ExecuteTime": {
     "end_time": "2018-12-03T21:27:56.263049Z",
     "start_time": "2018-12-03T21:27:25.659732Z"
    }
   },
   "outputs": [
    {
     "name": "stdout",
     "output_type": "stream",
     "text": [
      "Loading dataset...\n",
      "Reading twitter - 1grams ...\n",
      "Reading twitter - 2grams ...\n"
     ]
    },
    {
     "name": "stderr",
     "output_type": "stream",
     "text": [
      "\r",
      "Preprocessing...:   0%|          | 0/2755 [00:00<?, ?it/s]"
     ]
    },
    {
     "name": "stdout",
     "output_type": "stream",
     "text": [
      "Reading twitter - 1grams ...\n"
     ]
    },
    {
     "name": "stderr",
     "output_type": "stream",
     "text": [
      "Preprocessing...: 100%|██████████| 2755/2755 [00:01<00:00, 2435.72it/s]\n"
     ]
    },
    {
     "name": "stdout",
     "output_type": "stream",
     "text": [
      "Generating Predictions...\n",
      "Done. Wrote submission.txt file at project's root\n"
     ]
    }
   ],
   "source": [
    "generate_predictions(model, 'data/test.txt', word_index=word_index)"
   ]
  },
  {
   "cell_type": "code",
   "execution_count": null,
   "metadata": {},
   "outputs": [],
   "source": []
  }
 ],
 "metadata": {
  "kernelspec": {
   "display_name": "Python 3",
   "language": "python",
   "name": "python3"
  },
  "language_info": {
   "codemirror_mode": {
    "name": "ipython",
    "version": 3
   },
   "file_extension": ".py",
   "mimetype": "text/x-python",
   "name": "python",
   "nbconvert_exporter": "python",
   "pygments_lexer": "ipython3",
   "version": "3.6.6"
  }
 },
 "nbformat": 4,
 "nbformat_minor": 2
}
