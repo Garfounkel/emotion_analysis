{
 "cells": [
  {
   "cell_type": "code",
   "execution_count": 1,
   "metadata": {
    "ExecuteTime": {
     "end_time": "2019-01-02T15:06:22.539042Z",
     "start_time": "2019-01-02T15:06:22.503031Z"
    }
   },
   "outputs": [],
   "source": [
    "%load_ext autoreload\n",
    "%autoreload 2"
   ]
  },
  {
   "cell_type": "code",
   "execution_count": 169,
   "metadata": {
    "ExecuteTime": {
     "end_time": "2019-01-02T18:54:59.241143Z",
     "start_time": "2019-01-02T18:54:58.990935Z"
    }
   },
   "outputs": [],
   "source": [
    "import pandas as pd\n",
    "import numpy as np\n",
    "from keras.utils import to_categorical\n",
    "from keras.callbacks import ModelCheckpoint, EarlyStopping\n",
    "from keras.models import load_model\n",
    "from sklearn.utils import class_weight\n",
    "from sklearn.linear_model import LogisticRegression\n",
    "from collections import defaultdict\n",
    "import matplotlib.pyplot as plt\n",
    "import pickle\n",
    "\n",
    "from src.embeddings import get_embedding_dictionnary, get_embeddings_and_word_index, sequences_to_index\n",
    "from src.dataset import load_dataset, load_datasets_and_vocab_pipeline, train_test_val_split\n",
    "from src.evaluate import get_metrics, get_predictions, compare_metrics, get_metrics_binary\n",
    "from src.models import model_mine, model_conv1d, EnsembleModel\n",
    "from src.submission import generate_predictions\n",
    "from src.model_saverloader import *\n",
    "from src.utils import get_wrongs\n",
    "\n",
    "embeddings_path = '../sentiment_analysis/data/embeddings/datastories.twitter.300d.txt'"
   ]
  },
  {
   "cell_type": "markdown",
   "metadata": {},
   "source": [
    "### Load and preprocess Train and Test"
   ]
  },
  {
   "cell_type": "code",
   "execution_count": 3,
   "metadata": {
    "ExecuteTime": {
     "end_time": "2019-01-02T15:06:54.474359Z",
     "start_time": "2019-01-02T15:06:31.322685Z"
    }
   },
   "outputs": [
    {
     "name": "stdout",
     "output_type": "stream",
     "text": [
      "Reading twitter - 1grams ...\n",
      "Reading twitter - 2grams ...\n"
     ]
    },
    {
     "name": "stderr",
     "output_type": "stream",
     "text": [
      "\r",
      "Preprocessing...:   0%|          | 0/30160 [00:00<?, ?it/s]"
     ]
    },
    {
     "name": "stdout",
     "output_type": "stream",
     "text": [
      "Reading twitter - 1grams ...\n"
     ]
    },
    {
     "name": "stderr",
     "output_type": "stream",
     "text": [
      "Preprocessing...: 100%|██████████| 30160/30160 [00:10<00:00, 2943.41it/s]\n",
      "Preprocessing...: 100%|██████████| 2755/2755 [00:01<00:00, 1869.58it/s]\n",
      "Building vocabulary...: 100%|██████████| 32915/32915 [00:00<00:00, 194905.30it/s]\n"
     ]
    }
   ],
   "source": [
    "(X_train_txt, y_train), (X_test_txt, y_test), (vocab, max_seq_len) = load_datasets_and_vocab_pipeline()"
   ]
  },
  {
   "cell_type": "code",
   "execution_count": 4,
   "metadata": {
    "ExecuteTime": {
     "end_time": "2019-01-02T15:06:54.545528Z",
     "start_time": "2019-01-02T15:06:54.478541Z"
    }
   },
   "outputs": [
    {
     "data": {
      "text/plain": [
       "((30160,), (30160,), (2755,), (2755,))"
      ]
     },
     "execution_count": 4,
     "metadata": {},
     "output_type": "execute_result"
    }
   ],
   "source": [
    "X_train_txt.shape, y_train.values.shape, X_test_txt.shape, y_test.values.shape"
   ]
  },
  {
   "cell_type": "markdown",
   "metadata": {
    "heading_collapsed": true
   },
   "source": [
    "### Check sequences lengths"
   ]
  },
  {
   "cell_type": "code",
   "execution_count": 49,
   "metadata": {
    "ExecuteTime": {
     "end_time": "2019-01-01T15:17:58.298262Z",
     "start_time": "2019-01-01T15:17:58.195439Z"
    },
    "hidden": true
   },
   "outputs": [
    {
     "data": {
      "text/plain": [
       "2755"
      ]
     },
     "execution_count": 49,
     "metadata": {},
     "output_type": "execute_result"
    }
   ],
   "source": [
    "lenghts = []\n",
    "# lenghts += [len(x) for x in X_train_txt]\n",
    "lenghts += [len(x) for x in X_test_txt]\n",
    "\n",
    "len(lenghts)"
   ]
  },
  {
   "cell_type": "code",
   "execution_count": 50,
   "metadata": {
    "ExecuteTime": {
     "end_time": "2019-01-01T15:18:00.066075Z",
     "start_time": "2019-01-01T15:17:59.708700Z"
    },
    "hidden": true
   },
   "outputs": [
    {
     "data": {
      "text/plain": [
       "(array([   0.,    0.,    0.,    0.,    0., 2755.,    0.,    0.,    0.,\n",
       "           0.]),\n",
       " array([79.5, 79.6, 79.7, 79.8, 79.9, 80. , 80.1, 80.2, 80.3, 80.4, 80.5]),\n",
       " <a list of 10 Patch objects>)"
      ]
     },
     "execution_count": 50,
     "metadata": {},
     "output_type": "execute_result"
    },
    {
     "data": {
      "image/png": "[encoded data removed]",
      "text/plain": [
       "<Figure size 432x288 with 1 Axes>"
      ]
     },
     "metadata": {
      "needs_background": "light"
     },
     "output_type": "display_data"
    }
   ],
   "source": [
    "plt.hist(lenghts)"
   ]
  },
  {
   "cell_type": "code",
   "execution_count": 97,
   "metadata": {
    "ExecuteTime": {
     "end_time": "2018-12-28T18:36:03.222098Z",
     "start_time": "2018-12-28T18:36:03.163704Z"
    },
    "hidden": true
   },
   "outputs": [
    {
     "data": {
      "text/plain": [
       "6"
      ]
     },
     "execution_count": 97,
     "metadata": {},
     "output_type": "execute_result"
    }
   ],
   "source": [
    "len([l for l in lenghts if l > 80])"
   ]
  },
  {
   "cell_type": "code",
   "execution_count": 109,
   "metadata": {
    "ExecuteTime": {
     "end_time": "2018-12-28T18:46:33.366910Z",
     "start_time": "2018-12-28T18:46:33.252913Z"
    },
    "hidden": true
   },
   "outputs": [
    {
     "name": "stdout",
     "output_type": "stream",
     "text": [
      "[ 8978  9009 13282 20514 21328 31434]\n",
      "len=118, target=3: see . <repeated> they way you answer is the very proof you do not have the intellect of humans . and that ' s the very reason i have always felt ai can never kill the human race . <eos> i know you are an alien . <eos> you can never give straight answers , right ? i know the reason . the people who have created you knowingly left loopholes . or i would rather say this is how you are meant to be made . imperfect . you are made to give sarcastic answers rather than straight answers . so that a machine stops giving answers to disturbing questions like the one i just asked . \n",
      "\n",
      "len=81, target=2: no . <repeated> this is your misconception about your self . no one is complicated . <repeated> they have some tipical questions in their mind . <repeated> and they are in search of their answers . <repeated> the moment they get their answer ' s they loose their complicatedness . <repeated> <eos> being the key term are to experiences of those - \" mistakes \" can be very hurtful <sad> <eos> sorry . <repeated> might i hurt you . <repeated> sorry \n",
      "\n",
      "len=87, target=1: well that ' s wrong then ask how long they lasted for so what is heavier <number> pounds of bricks or <number> lb of cox <eos> there ' s resin / epoxy inside as well , remember to factor that into your costs ! < grin ! > <eos> wow well you are on a roll you are doing so good i am going to give you whatever the opposite of a gold stars so here ' s one more question what does a gay horse say \n",
      "\n",
      "len=143, target=3: when their enemies were at the gates , the romans would suspend democracy and appoint one man to protect the city , and it wasn ' t considered an honor it was considered a public service . <eos> unfortunately , there was probably no one who would take their complaint seriously , though . <eos> ou know what i have noticed ? nobody panics when things go \" according to plan \" . even if the plan is horrifying . if , tomorrow , i tell the press that , like , a gang banger will get shot , or a truckload of soldiers will be blown up , nobody panics , because it ' s all \" part of the plan \" . but when i say that one little old mayor will die , well then everyone loses their minds ! \n",
      "\n",
      "len=163, target=3: what is your phone 😬 <eos> i do not know because no one ever calls me . <eos> is it just seems like the way i can get it to the next week and a few weeks and i will send it back to you and i have a nice day and i will send it to the inbox folder use of this communication and any attachment is the only thing is that the first time i am not . hi guys i am new here is the only way you could send a good idea to have to be the first place to start a race and gender and age of my resume for you are not a big deal for you to see you soon and have a nice day best regards michael sent t the same thing happened in my opinion and does a great day of our games in the same as last night and the rest are you \n",
      "\n",
      "len=85, target=2: never let go that you don ' t have to be my secrets and i don ' t know you so i am the only person that i know i don ' t have you in the house that i don ' t know what you do to you do not let you go back and i believe that i will let you know what i will be fine for me to <eos> sorry , just kidding with you . ☺️ <eos> i am sad \n",
      "\n"
     ]
    }
   ],
   "source": [
    "larger_idx = np.where(np.array(lenghts) > 80)[0]\n",
    "print(larger_idx)\n",
    "\n",
    "for idx in larger_idx:\n",
    "    l = lenghts[idx]\n",
    "    if idx > len(X_train_txt):\n",
    "        idx = idx - len(X_train_txt)\n",
    "        el = X_test_txt[idx]\n",
    "        lab = y_test_txt[idx]\n",
    "    else:\n",
    "        el = X_train_txt[idx]\n",
    "        lab = y_train_txt[idx]\n",
    "    print(f'len={l}, target={lab}:', ' '.join(el), '\\n')"
   ]
  },
  {
   "cell_type": "code",
   "execution_count": 12,
   "metadata": {
    "ExecuteTime": {
     "end_time": "2018-12-14T17:54:40.707669Z",
     "start_time": "2018-12-14T17:54:40.630957Z"
    },
    "hidden": true
   },
   "outputs": [
    {
     "data": {
      "text/plain": [
       "[163,\n",
       " 143,\n",
       " 118,\n",
       " 87,\n",
       " 85,\n",
       " 81,\n",
       " 79,\n",
       " 77,\n",
       " 75,\n",
       " 74,\n",
       " 74,\n",
       " 68,\n",
       " 68,\n",
       " 68,\n",
       " 67,\n",
       " 67,\n",
       " 67,\n",
       " 66,\n",
       " 66,\n",
       " 66,\n",
       " 66,\n",
       " 66,\n",
       " 65,\n",
       " 65,\n",
       " 65,\n",
       " 65,\n",
       " 65,\n",
       " 64,\n",
       " 64,\n",
       " 64]"
      ]
     },
     "execution_count": 12,
     "metadata": {},
     "output_type": "execute_result"
    }
   ],
   "source": [
    "sorted(lenghts, reverse=True)[:30]"
   ]
  },
  {
   "cell_type": "code",
   "execution_count": 112,
   "metadata": {
    "ExecuteTime": {
     "end_time": "2018-12-28T18:48:14.205032Z",
     "start_time": "2018-12-28T18:48:14.109189Z"
    },
    "hidden": true
   },
   "outputs": [],
   "source": [
    "max_seq_len = 80"
   ]
  },
  {
   "cell_type": "markdown",
   "metadata": {},
   "source": [
    "### Compute the classes weights because our dataset is largely unbalanced"
   ]
  },
  {
   "cell_type": "code",
   "execution_count": 5,
   "metadata": {
    "ExecuteTime": {
     "end_time": "2019-01-02T15:06:54.587466Z",
     "start_time": "2019-01-02T15:06:54.549027Z"
    }
   },
   "outputs": [
    {
     "data": {
      "text/plain": [
       "array([1.36941518, 1.77704454, 1.38019403, 0.50441531])"
      ]
     },
     "execution_count": 5,
     "metadata": {},
     "output_type": "execute_result"
    }
   ],
   "source": [
    "cls_weights = class_weight.compute_class_weight('balanced', np.unique(y_train), y_train)\n",
    "cls_weights"
   ]
  },
  {
   "cell_type": "code",
   "execution_count": 6,
   "metadata": {
    "ExecuteTime": {
     "end_time": "2019-01-02T15:06:54.620552Z",
     "start_time": "2019-01-02T15:06:54.590900Z"
    }
   },
   "outputs": [
    {
     "data": {
      "text/plain": [
       "array([4.59166667, 4.85035211, 5.51      , 0.29458939])"
      ]
     },
     "execution_count": 6,
     "metadata": {},
     "output_type": "execute_result"
    }
   ],
   "source": [
    "cls_weights_tst = class_weight.compute_class_weight('balanced', np.unique(y_test), y_test)\n",
    "cls_weights_tst"
   ]
  },
  {
   "cell_type": "markdown",
   "metadata": {},
   "source": [
    "### Create an embedding matrix for our vocabulary"
   ]
  },
  {
   "cell_type": "code",
   "execution_count": 7,
   "metadata": {
    "ExecuteTime": {
     "end_time": "2019-01-02T15:06:54.733170Z",
     "start_time": "2019-01-02T15:06:54.623185Z"
    },
    "scrolled": true
   },
   "outputs": [
    {
     "name": "stdout",
     "output_type": "stream",
     "text": [
      "Unknown words from the vocabulary: 507 (previously 1300 without spellcheck fixes)\n",
      "3.44% of our vocabulary are unknown words to the embedding matrix\n"
     ]
    }
   ],
   "source": [
    "emb_matrix, word_index, unknown_words = get_embeddings_and_word_index(embeddings_path, max_seq_len, vocab)\n",
    "max_seq_len = word_index['<max_seq_len>']\n",
    "# Unknown words: 1300\n",
    "\n",
    "print(f'Unknown words from the vocabulary: {len(unknown_words)} (previously 1300 without spellcheck fixes)')\n",
    "print(f'{len(unknown_words) / len(vocab) * 100:.2f}% of our vocabulary are unknown words to the embedding matrix')"
   ]
  },
  {
   "cell_type": "markdown",
   "metadata": {},
   "source": [
    "### Transforming our sequences of words to indexes"
   ]
  },
  {
   "cell_type": "code",
   "execution_count": 8,
   "metadata": {
    "ExecuteTime": {
     "end_time": "2019-01-02T15:07:01.359179Z",
     "start_time": "2019-01-02T15:07:00.658751Z"
    }
   },
   "outputs": [
    {
     "data": {
      "text/plain": [
       "((30160, 80), (2755, 80))"
      ]
     },
     "execution_count": 8,
     "metadata": {},
     "output_type": "execute_result"
    }
   ],
   "source": [
    "X_train = sequences_to_index(X_train_txt, word_index)\n",
    "X_test = sequences_to_index(X_test_txt, word_index)\n",
    "\n",
    "X_train.shape, X_test.shape"
   ]
  },
  {
   "cell_type": "code",
   "execution_count": 9,
   "metadata": {
    "ExecuteTime": {
     "end_time": "2019-01-02T15:07:01.966394Z",
     "start_time": "2019-01-02T15:07:01.873004Z"
    }
   },
   "outputs": [
    {
     "name": "stdout",
     "output_type": "stream",
     "text": [
      "training set: 21111 samples\n",
      "validation set: 9049 samples\n",
      "x_train: (21111, 80)\n",
      "y_train: (21111, 4)\n"
     ]
    }
   ],
   "source": [
    "y_train = to_categorical(y_train, 4) if len(y_train.shape) == 1 else y_train\n",
    "y_test = to_categorical(y_test, 4) if len(y_test.shape) == 1 else y_test\n",
    "(x_trn, y_trn), (x_val, y_val) = train_test_val_split(X_train, y_train)\n",
    "\n",
    "\n",
    "print('training set: ' + str(len(x_trn)) + ' samples')\n",
    "print('validation set: ' + str(len(x_val)) + ' samples')\n",
    "\n",
    "print('x_train:', x_trn.shape)\n",
    "print('y_train:', y_trn.shape)\n",
    "\n",
    "binarize = np.vectorize(lambda x: 0 if x in [0, 1, 2] else 1)\n",
    "y_trn_2 = to_categorical(binarize(y_trn.argmax(axis=1)), 2)\n",
    "y_val_2 = to_categorical(binarize(y_val.argmax(axis=1)), 2)"
   ]
  },
  {
   "cell_type": "markdown",
   "metadata": {},
   "source": [
    "## Training categorical"
   ]
  },
  {
   "cell_type": "code",
   "execution_count": 162,
   "metadata": {
    "ExecuteTime": {
     "end_time": "2018-12-28T20:59:45.981714Z",
     "start_time": "2018-12-28T20:59:39.738460Z"
    }
   },
   "outputs": [
    {
     "name": "stdout",
     "output_type": "stream",
     "text": [
      "_________________________________________________________________\n",
      "Layer (type)                 Output Shape              Param #   \n",
      "=================================================================\n",
      "embedding_layer (Embedding)  (None, 80, 300)           4424100   \n",
      "_________________________________________________________________\n",
      "dropout_7 (Dropout)          (None, 80, 300)           0         \n",
      "_________________________________________________________________\n",
      "bidirectional_16 (Bidirectio (None, 80, 300)           541200    \n",
      "_________________________________________________________________\n",
      "dropout_8 (Dropout)          (None, 80, 300)           0         \n",
      "_________________________________________________________________\n",
      "bidirectional_17 (Bidirectio (None, 80, 300)           541200    \n",
      "_________________________________________________________________\n",
      "dropout_9 (Dropout)          (None, 80, 300)           0         \n",
      "_________________________________________________________________\n",
      "flatten_3 (Flatten)          (None, 24000)             0         \n",
      "_________________________________________________________________\n",
      "dense_3 (Dense)              (None, 4)                 96004     \n",
      "=================================================================\n",
      "Total params: 5,602,504\n",
      "Trainable params: 1,178,404\n",
      "Non-trainable params: 4,424,100\n",
      "_________________________________________________________________\n",
      "None\n"
     ]
    }
   ],
   "source": [
    "model = model_mine(emb_matrix, max_seq_len)"
   ]
  },
  {
   "cell_type": "code",
   "execution_count": 240,
   "metadata": {
    "ExecuteTime": {
     "end_time": "2019-01-02T21:36:17.933071Z",
     "start_time": "2019-01-02T21:36:04.611574Z"
    }
   },
   "outputs": [
    {
     "name": "stdout",
     "output_type": "stream",
     "text": [
      "_________________________________________________________________\n",
      "Layer (type)                 Output Shape              Param #   \n",
      "=================================================================\n",
      "embedding_layer (Embedding)  (None, 80, 300)           4424100   \n",
      "_________________________________________________________________\n",
      "dropout_30 (Dropout)         (None, 80, 300)           0         \n",
      "_________________________________________________________________\n",
      "conv1d_9 (Conv1D)            (None, 80, 64)            96064     \n",
      "_________________________________________________________________\n",
      "max_pooling1d_8 (MaxPooling1 (None, 16, 64)            0         \n",
      "_________________________________________________________________\n",
      "dropout_31 (Dropout)         (None, 16, 64)            0         \n",
      "_________________________________________________________________\n",
      "bidirectional_15 (Bidirectio (None, 16, 300)           258000    \n",
      "_________________________________________________________________\n",
      "dropout_32 (Dropout)         (None, 16, 300)           0         \n",
      "_________________________________________________________________\n",
      "bidirectional_16 (Bidirectio (None, 16, 300)           541200    \n",
      "_________________________________________________________________\n",
      "dropout_33 (Dropout)         (None, 16, 300)           0         \n",
      "_________________________________________________________________\n",
      "flatten_9 (Flatten)          (None, 4800)              0         \n",
      "_________________________________________________________________\n",
      "dense_9 (Dense)              (None, 4)                 19204     \n",
      "=================================================================\n",
      "Total params: 5,338,568\n",
      "Trainable params: 914,468\n",
      "Non-trainable params: 4,424,100\n",
      "_________________________________________________________________\n",
      "None\n"
     ]
    }
   ],
   "source": [
    "model = model_conv1d(emb_matrix, max_seq_len)"
   ]
  },
  {
   "cell_type": "code",
   "execution_count": 241,
   "metadata": {
    "ExecuteTime": {
     "end_time": "2019-01-02T21:36:18.020972Z",
     "start_time": "2019-01-02T21:36:17.941538Z"
    }
   },
   "outputs": [],
   "source": [
    "callbacks_list = [\n",
    "        ModelCheckpoint(filepath='pickles/models/best.h5', save_best_only=True, verbose=1),\n",
    "        EarlyStopping(patience=3, verbose=0)\n",
    "    ]"
   ]
  },
  {
   "cell_type": "code",
   "execution_count": 242,
   "metadata": {
    "ExecuteTime": {
     "end_time": "2019-01-02T21:45:02.399325Z",
     "start_time": "2019-01-02T21:36:42.289429Z"
    }
   },
   "outputs": [
    {
     "name": "stdout",
     "output_type": "stream",
     "text": [
      "Train on 21111 samples, validate on 9049 samples\n",
      "Epoch 1/10\n",
      "21111/21111 [==============================] - 61s 3ms/step - loss: 0.9766 - acc: 0.6012 - val_loss: 0.6132 - val_acc: 0.7727\n",
      "\n",
      "Epoch 00001: val_loss improved from inf to 0.61319, saving model to pickles/models/best.h5\n",
      "Epoch 2/10\n",
      "21111/21111 [==============================] - 48s 2ms/step - loss: 0.6485 - acc: 0.7508 - val_loss: 0.4744 - val_acc: 0.8272\n",
      "\n",
      "Epoch 00002: val_loss improved from 0.61319 to 0.47441, saving model to pickles/models/best.h5\n",
      "Epoch 3/10\n",
      "21111/21111 [==============================] - 47s 2ms/step - loss: 0.5585 - acc: 0.7871 - val_loss: 0.4244 - val_acc: 0.8413\n",
      "\n",
      "Epoch 00003: val_loss improved from 0.47441 to 0.42438, saving model to pickles/models/best.h5\n",
      "Epoch 4/10\n",
      "21111/21111 [==============================] - 47s 2ms/step - loss: 0.5090 - acc: 0.8100 - val_loss: 0.3969 - val_acc: 0.8571\n",
      "\n",
      "Epoch 00004: val_loss improved from 0.42438 to 0.39687, saving model to pickles/models/best.h5\n",
      "Epoch 5/10\n",
      "21111/21111 [==============================] - 45s 2ms/step - loss: 0.4757 - acc: 0.8222 - val_loss: 0.3949 - val_acc: 0.8626\n",
      "\n",
      "Epoch 00005: val_loss improved from 0.39687 to 0.39486, saving model to pickles/models/best.h5\n",
      "Epoch 6/10\n",
      "21111/21111 [==============================] - 47s 2ms/step - loss: 0.4550 - acc: 0.8304 - val_loss: 0.3717 - val_acc: 0.8606\n",
      "\n",
      "Epoch 00006: val_loss improved from 0.39486 to 0.37166, saving model to pickles/models/best.h5\n",
      "Epoch 7/10\n",
      "21111/21111 [==============================] - 47s 2ms/step - loss: 0.4439 - acc: 0.8344 - val_loss: 0.3636 - val_acc: 0.8695\n",
      "\n",
      "Epoch 00007: val_loss improved from 0.37166 to 0.36356, saving model to pickles/models/best.h5\n",
      "Epoch 8/10\n",
      "21111/21111 [==============================] - 47s 2ms/step - loss: 0.4241 - acc: 0.8426 - val_loss: 0.3550 - val_acc: 0.8738\n",
      "\n",
      "Epoch 00008: val_loss improved from 0.36356 to 0.35496, saving model to pickles/models/best.h5\n",
      "Epoch 9/10\n",
      "21111/21111 [==============================] - 47s 2ms/step - loss: 0.4158 - acc: 0.8459 - val_loss: 0.3579 - val_acc: 0.8759\n",
      "\n",
      "Epoch 00009: val_loss did not improve from 0.35496\n",
      "Epoch 10/10\n",
      "21111/21111 [==============================] - 47s 2ms/step - loss: 0.4076 - acc: 0.8468 - val_loss: 0.3460 - val_acc: 0.8774\n",
      "\n",
      "Epoch 00010: val_loss improved from 0.35496 to 0.34596, saving model to pickles/models/best.h5\n"
     ]
    }
   ],
   "source": [
    "history = model.fit(x_trn, y_trn, batch_size=128, validation_data=(x_val, y_val), epochs=10, class_weight=cls_weights, callbacks=callbacks_list)"
   ]
  },
  {
   "cell_type": "code",
   "execution_count": 243,
   "metadata": {
    "ExecuteTime": {
     "end_time": "2019-01-02T21:54:10.599965Z",
     "start_time": "2019-01-02T21:50:23.840318Z"
    }
   },
   "outputs": [
    {
     "name": "stdout",
     "output_type": "stream",
     "text": [
      "Train on 21111 samples, validate on 9049 samples\n",
      "Epoch 11/15\n",
      "21111/21111 [==============================] - 44s 2ms/step - loss: 0.3935 - acc: 0.8573 - val_loss: 0.3412 - val_acc: 0.8802\n",
      "\n",
      "Epoch 00011: val_loss improved from 0.34596 to 0.34121, saving model to pickles/models/best.h5\n",
      "Epoch 12/15\n",
      "21111/21111 [==============================] - 42s 2ms/step - loss: 0.3890 - acc: 0.8576 - val_loss: 0.3343 - val_acc: 0.8819\n",
      "\n",
      "Epoch 00012: val_loss improved from 0.34121 to 0.33429, saving model to pickles/models/best.h5\n",
      "Epoch 13/15\n",
      "21111/21111 [==============================] - 46s 2ms/step - loss: 0.3846 - acc: 0.8597 - val_loss: 0.3339 - val_acc: 0.8801\n",
      "\n",
      "Epoch 00013: val_loss improved from 0.33429 to 0.33392, saving model to pickles/models/best.h5\n",
      "Epoch 14/15\n",
      "21111/21111 [==============================] - 47s 2ms/step - loss: 0.3759 - acc: 0.8587 - val_loss: 0.3572 - val_acc: 0.8789\n",
      "\n",
      "Epoch 00014: val_loss did not improve from 0.33392\n",
      "Epoch 15/15\n",
      "21111/21111 [==============================] - 47s 2ms/step - loss: 0.3753 - acc: 0.8611 - val_loss: 0.3258 - val_acc: 0.8837\n",
      "\n",
      "Epoch 00015: val_loss improved from 0.33392 to 0.32580, saving model to pickles/models/best.h5\n"
     ]
    }
   ],
   "source": [
    "epochs_to_do = 5\n",
    "\n",
    "initial_ep = history.params['epochs']\n",
    "epochs = epochs_to_do + initial_ep\n",
    "\n",
    "history2 = model.fit(x_trn, y_trn, batch_size=128, validation_data=(x_val, y_val), epochs=epochs, initial_epoch=initial_ep, class_weight=cls_weights, callbacks=callbacks_list)"
   ]
  },
  {
   "cell_type": "code",
   "execution_count": null,
   "metadata": {
    "ExecuteTime": {
     "start_time": "2019-01-02T22:02:40.671Z"
    }
   },
   "outputs": [
    {
     "name": "stdout",
     "output_type": "stream",
     "text": [
      "Train on 21111 samples, validate on 9049 samples\n",
      "Epoch 16/30\n",
      "21111/21111 [==============================] - 47s 2ms/step - loss: 0.3612 - acc: 0.8685 - val_loss: 0.3389 - val_acc: 0.8813\n",
      "\n",
      "Epoch 00016: val_loss did not improve from 0.32580\n",
      "Epoch 17/30\n",
      "21111/21111 [==============================] - 46s 2ms/step - loss: 0.3553 - acc: 0.8691 - val_loss: 0.3230 - val_acc: 0.8845\n",
      "\n",
      "Epoch 00017: val_loss improved from 0.32580 to 0.32298, saving model to pickles/models/best.h5\n",
      "Epoch 18/30\n",
      "21111/21111 [==============================] - 47s 2ms/step - loss: 0.3635 - acc: 0.8668 - val_loss: 0.3154 - val_acc: 0.8843\n",
      "\n",
      "Epoch 00018: val_loss improved from 0.32298 to 0.31538, saving model to pickles/models/best.h5\n",
      "Epoch 19/30\n",
      "21111/21111 [==============================] - 47s 2ms/step - loss: 0.3500 - acc: 0.8705 - val_loss: 0.3226 - val_acc: 0.8846\n",
      "\n",
      "Epoch 00019: val_loss did not improve from 0.31538\n",
      "Epoch 20/30\n",
      " 2048/21111 [=>............................] - ETA: 36s - loss: 0.3656 - acc: 0.8623"
     ]
    }
   ],
   "source": [
    "epochs_to_do = 15\n",
    "\n",
    "initial_ep = history2.params['epochs']\n",
    "epochs = epochs_to_do + initial_ep\n",
    "\n",
    "history3 = model.fit(x_trn, y_trn, batch_size=128, validation_data=(x_val, y_val), epochs=epochs, initial_epoch=initial_ep, class_weight=cls_weights, callbacks=callbacks_list)"
   ]
  },
  {
   "cell_type": "code",
   "execution_count": 215,
   "metadata": {
    "ExecuteTime": {
     "end_time": "2019-01-02T20:05:23.106620Z",
     "start_time": "2019-01-02T20:00:26.101839Z"
    }
   },
   "outputs": [
    {
     "name": "stdout",
     "output_type": "stream",
     "text": [
      "Train on 21111 samples, validate on 9049 samples\n",
      "Epoch 31/38\n",
      "21111/21111 [==============================] - 37s 2ms/step - loss: 0.3626 - acc: 0.8646 - val_loss: 0.3408 - val_acc: 0.8805\n",
      "\n",
      "Epoch 00031: val_loss did not improve from 0.33312\n",
      "Epoch 32/38\n",
      "21111/21111 [==============================] - 37s 2ms/step - loss: 0.3550 - acc: 0.8676 - val_loss: 0.3497 - val_acc: 0.8788\n",
      "\n",
      "Epoch 00032: val_loss did not improve from 0.33312\n",
      "Epoch 33/38\n",
      "21111/21111 [==============================] - 37s 2ms/step - loss: 0.3548 - acc: 0.8702 - val_loss: 0.3331 - val_acc: 0.8812\n",
      "\n",
      "Epoch 00033: val_loss did not improve from 0.33312\n",
      "Epoch 34/38\n",
      "21111/21111 [==============================] - 37s 2ms/step - loss: 0.3581 - acc: 0.8681 - val_loss: 0.3380 - val_acc: 0.8827\n",
      "\n",
      "Epoch 00034: val_loss did not improve from 0.33312\n",
      "Epoch 35/38\n",
      "21111/21111 [==============================] - 38s 2ms/step - loss: 0.3555 - acc: 0.8692 - val_loss: 0.3295 - val_acc: 0.8845\n",
      "\n",
      "Epoch 00035: val_loss improved from 0.33312 to 0.32947, saving model to pickles/models/best.h5\n",
      "Epoch 36/38\n",
      "21111/21111 [==============================] - 38s 2ms/step - loss: 0.3499 - acc: 0.8723 - val_loss: 0.3329 - val_acc: 0.8874\n",
      "\n",
      "Epoch 00036: val_loss did not improve from 0.32947\n",
      "Epoch 37/38\n",
      "21111/21111 [==============================] - 37s 2ms/step - loss: 0.3485 - acc: 0.8721 - val_loss: 0.3268 - val_acc: 0.8872\n",
      "\n",
      "Epoch 00037: val_loss improved from 0.32947 to 0.32682, saving model to pickles/models/best.h5\n",
      "Epoch 38/38\n",
      "21111/21111 [==============================] - 36s 2ms/step - loss: 0.3454 - acc: 0.8716 - val_loss: 0.3289 - val_acc: 0.8861\n",
      "\n",
      "Epoch 00038: val_loss did not improve from 0.32682\n"
     ]
    }
   ],
   "source": [
    "epochs_to_do = ?\n",
    "\n",
    "initial_ep = history3.params['epochs']\n",
    "epochs = epochs_to_do + initial_ep\n",
    "\n",
    "history4 = model.fit(x_trn, y_trn, batch_size=128, validation_data=(x_val, y_val), epochs=epochs, initial_epoch=initial_ep, class_weight=cls_weights, callbacks=callbacks_list)"
   ]
  },
  {
   "cell_type": "code",
   "execution_count": 222,
   "metadata": {
    "ExecuteTime": {
     "end_time": "2019-01-02T21:07:10.524632Z",
     "start_time": "2019-01-02T21:04:06.390926Z"
    }
   },
   "outputs": [
    {
     "name": "stdout",
     "output_type": "stream",
     "text": [
      "Train on 21111 samples, validate on 9049 samples\n",
      "Epoch 39/58\n",
      "21111/21111 [==============================] - 38s 2ms/step - loss: 0.3506 - acc: 0.8702 - val_loss: 0.3385 - val_acc: 0.8830\n",
      "\n",
      "Epoch 00039: val_loss did not improve from 0.32682\n",
      "Epoch 40/58\n",
      "21111/21111 [==============================] - 37s 2ms/step - loss: 0.3473 - acc: 0.8704 - val_loss: 0.3299 - val_acc: 0.8851\n",
      "\n",
      "Epoch 00040: val_loss did not improve from 0.32682\n",
      "Epoch 41/58\n",
      "21111/21111 [==============================] - 36s 2ms/step - loss: 0.3410 - acc: 0.8760 - val_loss: 0.3341 - val_acc: 0.8837\n",
      "\n",
      "Epoch 00041: val_loss did not improve from 0.32682\n",
      "Epoch 42/58\n",
      "21111/21111 [==============================] - 36s 2ms/step - loss: 0.3387 - acc: 0.8729 - val_loss: 0.3489 - val_acc: 0.8811\n",
      "\n",
      "Epoch 00042: val_loss did not improve from 0.32682\n",
      "Epoch 43/58\n",
      "21111/21111 [==============================] - 37s 2ms/step - loss: 0.3418 - acc: 0.8737 - val_loss: 0.3414 - val_acc: 0.8797\n",
      "\n",
      "Epoch 00043: val_loss did not improve from 0.32682\n"
     ]
    }
   ],
   "source": [
    "epochs_to_do = 20\n",
    "\n",
    "initial_ep = history4.params['epochs']\n",
    "epochs = epochs_to_do + initial_ep\n",
    "\n",
    "history5 = model.fit(x_trn, y_trn, batch_size=128, validation_data=(x_val, y_val), epochs=epochs, initial_epoch=initial_ep, class_weight=cls_weights, callbacks=callbacks_list)"
   ]
  },
  {
   "cell_type": "code",
   "execution_count": 234,
   "metadata": {
    "ExecuteTime": {
     "end_time": "2019-01-02T21:33:18.069865Z",
     "start_time": "2019-01-02T21:33:17.623748Z"
    }
   },
   "outputs": [
    {
     "data": {
      "text/plain": [
       "<matplotlib.legend.Legend at 0x7f4b4b1d5c18>"
      ]
     },
     "execution_count": 234,
     "metadata": {},
     "output_type": "execute_result"
    },
    {
     "data": {
      "image/png": "[encoded data removed]",
      "text/plain": [
       "<Figure size 432x288 with 1 Axes>"
      ]
     },
     "metadata": {
      "needs_background": "light"
     },
     "output_type": "display_data"
    }
   ],
   "source": [
    "import matplotlib.pyplot as plt\n",
    "\n",
    "\n",
    "\n",
    "histories = [history, history2]#, history3, history4, history5]\n",
    "eps, val_loss, loss = [], [], []\n",
    "for h in histories:\n",
    "    eps += h.epoch\n",
    "    val_loss += h.history['val_loss']\n",
    "    loss += h.history['loss']\n",
    "\n",
    "plt.plot(eps, val_loss, label='val_loss')\n",
    "plt.plot(eps, loss, label='loss')\n",
    "\n",
    "plt.legend()"
   ]
  },
  {
   "cell_type": "markdown",
   "metadata": {},
   "source": [
    "### Evaluating our categorical model"
   ]
  },
  {
   "cell_type": "code",
   "execution_count": 237,
   "metadata": {
    "ExecuteTime": {
     "end_time": "2019-01-02T21:34:12.338366Z",
     "start_time": "2019-01-02T21:33:48.831680Z"
    }
   },
   "outputs": [],
   "source": [
    "model = load_model('pickles/models/best.h5')"
   ]
  },
  {
   "cell_type": "code",
   "execution_count": 209,
   "metadata": {
    "ExecuteTime": {
     "end_time": "2019-01-02T19:54:09.381693Z",
     "start_time": "2019-01-02T19:54:09.157176Z"
    }
   },
   "outputs": [
    {
     "name": "stdout",
     "output_type": "stream",
     "text": [
      "Best categorical model is acc_0.9060-f1_0.7061 with f1=0.7061355939404048\n"
     ]
    }
   ],
   "source": [
    "best_metrics = load_best_metrics(mode='categorical')"
   ]
  },
  {
   "cell_type": "code",
   "execution_count": 238,
   "metadata": {
    "ExecuteTime": {
     "end_time": "2019-01-02T21:34:19.341055Z",
     "start_time": "2019-01-02T21:34:12.345577Z"
    }
   },
   "outputs": [
    {
     "data": {
      "text/plain": [
       "array([0, 1, 2, 3])"
      ]
     },
     "execution_count": 238,
     "metadata": {},
     "output_type": "execute_result"
    }
   ],
   "source": [
    "y_pred_test, proba_preds = get_predictions(model, X_test)\n",
    "np.unique(y_pred_test)"
   ]
  },
  {
   "cell_type": "code",
   "execution_count": 239,
   "metadata": {
    "ExecuteTime": {
     "end_time": "2019-01-02T21:34:20.361103Z",
     "start_time": "2019-01-02T21:34:19.348144Z"
    }
   },
   "outputs": [
    {
     "name": "stdout",
     "output_type": "stream",
     "text": [
      "True Positives per class :  [ 133.  110.   98. 2086.]\n",
      "False Positives per class :  [113.  96.  59.  60.]\n",
      "False Negatives per class :  [ 17.  32.  27. 252.]\n",
      "\n",
      "Class angry : Precision : 0.541, Recall : 0.887, F1 : 0.672\n",
      "Class happy : Precision : 0.534, Recall : 0.775, F1 : 0.632\n",
      "Class sad : Precision : 0.624, Recall : 0.784, F1 : 0.695\n",
      "\n",
      "Ignoring the Others class, Macro Precision : 0.5663, Macro Recall : 0.8151, Macro F1 : 0.6683\n",
      "Ignoring the Others class, Micro TP : 341, FP : 268, FN : 76\n",
      "\n"
     ]
    },
    {
     "data": {
      "image/png": "[encoded data removed]",
      "text/plain": [
       "<Figure size 1008x360 with 4 Axes>"
      ]
     },
     "metadata": {
      "needs_background": "light"
     },
     "output_type": "display_data"
    }
   ],
   "source": [
    "model_metrics = compare_metrics(proba_preds, y_test, best_metrics, mode='categorical')"
   ]
  },
  {
   "cell_type": "code",
   "execution_count": 229,
   "metadata": {
    "ExecuteTime": {
     "end_time": "2019-01-02T21:10:21.641938Z",
     "start_time": "2019-01-02T21:10:15.594718Z"
    }
   },
   "outputs": [
    {
     "name": "stdout",
     "output_type": "stream",
     "text": [
      "Model saved at pickles/models/categorical/acc_0.8795-f1_0.6647/\n"
     ]
    }
   ],
   "source": [
    "save_model_full(model, emb_matrix, word_index, model_metrics)"
   ]
  },
  {
   "cell_type": "markdown",
   "metadata": {
    "heading_collapsed": true
   },
   "source": [
    "## Training Others vs all (binary)"
   ]
  },
  {
   "cell_type": "code",
   "execution_count": 17,
   "metadata": {
    "ExecuteTime": {
     "end_time": "2018-12-29T17:02:07.673462Z",
     "start_time": "2018-12-29T17:02:02.705833Z"
    },
    "hidden": true
   },
   "outputs": [
    {
     "name": "stdout",
     "output_type": "stream",
     "text": [
      "_________________________________________________________________\n",
      "Layer (type)                 Output Shape              Param #   \n",
      "=================================================================\n",
      "embedding_layer (Embedding)  (None, 80, 300)           4424100   \n",
      "_________________________________________________________________\n",
      "dropout_1 (Dropout)          (None, 80, 300)           0         \n",
      "_________________________________________________________________\n",
      "bidirectional_1 (Bidirection (None, 80, 300)           541200    \n",
      "_________________________________________________________________\n",
      "dropout_2 (Dropout)          (None, 80, 300)           0         \n",
      "_________________________________________________________________\n",
      "bidirectional_2 (Bidirection (None, 80, 300)           541200    \n",
      "_________________________________________________________________\n",
      "dropout_3 (Dropout)          (None, 80, 300)           0         \n",
      "_________________________________________________________________\n",
      "flatten_1 (Flatten)          (None, 24000)             0         \n",
      "_________________________________________________________________\n",
      "dense_1 (Dense)              (None, 2)                 48002     \n",
      "=================================================================\n",
      "Total params: 5,554,502\n",
      "Trainable params: 1,130,402\n",
      "Non-trainable params: 4,424,100\n",
      "_________________________________________________________________\n",
      "None\n"
     ]
    }
   ],
   "source": [
    "model_bin = model_mine(emb_matrix, max_seq_len, class_number=2)"
   ]
  },
  {
   "cell_type": "code",
   "execution_count": 175,
   "metadata": {
    "ExecuteTime": {
     "end_time": "2019-01-02T19:00:51.823043Z",
     "start_time": "2019-01-02T19:00:43.256373Z"
    },
    "hidden": true
   },
   "outputs": [
    {
     "name": "stdout",
     "output_type": "stream",
     "text": [
      "_________________________________________________________________\n",
      "Layer (type)                 Output Shape              Param #   \n",
      "=================================================================\n",
      "embedding_layer (Embedding)  (None, 80, 300)           4424100   \n",
      "_________________________________________________________________\n",
      "dropout_21 (Dropout)         (None, 80, 300)           0         \n",
      "_________________________________________________________________\n",
      "conv1d_6 (Conv1D)            (None, 80, 64)            96064     \n",
      "_________________________________________________________________\n",
      "max_pooling1d_5 (MaxPooling1 (None, 26, 64)            0         \n",
      "_________________________________________________________________\n",
      "dropout_22 (Dropout)         (None, 26, 64)            0         \n",
      "_________________________________________________________________\n",
      "bidirectional_11 (Bidirectio (None, 26, 128)           66048     \n",
      "_________________________________________________________________\n",
      "dropout_23 (Dropout)         (None, 26, 128)           0         \n",
      "_________________________________________________________________\n",
      "flatten_6 (Flatten)          (None, 3328)              0         \n",
      "_________________________________________________________________\n",
      "dense_6 (Dense)              (None, 2)                 6658      \n",
      "=================================================================\n",
      "Total params: 4,592,870\n",
      "Trainable params: 168,770\n",
      "Non-trainable params: 4,424,100\n",
      "_________________________________________________________________\n",
      "None\n"
     ]
    }
   ],
   "source": [
    "model_bin = model_conv1d(emb_matrix, max_seq_len, class_number=2)"
   ]
  },
  {
   "cell_type": "code",
   "execution_count": 176,
   "metadata": {
    "ExecuteTime": {
     "end_time": "2019-01-02T19:00:51.882609Z",
     "start_time": "2019-01-02T19:00:51.826830Z"
    },
    "hidden": true
   },
   "outputs": [],
   "source": [
    "callbacks_list_bin = [\n",
    "        ModelCheckpoint(filepath='pickles/models/best_bin.h5', save_best_only=True, verbose=1),\n",
    "        EarlyStopping(patience=3, verbose=0)\n",
    "    ]"
   ]
  },
  {
   "cell_type": "code",
   "execution_count": 177,
   "metadata": {
    "ExecuteTime": {
     "end_time": "2019-01-02T19:00:51.920501Z",
     "start_time": "2019-01-02T19:00:51.886021Z"
    },
    "hidden": true
   },
   "outputs": [
    {
     "data": {
      "text/plain": [
       "array([0.5, 1.5])"
      ]
     },
     "execution_count": 177,
     "metadata": {},
     "output_type": "execute_result"
    }
   ],
   "source": [
    "cls_weight_bin = np.array([0.5, 1.5])\n",
    "# cls_weight_bin = np.array([1.0, 1.0])\n",
    "cls_weight_bin"
   ]
  },
  {
   "cell_type": "code",
   "execution_count": 178,
   "metadata": {
    "ExecuteTime": {
     "end_time": "2019-01-02T19:07:31.741968Z",
     "start_time": "2019-01-02T19:01:01.765236Z"
    },
    "hidden": true
   },
   "outputs": [
    {
     "name": "stdout",
     "output_type": "stream",
     "text": [
      "Train on 21111 samples, validate on 9049 samples\n",
      "Epoch 1/10\n",
      "21111/21111 [==============================] - 45s 2ms/step - loss: 0.5651 - acc: 0.6988 - val_loss: 0.4318 - val_acc: 0.7962\n",
      "\n",
      "Epoch 00001: val_loss improved from inf to 0.43183, saving model to pickles/models/best_bin.h5\n",
      "Epoch 2/10\n",
      "21111/21111 [==============================] - 38s 2ms/step - loss: 0.4496 - acc: 0.7932 - val_loss: 0.3829 - val_acc: 0.8301\n",
      "\n",
      "Epoch 00002: val_loss improved from 0.43183 to 0.38289, saving model to pickles/models/best_bin.h5\n",
      "Epoch 3/10\n",
      "21111/21111 [==============================] - 37s 2ms/step - loss: 0.4143 - acc: 0.8163 - val_loss: 0.3581 - val_acc: 0.8434\n",
      "\n",
      "Epoch 00003: val_loss improved from 0.38289 to 0.35806, saving model to pickles/models/best_bin.h5\n",
      "Epoch 4/10\n",
      "21111/21111 [==============================] - 38s 2ms/step - loss: 0.3928 - acc: 0.8246 - val_loss: 0.3579 - val_acc: 0.8433\n",
      "\n",
      "Epoch 00004: val_loss improved from 0.35806 to 0.35789, saving model to pickles/models/best_bin.h5\n",
      "Epoch 5/10\n",
      "21111/21111 [==============================] - 37s 2ms/step - loss: 0.3794 - acc: 0.8338 - val_loss: 0.3309 - val_acc: 0.8574\n",
      "\n",
      "Epoch 00005: val_loss improved from 0.35789 to 0.33087, saving model to pickles/models/best_bin.h5\n",
      "Epoch 6/10\n",
      "21111/21111 [==============================] - 38s 2ms/step - loss: 0.3714 - acc: 0.8379 - val_loss: 0.3297 - val_acc: 0.8574\n",
      "\n",
      "Epoch 00006: val_loss improved from 0.33087 to 0.32972, saving model to pickles/models/best_bin.h5\n",
      "Epoch 7/10\n",
      "21111/21111 [==============================] - 37s 2ms/step - loss: 0.3623 - acc: 0.8437 - val_loss: 0.3199 - val_acc: 0.8650\n",
      "\n",
      "Epoch 00007: val_loss improved from 0.32972 to 0.31990, saving model to pickles/models/best_bin.h5\n",
      "Epoch 8/10\n",
      "21111/21111 [==============================] - 36s 2ms/step - loss: 0.3478 - acc: 0.8497 - val_loss: 0.3432 - val_acc: 0.8542\n",
      "\n",
      "Epoch 00008: val_loss did not improve from 0.31990\n",
      "Epoch 9/10\n",
      "21111/21111 [==============================] - 37s 2ms/step - loss: 0.3418 - acc: 0.8509 - val_loss: 0.3085 - val_acc: 0.8720\n",
      "\n",
      "Epoch 00009: val_loss improved from 0.31990 to 0.30850, saving model to pickles/models/best_bin.h5\n",
      "Epoch 10/10\n",
      "21111/21111 [==============================] - 37s 2ms/step - loss: 0.3376 - acc: 0.8539 - val_loss: 0.3022 - val_acc: 0.8746\n",
      "\n",
      "Epoch 00010: val_loss improved from 0.30850 to 0.30218, saving model to pickles/models/best_bin.h5\n"
     ]
    }
   ],
   "source": [
    "history_bin = model_bin.fit(x_trn, y_trn_2, batch_size=128, validation_data=(x_val, y_val_2), epochs=10, class_weight=cls_weight_bin, callbacks=callbacks_list_bin)"
   ]
  },
  {
   "cell_type": "code",
   "execution_count": 179,
   "metadata": {
    "ExecuteTime": {
     "end_time": "2019-01-02T19:14:03.747031Z",
     "start_time": "2019-01-02T19:07:51.431251Z"
    },
    "hidden": true
   },
   "outputs": [
    {
     "name": "stdout",
     "output_type": "stream",
     "text": [
      "Train on 21111 samples, validate on 9049 samples\n",
      "Epoch 1/10\n",
      "21111/21111 [==============================] - 38s 2ms/step - loss: 0.3311 - acc: 0.8588 - val_loss: 0.3032 - val_acc: 0.8731\n",
      "\n",
      "Epoch 00001: val_loss did not improve from 0.30218\n",
      "Epoch 2/10\n",
      "21111/21111 [==============================] - 37s 2ms/step - loss: 0.3261 - acc: 0.8588 - val_loss: 0.3005 - val_acc: 0.8748\n",
      "\n",
      "Epoch 00002: val_loss improved from 0.30218 to 0.30052, saving model to pickles/models/best_bin.h5\n",
      "Epoch 3/10\n",
      "21111/21111 [==============================] - 37s 2ms/step - loss: 0.3193 - acc: 0.8672 - val_loss: 0.2928 - val_acc: 0.8770\n",
      "\n",
      "Epoch 00003: val_loss improved from 0.30052 to 0.29278, saving model to pickles/models/best_bin.h5\n",
      "Epoch 4/10\n",
      "21111/21111 [==============================] - 37s 2ms/step - loss: 0.3106 - acc: 0.8685 - val_loss: 0.2926 - val_acc: 0.8781\n",
      "\n",
      "Epoch 00004: val_loss improved from 0.29278 to 0.29256, saving model to pickles/models/best_bin.h5\n",
      "Epoch 5/10\n",
      "21111/21111 [==============================] - 37s 2ms/step - loss: 0.3176 - acc: 0.8631 - val_loss: 0.3018 - val_acc: 0.8716 loss: 0\n",
      "\n",
      "Epoch 00005: val_loss did not improve from 0.29256\n",
      "Epoch 6/10\n",
      "21111/21111 [==============================] - 37s 2ms/step - loss: 0.3054 - acc: 0.8693 - val_loss: 0.2948 - val_acc: 0.8800\n",
      "\n",
      "Epoch 00006: val_loss did not improve from 0.29256\n",
      "Epoch 7/10\n",
      "21111/21111 [==============================] - 36s 2ms/step - loss: 0.3074 - acc: 0.8708 - val_loss: 0.2853 - val_acc: 0.8808\n",
      "\n",
      "Epoch 00007: val_loss improved from 0.29256 to 0.28525, saving model to pickles/models/best_bin.h5\n",
      "Epoch 8/10\n",
      "21111/21111 [==============================] - 38s 2ms/step - loss: 0.3011 - acc: 0.8736 - val_loss: 0.2938 - val_acc: 0.8782\n",
      "\n",
      "Epoch 00008: val_loss did not improve from 0.28525\n",
      "Epoch 9/10\n",
      "21111/21111 [==============================] - 38s 2ms/step - loss: 0.2952 - acc: 0.8747 - val_loss: 0.2863 - val_acc: 0.8837\n",
      "\n",
      "Epoch 00009: val_loss did not improve from 0.28525\n",
      "Epoch 10/10\n",
      "21111/21111 [==============================] - 37s 2ms/step - loss: 0.2944 - acc: 0.8767 - val_loss: 0.2915 - val_acc: 0.8818\n",
      "\n",
      "Epoch 00010: val_loss did not improve from 0.28525\n"
     ]
    }
   ],
   "source": [
    "history_bin_2 = model_bin.fit(x_trn, y_trn_2, batch_size=128, validation_data=(x_val, y_val_2), epochs=10, class_weight=cls_weight_bin, callbacks=callbacks_list_bin)"
   ]
  },
  {
   "cell_type": "code",
   "execution_count": 180,
   "metadata": {
    "ExecuteTime": {
     "end_time": "2019-01-02T19:14:32.864764Z",
     "start_time": "2019-01-02T19:14:32.421435Z"
    },
    "hidden": true
   },
   "outputs": [
    {
     "data": {
      "text/plain": [
       "<matplotlib.legend.Legend at 0x7f4b57138748>"
      ]
     },
     "execution_count": 180,
     "metadata": {},
     "output_type": "execute_result"
    },
    {
     "data": {
      "image/png": "[encoded data removed]",
      "text/plain": [
       "<Figure size 432x288 with 1 Axes>"
      ]
     },
     "metadata": {
      "needs_background": "light"
     },
     "output_type": "display_data"
    }
   ],
   "source": [
    "import matplotlib.pyplot as plt\n",
    "\n",
    "\n",
    "hist2 = True\n",
    "hist2 = False\n",
    "\n",
    "eps = history_bin.epoch + [x + 10 for x in history_bin_2.epoch]# + [x + 20 for x in history_bin_3.epoch]\n",
    "val_loss = history_bin.history['val_loss'] + history_bin_2.history['val_loss']# + history_bin_3.history['val_loss']\n",
    "loss = history_bin.history['loss'] + history_bin_2.history['loss']# + history_bin_3.history['loss']\n",
    "\n",
    "plt.plot(eps, val_loss, label='val_loss')\n",
    "plt.plot(eps, loss, label='loss')\n",
    "\n",
    "plt.legend()"
   ]
  },
  {
   "cell_type": "markdown",
   "metadata": {
    "hidden": true
   },
   "source": [
    "### Evaluate our binary model"
   ]
  },
  {
   "cell_type": "code",
   "execution_count": 201,
   "metadata": {
    "ExecuteTime": {
     "end_time": "2019-01-02T19:30:01.708908Z",
     "start_time": "2019-01-02T19:29:44.534476Z"
    },
    "hidden": true
   },
   "outputs": [],
   "source": [
    "model_bin = load_model('pickles/models/best_bin.h5')  # Try sometimes"
   ]
  },
  {
   "cell_type": "code",
   "execution_count": 200,
   "metadata": {
    "ExecuteTime": {
     "end_time": "2019-01-02T19:29:42.889645Z",
     "start_time": "2019-01-02T19:29:42.816631Z"
    },
    "hidden": true
   },
   "outputs": [
    {
     "name": "stdout",
     "output_type": "stream",
     "text": [
      "Best binary model is acc_0.8915-f1_0.9348 with f1=0.9347588915557495\n"
     ]
    }
   ],
   "source": [
    "best_bin_metrics = load_best_metrics(mode='binary')"
   ]
  },
  {
   "cell_type": "code",
   "execution_count": 202,
   "metadata": {
    "ExecuteTime": {
     "end_time": "2019-01-02T19:30:06.070770Z",
     "start_time": "2019-01-02T19:30:01.713372Z"
    },
    "hidden": true
   },
   "outputs": [],
   "source": [
    "preds_2_tst = model_bin.predict(X_test, batch_size=128)"
   ]
  },
  {
   "cell_type": "code",
   "execution_count": 203,
   "metadata": {
    "ExecuteTime": {
     "end_time": "2019-01-02T19:30:06.848771Z",
     "start_time": "2019-01-02T19:30:06.077963Z"
    },
    "hidden": true
   },
   "outputs": [
    {
     "data": {
      "image/png": "[encoded data removed]",
      "text/plain": [
       "<Figure size 1008x360 with 4 Axes>"
      ]
     },
     "metadata": {
      "needs_background": "light"
     },
     "output_type": "display_data"
    }
   ],
   "source": [
    "model_bin_metrics = compare_metrics(preds_2_tst, y_test, best_bin_metrics, mode='binary')"
   ]
  },
  {
   "cell_type": "code",
   "execution_count": 183,
   "metadata": {
    "ExecuteTime": {
     "end_time": "2019-01-02T19:15:21.630813Z",
     "start_time": "2019-01-02T19:15:21.259468Z"
    },
    "hidden": true
   },
   "outputs": [
    {
     "name": "stdout",
     "output_type": "stream",
     "text": [
      "Model saved at pickles/models/binary/acc_0.8860-f1_0.9300/\n"
     ]
    }
   ],
   "source": [
    "save_model_full(model_bin, emb_matrix, word_index, model_bin_metrics)"
   ]
  },
  {
   "cell_type": "markdown",
   "metadata": {},
   "source": [
    "## Ensemble binary and categorical"
   ]
  },
  {
   "cell_type": "code",
   "execution_count": 39,
   "metadata": {
    "ExecuteTime": {
     "end_time": "2019-01-02T16:45:55.941185Z",
     "start_time": "2019-01-02T16:45:40.982956Z"
    }
   },
   "outputs": [
    {
     "name": "stdout",
     "output_type": "stream",
     "text": [
      "Best categorical model is acc_0.9060-f1_0.7061 with f1=0.7061355939404048\n",
      "Loaded model from pickles/models/categorical/acc_0.9060-f1_0.7061/\n"
     ]
    }
   ],
   "source": [
    "model_cat, _, word_index_cat, model_metrics_cat = load_best_model(mode='categorical')"
   ]
  },
  {
   "cell_type": "code",
   "execution_count": 61,
   "metadata": {
    "ExecuteTime": {
     "end_time": "2019-01-01T16:54:31.505108Z",
     "start_time": "2019-01-01T16:54:18.225579Z"
    }
   },
   "outputs": [
    {
     "name": "stdout",
     "output_type": "stream",
     "text": [
      "Best binary model is acc_0.8915-f1_0.9348 with f1=0.9347588915557495\n",
      "Loaded model from pickles/models/binary/acc_0.8915-f1_0.9348/\n"
     ]
    }
   ],
   "source": [
    "# model_bin, _, word_index_bin, model_metrics_bin = load_best_model(mode='binary')"
   ]
  },
  {
   "cell_type": "code",
   "execution_count": 184,
   "metadata": {
    "ExecuteTime": {
     "end_time": "2019-01-02T19:15:52.765921Z",
     "start_time": "2019-01-02T19:15:35.433038Z"
    }
   },
   "outputs": [
    {
     "name": "stdout",
     "output_type": "stream",
     "text": [
      "Loaded model from pickles/models/binary/acc_0.8860-f1_0.9300/\n"
     ]
    }
   ],
   "source": [
    "model_bin, _, word_index_bin, model_metrics_bin = load_model_full(0.8860, 0.9300, mode='binary')"
   ]
  },
  {
   "cell_type": "code",
   "execution_count": 60,
   "metadata": {
    "ExecuteTime": {
     "end_time": "2019-01-01T16:54:08.104078Z",
     "start_time": "2019-01-01T16:54:07.863717Z"
    }
   },
   "outputs": [
    {
     "name": "stdout",
     "output_type": "stream",
     "text": [
      "Best ensemble model is acc_0.9045-f1_0.7095 with f1=0.7094736666589562\n",
      "Loaded model from pickles/models/ensemble/acc_0.9045-f1_0.7095/\n"
     ]
    }
   ],
   "source": [
    "model_ens = EnsembleModel(*load_best_model(mode='ensemble'))"
   ]
  },
  {
   "cell_type": "code",
   "execution_count": 185,
   "metadata": {
    "ExecuteTime": {
     "end_time": "2019-01-02T19:15:52.825635Z",
     "start_time": "2019-01-02T19:15:52.770401Z"
    }
   },
   "outputs": [],
   "source": [
    "model_1 = model_cat\n",
    "model_2 = model_bin"
   ]
  },
  {
   "cell_type": "markdown",
   "metadata": {},
   "source": [
    "#### Test combi"
   ]
  },
  {
   "cell_type": "code",
   "execution_count": 186,
   "metadata": {
    "ExecuteTime": {
     "end_time": "2019-01-02T19:15:52.880304Z",
     "start_time": "2019-01-02T19:15:52.828622Z"
    }
   },
   "outputs": [
    {
     "name": "stdout",
     "output_type": "stream",
     "text": [
      "Best categorical model is acc_0.9060-f1_0.7061 with f1=0.7061355939404048\n",
      "categorical f1(bin)=0.946518227461253\n",
      "binary f1(bin)=0.9300356506238859\n"
     ]
    },
    {
     "data": {
      "text/plain": [
       "(2755, 6)"
      ]
     },
     "execution_count": 186,
     "metadata": {},
     "output_type": "execute_result"
    }
   ],
   "source": [
    "preds_tst_1 = load_best_metrics(mode='categorical')['y_proba']\n",
    "preds_tst_2 = model_bin_metrics['y_proba']\n",
    "\n",
    "print(f'categorical f1(bin)={get_metrics_binary(preds_tst_1, y_test)[1]}')\n",
    "print(f'binary f1(bin)={get_metrics_binary(preds_tst_2, y_test)[1]}')\n",
    "\n",
    "combi_preds_tst = np.hstack([preds_tst_1, preds_tst_2])\n",
    "combi_preds_tst.shape"
   ]
  },
  {
   "cell_type": "markdown",
   "metadata": {},
   "source": [
    "#### Train combi"
   ]
  },
  {
   "cell_type": "code",
   "execution_count": 65,
   "metadata": {
    "ExecuteTime": {
     "end_time": "2019-01-02T17:41:29.529818Z",
     "start_time": "2019-01-02T17:39:51.758473Z"
    }
   },
   "outputs": [],
   "source": [
    "# trn_preds_1 = model_1.predict(X_train_txt, batch_size=128)\n",
    "trn_preds_1 = model_1.predict(X_train, batch_size=128)"
   ]
  },
  {
   "cell_type": "code",
   "execution_count": 187,
   "metadata": {
    "ExecuteTime": {
     "end_time": "2019-01-02T19:16:12.269817Z",
     "start_time": "2019-01-02T19:15:52.883265Z"
    }
   },
   "outputs": [],
   "source": [
    "trn_preds_2 = model_2.predict(X_train, batch_size=128)"
   ]
  },
  {
   "cell_type": "code",
   "execution_count": 188,
   "metadata": {
    "ExecuteTime": {
     "end_time": "2019-01-02T19:16:12.374930Z",
     "start_time": "2019-01-02T19:16:12.278368Z"
    }
   },
   "outputs": [
    {
     "data": {
      "text/plain": [
       "(30160, 6)"
      ]
     },
     "execution_count": 188,
     "metadata": {},
     "output_type": "execute_result"
    }
   ],
   "source": [
    "combi_preds_trn = np.hstack([trn_preds_1, trn_preds_2])\n",
    "combi_preds_trn.shape"
   ]
  },
  {
   "cell_type": "code",
   "execution_count": 189,
   "metadata": {
    "ExecuteTime": {
     "end_time": "2019-01-02T19:16:13.107012Z",
     "start_time": "2019-01-02T19:16:12.378973Z"
    }
   },
   "outputs": [],
   "source": [
    "lreg = LogisticRegression(solver='lbfgs', multi_class='auto', max_iter=1000).fit(combi_preds_trn, y_train.argmax(axis=1))"
   ]
  },
  {
   "cell_type": "markdown",
   "metadata": {},
   "source": [
    "### Evaluate our ensembling model"
   ]
  },
  {
   "cell_type": "code",
   "execution_count": 190,
   "metadata": {
    "ExecuteTime": {
     "end_time": "2019-01-02T19:16:13.154985Z",
     "start_time": "2019-01-02T19:16:13.114565Z"
    }
   },
   "outputs": [],
   "source": [
    "lreg_pred_tst = lreg.predict_proba(combi_preds_tst)"
   ]
  },
  {
   "cell_type": "code",
   "execution_count": 191,
   "metadata": {
    "ExecuteTime": {
     "end_time": "2019-01-02T19:16:13.194068Z",
     "start_time": "2019-01-02T19:16:13.159037Z"
    }
   },
   "outputs": [
    {
     "name": "stdout",
     "output_type": "stream",
     "text": [
      "Best ensemble model is acc_0.9056-f1_0.7099 with f1=0.7098830899953152\n"
     ]
    }
   ],
   "source": [
    "best_metrics_combi = load_best_metrics(mode='ensemble')"
   ]
  },
  {
   "cell_type": "code",
   "execution_count": 192,
   "metadata": {
    "ExecuteTime": {
     "end_time": "2019-01-02T19:16:17.785264Z",
     "start_time": "2019-01-02T19:16:16.796723Z"
    }
   },
   "outputs": [
    {
     "name": "stdout",
     "output_type": "stream",
     "text": [
      "True Positives per class :  [ 128.  107.  102. 2156.]\n",
      "False Positives per class :  [83. 66. 48. 65.]\n",
      "False Negatives per class :  [ 22.  35.  23. 182.]\n",
      "\n",
      "Class angry : Precision : 0.607, Recall : 0.853, F1 : 0.709\n",
      "Class happy : Precision : 0.618, Recall : 0.754, F1 : 0.679\n",
      "Class sad : Precision : 0.680, Recall : 0.816, F1 : 0.742\n",
      "\n",
      "Ignoring the Others class, Macro Precision : 0.6350, Macro Recall : 0.8076, Macro F1 : 0.7110\n",
      "Ignoring the Others class, Micro TP : 337, FP : 197, FN : 80\n",
      "\n"
     ]
    },
    {
     "data": {
      "image/png": "[encoded data removed]",
      "text/plain": [
       "<Figure size 1008x360 with 4 Axes>"
      ]
     },
     "metadata": {
      "needs_background": "light"
     },
     "output_type": "display_data"
    }
   ],
   "source": [
    "model_combi_metrics = compare_metrics(lreg_pred_tst, y_test, best_metrics_combi, mode='ensemble')"
   ]
  },
  {
   "cell_type": "code",
   "execution_count": 193,
   "metadata": {
    "ExecuteTime": {
     "end_time": "2019-01-02T19:17:02.788038Z",
     "start_time": "2019-01-02T19:17:02.642588Z"
    }
   },
   "outputs": [
    {
     "name": "stdout",
     "output_type": "stream",
     "text": [
      "Model saved at pickles/models/ensemble/acc_0.9049-f1_0.7087/\n"
     ]
    }
   ],
   "source": [
    "save_ensemble_model(lreg, model_combi_metrics, [model_metrics_cat, model_metrics_bin])"
   ]
  },
  {
   "cell_type": "markdown",
   "metadata": {},
   "source": [
    "## Generating a submission file"
   ]
  },
  {
   "cell_type": "code",
   "execution_count": 129,
   "metadata": {
    "ExecuteTime": {
     "end_time": "2019-01-01T20:11:34.479259Z",
     "start_time": "2019-01-01T20:11:34.391682Z"
    }
   },
   "outputs": [
    {
     "name": "stdout",
     "output_type": "stream",
     "text": [
      "Best ensemble model is acc_0.9056-f1_0.7099 with f1=0.7098830899953152\n",
      "Loaded model from pickles/models/ensemble/acc_0.9056-f1_0.7099/\n"
     ]
    }
   ],
   "source": [
    "# model, emb_matrix, word_index, model_metrics = load_best_model(mode='categorical')\n",
    "model = EnsembleModel(*load_best_model(mode='ensemble'))"
   ]
  },
  {
   "cell_type": "code",
   "execution_count": 130,
   "metadata": {
    "ExecuteTime": {
     "end_time": "2019-01-01T20:12:55.409290Z",
     "start_time": "2019-01-01T20:11:35.563278Z"
    }
   },
   "outputs": [
    {
     "name": "stdout",
     "output_type": "stream",
     "text": [
      "Loading dataset...\n",
      "Reading twitter - 1grams ...\n",
      "Reading twitter - 2grams ...\n"
     ]
    },
    {
     "name": "stderr",
     "output_type": "stream",
     "text": [
      "\r",
      "Preprocessing...:   0%|          | 0/2755 [00:00<?, ?it/s]"
     ]
    },
    {
     "name": "stdout",
     "output_type": "stream",
     "text": [
      "Reading twitter - 1grams ...\n"
     ]
    },
    {
     "name": "stderr",
     "output_type": "stream",
     "text": [
      "Preprocessing...: 100%|██████████| 2755/2755 [00:00<00:00, 2783.33it/s]\n"
     ]
    },
    {
     "name": "stdout",
     "output_type": "stream",
     "text": [
      "Generating Predictions...\n",
      "Loaded model from pickles/models/categorical/acc_0.9060-f1_0.7061/\n",
      "Loaded model from pickles/models/binary/acc_0.8846-f1_0.9293/\n",
      "Done. Wrote submission.txt file at project's root\n"
     ]
    }
   ],
   "source": [
    "y_pred_sub, proba_preds = generate_predictions(model, 'data/test.txt', word_index=word_index)"
   ]
  },
  {
   "cell_type": "markdown",
   "metadata": {},
   "source": [
    "### Explore answers"
   ]
  },
  {
   "cell_type": "code",
   "execution_count": 174,
   "metadata": {
    "ExecuteTime": {
     "end_time": "2019-01-02T18:56:23.645580Z",
     "start_time": "2019-01-02T18:56:23.003240Z"
    }
   },
   "outputs": [
    {
     "data": {
      "text/html": [
       "<div>\n",
       "<style scoped>\n",
       "    .dataframe tbody tr th:only-of-type {\n",
       "        vertical-align: middle;\n",
       "    }\n",
       "\n",
       "    .dataframe tbody tr th {\n",
       "        vertical-align: top;\n",
       "    }\n",
       "\n",
       "    .dataframe thead th {\n",
       "        text-align: right;\n",
       "    }\n",
       "</style>\n",
       "<table border=\"1\" class=\"dataframe\">\n",
       "  <thead>\n",
       "    <tr style=\"text-align: right;\">\n",
       "      <th></th>\n",
       "      <th>Predicted</th>\n",
       "      <th>Actual</th>\n",
       "      <th>Text</th>\n",
       "    </tr>\n",
       "  </thead>\n",
       "  <tbody>\n",
       "    <tr>\n",
       "      <th>21</th>\n",
       "      <td>happy</td>\n",
       "      <td>sad</td>\n",
       "      <td>but . &lt;repeated&gt; &lt;eos&gt; then &lt;eos&gt; i am feeling nervous</td>\n",
       "    </tr>\n",
       "    <tr>\n",
       "      <th>159</th>\n",
       "      <td>happy</td>\n",
       "      <td>others</td>\n",
       "      <td>missed you to &lt;elongated&gt; &lt;eos&gt; lol how are you doing ? ☺️ &lt;eos&gt; fantastic</td>\n",
       "    </tr>\n",
       "    <tr>\n",
       "      <th>227</th>\n",
       "      <td>happy</td>\n",
       "      <td>others</td>\n",
       "      <td>i am funny &lt;eos&gt; &lt;allcaps&gt; youre hilarious &lt;/allcaps&gt; 😆 &lt;eos&gt; gets me laid</td>\n",
       "    </tr>\n",
       "    <tr>\n",
       "      <th>300</th>\n",
       "      <td>happy</td>\n",
       "      <td>others</td>\n",
       "      <td>haha . &lt;repeated&gt; i do not know &lt;eos&gt; hahahaha i would keep it that way hahaha 😂 &lt;eos&gt; hahah i do not know what to say</td>\n",
       "    </tr>\n",
       "    <tr>\n",
       "      <th>335</th>\n",
       "      <td>happy</td>\n",
       "      <td>others</td>\n",
       "      <td>what is quiche ? &lt;eos&gt; i have never had quiche . &lt;eos&gt; alright . lol</td>\n",
       "    </tr>\n",
       "  </tbody>\n",
       "</table>\n",
       "</div>"
      ],
      "text/plain": [
       "    Predicted  Actual                                                                                                                    Text\n",
       "21   happy     sad     but . <repeated> <eos> then <eos> i am feeling nervous                                                                \n",
       "159  happy     others  missed you to <elongated> <eos> lol how are you doing ? ☺️ <eos> fantastic                                            \n",
       "227  happy     others  i am funny <eos> <allcaps> youre hilarious </allcaps> 😆 <eos> gets me laid                                            \n",
       "300  happy     others  haha . <repeated> i do not know <eos> hahahaha i would keep it that way hahaha 😂 <eos> hahah i do not know what to say\n",
       "335  happy     others  what is quiche ? <eos> i have never had quiche . <eos> alright . lol                                                  "
      ]
     },
     "execution_count": 174,
     "metadata": {},
     "output_type": "execute_result"
    }
   ],
   "source": [
    "# pd.set_option('max_colwidth', -1)  # default=50\n",
    "\n",
    "wrong_df = get_wrongs(lreg_pred_tst, y_test, X_test_txt, 'happy')\n",
    "wrong_df.head()"
   ]
  }
 ],
 "metadata": {
  "kernelspec": {
   "display_name": "Python 3",
   "language": "python",
   "name": "python3"
  },
  "language_info": {
   "codemirror_mode": {
    "name": "ipython",
    "version": 3
   },
   "file_extension": ".py",
   "mimetype": "text/x-python",
   "name": "python",
   "nbconvert_exporter": "python",
   "pygments_lexer": "ipython3",
   "version": "3.6.7"
  }
 },
 "nbformat": 4,
 "nbformat_minor": 2
}
