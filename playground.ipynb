{
 "cells": [
  {
   "cell_type": "code",
   "execution_count": 1,
   "metadata": {
    "ExecuteTime": {
     "end_time": "2018-12-03T10:45:09.179216Z",
     "start_time": "2018-12-03T10:45:09.140634Z"
    }
   },
   "outputs": [],
   "source": [
    "%load_ext autoreload\n",
    "%autoreload 2"
   ]
  },
  {
   "cell_type": "code",
   "execution_count": 155,
   "metadata": {
    "ExecuteTime": {
     "end_time": "2018-12-03T16:45:44.430614Z",
     "start_time": "2018-12-03T16:45:44.244087Z"
    }
   },
   "outputs": [],
   "source": [
    "import pandas as pd\n",
    "import numpy as np\n",
    "from keras.utils import to_categorical\n",
    "from keras.callbacks import ModelCheckpoint\n",
    "from sklearn.utils import class_weight\n",
    "\n",
    "from src.embeddings import get_embedding_dictionnary, get_embeddings_and_word_index, sequences_to_index\n",
    "from src.dataset import load_dataset, load_datasets_and_vocab_pipeline, train_test_val_split\n",
    "from src.evaluate import get_metrics, get_predictions\n",
    "from src.models import model_mine\n",
    "from src.submission import generate_predictions\n",
    "\n",
    "embeddings_path = '../sentiment_analysis/data/embeddings/datastories.twitter.300d.txt'"
   ]
  },
  {
   "cell_type": "markdown",
   "metadata": {},
   "source": [
    "### Load and preprocess Train and Test"
   ]
  },
  {
   "cell_type": "code",
   "execution_count": 149,
   "metadata": {
    "ExecuteTime": {
     "end_time": "2018-12-03T16:24:09.810470Z",
     "start_time": "2018-12-03T16:23:43.270539Z"
    }
   },
   "outputs": [
    {
     "name": "stdout",
     "output_type": "stream",
     "text": [
      "Reading twitter - 1grams ...\n",
      "Reading twitter - 2grams ...\n",
      "Reading twitter - 1grams ...\n"
     ]
    },
    {
     "name": "stderr",
     "output_type": "stream",
     "text": [
      "Preprocessing...: 100%|██████████| 30160/30160 [00:12<00:00, 2353.91it/s]\n",
      "Preprocessing...: 100%|██████████| 2755/2755 [00:00<00:00, 2777.94it/s]\n",
      "Building vocabulary...: 100%|██████████| 32915/32915 [00:00<00:00, 128338.14it/s]\n"
     ]
    }
   ],
   "source": [
    "(X_train, y_train), _, (vocab, max_seq_len) = load_datasets_and_vocab_pipeline()"
   ]
  },
  {
   "cell_type": "code",
   "execution_count": 150,
   "metadata": {
    "ExecuteTime": {
     "end_time": "2018-12-03T16:24:09.884759Z",
     "start_time": "2018-12-03T16:24:09.815289Z"
    }
   },
   "outputs": [
    {
     "data": {
      "text/plain": [
       "((30160,), (30160,))"
      ]
     },
     "execution_count": 150,
     "metadata": {},
     "output_type": "execute_result"
    }
   ],
   "source": [
    "X_train.shape, X_train.values.shape"
   ]
  },
  {
   "cell_type": "markdown",
   "metadata": {},
   "source": [
    "### Compute the classes weights because our dataset is largely unbalanced"
   ]
  },
  {
   "cell_type": "code",
   "execution_count": 118,
   "metadata": {
    "ExecuteTime": {
     "end_time": "2018-12-03T15:33:47.553947Z",
     "start_time": "2018-12-03T15:33:47.507034Z"
    }
   },
   "outputs": [
    {
     "data": {
      "text/plain": [
       "array([1.36941518, 1.77704454, 1.38019403, 0.50441531])"
      ]
     },
     "execution_count": 118,
     "metadata": {},
     "output_type": "execute_result"
    }
   ],
   "source": [
    "cls_weights = class_weight.compute_class_weight('balanced', np.unique(y_train), y_train)\n",
    "cls_weights"
   ]
  },
  {
   "cell_type": "markdown",
   "metadata": {},
   "source": [
    "### Create an embedding matrix for our vocabulary"
   ]
  },
  {
   "cell_type": "code",
   "execution_count": 142,
   "metadata": {
    "ExecuteTime": {
     "end_time": "2018-12-03T16:20:29.751595Z",
     "start_time": "2018-12-03T16:20:09.654958Z"
    }
   },
   "outputs": [
    {
     "name": "stdout",
     "output_type": "stream",
     "text": [
      "Unknown words from the vocabulary: 1303\n",
      "8.84% of our vocabulary are unknown words to the embedding matrix\n"
     ]
    }
   ],
   "source": [
    "emb_matrix, word_index, unknown_words = get_embeddings_and_word_index(embeddings_path, max_seq_len, vocab)\n",
    "# Unknown words: 1303\n",
    "\n",
    "print(f'{len(unknown_words) / len(vocab) * 100:.2f}% of our vocabulary are unknown words to the embedding matrix')"
   ]
  },
  {
   "cell_type": "code",
   "execution_count": 123,
   "metadata": {
    "ExecuteTime": {
     "end_time": "2018-12-03T16:06:14.251148Z",
     "start_time": "2018-12-03T16:06:14.053100Z"
    }
   },
   "outputs": [
    {
     "ename": "ModuleNotFoundError",
     "evalue": "No module named 'autocorrect'",
     "output_type": "error",
     "traceback": [
      "\u001b[0;31m---------------------------------------------------------------------------\u001b[0m",
      "\u001b[0;31mModuleNotFoundError\u001b[0m                       Traceback (most recent call last)",
      "\u001b[0;32m<ipython-input-123-4d12ca968dd6>\u001b[0m in \u001b[0;36m<module>\u001b[0;34m()\u001b[0m\n\u001b[0;32m----> 1\u001b[0;31m \u001b[0;32mimport\u001b[0m \u001b[0mautocorrect\u001b[0m\u001b[0;34m\u001b[0m\u001b[0m\n\u001b[0m",
      "\u001b[0;31mModuleNotFoundError\u001b[0m: No module named 'autocorrect'"
     ]
    }
   ],
   "source": [
    "import autocorrect"
   ]
  },
  {
   "cell_type": "code",
   "execution_count": 143,
   "metadata": {
    "ExecuteTime": {
     "end_time": "2018-12-03T16:20:35.443822Z",
     "start_time": "2018-12-03T16:20:35.313933Z"
    }
   },
   "outputs": [
    {
     "data": {
      "text/plain": [
       "{'angru',\n",
       " 'gdmg',\n",
       " 'masterbuated',\n",
       " 'whonis',\n",
       " 'flyingcow',\n",
       " 'hereaftr',\n",
       " 'pottypiece',\n",
       " 'lamakaan',\n",
       " 'pulihora',\n",
       " 'annpying',\n",
       " 'tjhell',\n",
       " 'histetical',\n",
       " 'cheatet',\n",
       " 'bueatyfull',\n",
       " 'nerdyaddy',\n",
       " 'nsmer',\n",
       " 'sngry',\n",
       " 'd=<',\n",
       " 'ainvy',\n",
       " 'listion',\n",
       " 'bchfhmnvcffgghhjkhhggfvb',\n",
       " 'planings',\n",
       " 'suffrerring',\n",
       " 'mrsing',\n",
       " 'abilitity',\n",
       " 'misuderstanding',\n",
       " 'pakaa',\n",
       " 'vizagite',\n",
       " 'doesnst',\n",
       " 'cheppali',\n",
       " 'mishane',\n",
       " 'sharaddha',\n",
       " 'comsidered',\n",
       " 'chooes',\n",
       " 'rndi',\n",
       " 'dyrtdd',\n",
       " 'seand',\n",
       " 'bthng',\n",
       " 'asips',\n",
       " 'srabani',\n",
       " 'ambulans',\n",
       " 'nabr',\n",
       " 'unabe',\n",
       " 'chapathi',\n",
       " 'sabudana',\n",
       " 'cubieboard',\n",
       " 'refrral',\n",
       " 'cigaratte',\n",
       " 'alrays',\n",
       " 'raceguram',\n",
       " 'dalrs',\n",
       " 'assked',\n",
       " 'your1',\n",
       " '♀️',\n",
       " 'worlsly',\n",
       " 'aditeya',\n",
       " 'meenukkum',\n",
       " 'hmmk',\n",
       " 'fakme',\n",
       " '=‑d',\n",
       " 'barthdey',\n",
       " 'sreshta',\n",
       " 'picter',\n",
       " 'oghh',\n",
       " 'dsrling',\n",
       " 'kalpita',\n",
       " 'splitvilla',\n",
       " 'frendzone',\n",
       " 'exaple',\n",
       " 'esshh',\n",
       " 'frndzone',\n",
       " 'boilnes',\n",
       " 'hveli',\n",
       " 'vahicle',\n",
       " 'publicuty',\n",
       " 'wishkey',\n",
       " 'rellyname',\n",
       " 'udaals',\n",
       " 'gubbi',\n",
       " 'kickley',\n",
       " 'ownner',\n",
       " 'confuserd',\n",
       " '🛑',\n",
       " 'v8sit',\n",
       " 'stuufs',\n",
       " 'buyme',\n",
       " 'clote',\n",
       " 'tagaru',\n",
       " 'prapose',\n",
       " 'intrast',\n",
       " 'antadu',\n",
       " 'fbest',\n",
       " 's3nd',\n",
       " 'zonbie',\n",
       " 'rplies',\n",
       " 'misundertandings',\n",
       " 'extc',\n",
       " 'headached',\n",
       " 'eexcept',\n",
       " 'sircasm',\n",
       " 'reude',\n",
       " 'fileg',\n",
       " 'yeds',\n",
       " 'miserya',\n",
       " 'naashta',\n",
       " 'sleepuly',\n",
       " 'exactlyhotel',\n",
       " 'destrying',\n",
       " 'conneksun',\n",
       " 'fi̇nd',\n",
       " 'oysterconnect',\n",
       " 'dsturb',\n",
       " 'boym',\n",
       " 'nownim',\n",
       " 'engati',\n",
       " 'seelp',\n",
       " 'iopp',\n",
       " 'wailant',\n",
       " 'offise',\n",
       " 'esquise',\n",
       " 'hichki',\n",
       " 'limitly',\n",
       " 'bohemai',\n",
       " 'bholo',\n",
       " 'grair',\n",
       " 'umder',\n",
       " 'computerosed',\n",
       " 'padmavathi',\n",
       " 'p***a',\n",
       " 'uhussup',\n",
       " 'dkfjkjdfngrfdskfdfjlnfnfef',\n",
       " 'enjoty',\n",
       " 'denaerys',\n",
       " 'alomr',\n",
       " 'behevior',\n",
       " 'atrect',\n",
       " 'universiry',\n",
       " 'getlst',\n",
       " 'wninner',\n",
       " 'kewlwst',\n",
       " 'vistrat',\n",
       " 'kufe',\n",
       " 'hooma',\n",
       " 'disbalanced',\n",
       " 'politecnico',\n",
       " 'huntai',\n",
       " 'depressede',\n",
       " 'wadhiya',\n",
       " 'girlfrieend',\n",
       " 'hhahahhahahahah',\n",
       " 'thnkq',\n",
       " 'concatct',\n",
       " 'anyoney',\n",
       " 'appatasiri',\n",
       " 'aculty',\n",
       " 'gobarr',\n",
       " 'decsent',\n",
       " 'gkrina',\n",
       " 'awesonw',\n",
       " 'chaust',\n",
       " 'proffesionel',\n",
       " '⁉️',\n",
       " 'wai5',\n",
       " 'tyaima',\n",
       " 'thimes',\n",
       " 'chavakkad',\n",
       " 'masabtank',\n",
       " 'nossence',\n",
       " 'nanohana',\n",
       " 'tranwendy',\n",
       " 'palantiology',\n",
       " 'carsh',\n",
       " 'flep',\n",
       " 'brahmachari',\n",
       " 'dhapar',\n",
       " 'uppala',\n",
       " 'refrish',\n",
       " 'follish',\n",
       " 'extar',\n",
       " 'chezt',\n",
       " 'chakkha',\n",
       " 'pathsala',\n",
       " 'pappad',\n",
       " 'averagae',\n",
       " 'reyale',\n",
       " 'interperted',\n",
       " 'tanjaore',\n",
       " 'khjjfk',\n",
       " 'senze',\n",
       " 'marrag',\n",
       " 'trawen',\n",
       " '🤥',\n",
       " 'ipat',\n",
       " 'spleling',\n",
       " 'iwillsetup',\n",
       " 'whosover',\n",
       " 'prsnal',\n",
       " 'deathzone',\n",
       " 'requiest',\n",
       " 'cilled',\n",
       " 'pohotes',\n",
       " 'hindib',\n",
       " 'wiollbe',\n",
       " 'vegita',\n",
       " 'gfrnd',\n",
       " 'seriya',\n",
       " 'playcreepypedia',\n",
       " 'hımm',\n",
       " 'fovrat',\n",
       " 'peogramer',\n",
       " 'lebjoying',\n",
       " 'lyier',\n",
       " 'r2know',\n",
       " 'voicemsg',\n",
       " 'contnneu',\n",
       " 'tharof',\n",
       " 'chàrlie',\n",
       " 'crearor',\n",
       " 'complimentsnburns',\n",
       " 'hegels',\n",
       " 'whaynyou',\n",
       " 'picec',\n",
       " 'khalufa',\n",
       " 'heppin',\n",
       " 'bestieq',\n",
       " 'voupen',\n",
       " 'wworst',\n",
       " 'dengau',\n",
       " 'hoezaay',\n",
       " 'chxk',\n",
       " 'wakda',\n",
       " 'desaid',\n",
       " 'whtass',\n",
       " 'tinava',\n",
       " 'phenomennon',\n",
       " 'irritater',\n",
       " 'fotographs',\n",
       " 'lattr',\n",
       " 'megalol',\n",
       " 'mohaabbatein',\n",
       " 'tappichukodaniki',\n",
       " 'aiyappa',\n",
       " 'kerwaate',\n",
       " 'mystakes',\n",
       " 'korket',\n",
       " 'yhour',\n",
       " 'yuupss',\n",
       " 'xwhat',\n",
       " 'eelings',\n",
       " 'ropley',\n",
       " 'utlr',\n",
       " 'boyn',\n",
       " 'jjftihc',\n",
       " 'uttra',\n",
       " 'feesbook',\n",
       " 'penchesukundhamane',\n",
       " 'amazning',\n",
       " 'clemmson',\n",
       " 'enerjetic',\n",
       " 'stve',\n",
       " 'alcheringa',\n",
       " 'selfishes',\n",
       " 'gentfinger',\n",
       " 'elhamdülillah',\n",
       " 'haahahahhaha',\n",
       " 'eshome',\n",
       " 'cbillion',\n",
       " 'promgram',\n",
       " 'sutti',\n",
       " 'weinsteinchristopher',\n",
       " 'convrrsation',\n",
       " 'idkwts',\n",
       " 'boyfrienf',\n",
       " 'panipiri',\n",
       " 'dipressed',\n",
       " 'ozdgoisrgkfgj',\n",
       " 'emotiom',\n",
       " 'wasepur',\n",
       " 'raght',\n",
       " 'jug4',\n",
       " 'complicatedness',\n",
       " 'varigin',\n",
       " 'dusht',\n",
       " 'officent',\n",
       " 'famme',\n",
       " 'linkdn',\n",
       " 'çuz',\n",
       " 'undersyand',\n",
       " 'placce',\n",
       " \"d‑':\",\n",
       " 'fidaa',\n",
       " 'ullee',\n",
       " 'federlism',\n",
       " 'inseminates',\n",
       " 'worddive',\n",
       " 'njabi',\n",
       " 'cannote',\n",
       " 'helatira',\n",
       " 'l***u',\n",
       " 'natute',\n",
       " 'manishgi',\n",
       " 'ulars',\n",
       " 'afgalgunj',\n",
       " 'ratea',\n",
       " 'lakmefw',\n",
       " 'meabs',\n",
       " 'faimlly',\n",
       " 'gustion',\n",
       " 'aindian',\n",
       " 'dhyat',\n",
       " 'peduthunavu',\n",
       " 'digipom',\n",
       " 'goodminton',\n",
       " 'feavaret',\n",
       " 'pachalam',\n",
       " 'tellb',\n",
       " 'mtlab',\n",
       " 'sim808',\n",
       " 'deteals',\n",
       " 'decreats',\n",
       " 'bengalore',\n",
       " 'ofmine',\n",
       " 'huhaha',\n",
       " 'koninika',\n",
       " 'baords',\n",
       " 'emchathunavuu',\n",
       " 'noth8ng',\n",
       " 'dhiskiyaaon',\n",
       " 'internate',\n",
       " 'relevently',\n",
       " 'ajita',\n",
       " 'fivar',\n",
       " 'msgng',\n",
       " 'mmwaah',\n",
       " 'hsate',\n",
       " 'chalp',\n",
       " 'yilou',\n",
       " 'exilante',\n",
       " 'hupoiuy',\n",
       " 'chuth',\n",
       " 'aadu2',\n",
       " 'astroman21',\n",
       " 'aiyyoo',\n",
       " 't460s',\n",
       " 'engring',\n",
       " 'someoneteach',\n",
       " 'cortanan',\n",
       " 'fidha',\n",
       " 'sotyo',\n",
       " 'shmaby',\n",
       " 'creepest',\n",
       " 'opereter',\n",
       " 'interestingi',\n",
       " 'vxxvgfeecbko',\n",
       " 'spenkig',\n",
       " 'dellhi',\n",
       " 'sendspacing',\n",
       " 'whatsaup',\n",
       " 'geetai',\n",
       " 'paramnet',\n",
       " 'dushwoman',\n",
       " 'sonipt',\n",
       " 'charuta',\n",
       " 'wasexpecting',\n",
       " 'musi̇cs',\n",
       " 'rogh',\n",
       " 'diikshith',\n",
       " 'begar',\n",
       " 'rezzistance',\n",
       " 'hainted',\n",
       " 'notihing',\n",
       " 'catperson',\n",
       " 'registeroyester',\n",
       " 'besigeyou',\n",
       " 'bikibi',\n",
       " 'veryu',\n",
       " 'pahale',\n",
       " 'panrel',\n",
       " 'rudeas',\n",
       " 'ftry',\n",
       " 'anhmote',\n",
       " 'coupen',\n",
       " 'rajstan',\n",
       " 'wdfhe',\n",
       " 'ranbiir',\n",
       " 'niallsdip',\n",
       " 'dirtu',\n",
       " 'uffd',\n",
       " 'mhfy',\n",
       " 'takae',\n",
       " 'legd',\n",
       " 'leqrn',\n",
       " 'choute',\n",
       " 'aartifical',\n",
       " 'chaep',\n",
       " 'whrer',\n",
       " 'raferal',\n",
       " 'uvaar',\n",
       " 'aosome',\n",
       " 'bsccomputer',\n",
       " 'emessage',\n",
       " 'aayojan',\n",
       " ':‑d',\n",
       " 'racict',\n",
       " 'humblee',\n",
       " 'gottisim',\n",
       " 'lmaorofl',\n",
       " 'monostable',\n",
       " 'caviare',\n",
       " 'madayam',\n",
       " 'maharhtra',\n",
       " 'truthes',\n",
       " 'ubknow',\n",
       " 'daate',\n",
       " 'wrshp',\n",
       " 'rajarajeshwari',\n",
       " 'foreheadwhen',\n",
       " 'exspically',\n",
       " 'auestiond',\n",
       " 'sunnylenon',\n",
       " 'kurozoka',\n",
       " 'photodon',\n",
       " 'hyderabd',\n",
       " 'helri',\n",
       " 'beffusy',\n",
       " 'andwrite',\n",
       " 'blift',\n",
       " 'jujubi',\n",
       " 'aleti',\n",
       " 'alri8',\n",
       " 'berozgaari',\n",
       " 'vhilf',\n",
       " '\\U0001f92a',\n",
       " 'simplyee',\n",
       " 'pecular',\n",
       " 'katharnac',\n",
       " 'friends_q2b',\n",
       " 'baijy',\n",
       " 'stronh',\n",
       " 'indimail',\n",
       " 'julh',\n",
       " 'sarukh',\n",
       " 'unmber',\n",
       " 'aapn',\n",
       " 'phota',\n",
       " 'madharchod',\n",
       " 'juilee',\n",
       " 'sycking',\n",
       " 'vaago',\n",
       " 'socialgm',\n",
       " 'gramitacal',\n",
       " 'whatӳ',\n",
       " 'rightniw',\n",
       " 'tomain',\n",
       " 'roboty',\n",
       " '; ;',\n",
       " 'loffing',\n",
       " 'duerstand',\n",
       " 'laugphin',\n",
       " 'rgerthgf',\n",
       " 'stolone',\n",
       " '∑(o_o；)',\n",
       " 'temperd',\n",
       " 'behabiour',\n",
       " 'kdjhffjdkkd',\n",
       " 'scuffletown',\n",
       " 'uwrong',\n",
       " 'prakrit',\n",
       " 'madkolr',\n",
       " 'egyup',\n",
       " 'dambu',\n",
       " 'milovie',\n",
       " 'rudw',\n",
       " 'dibiler',\n",
       " 'lavakusa',\n",
       " 'kitachi',\n",
       " 'poinys',\n",
       " 'evercome',\n",
       " '_especially_',\n",
       " 'brole',\n",
       " 'thambs',\n",
       " 'fhec',\n",
       " 'manupulating',\n",
       " 'chtng',\n",
       " 'zukerburg',\n",
       " 'understainding',\n",
       " 'chamical',\n",
       " 'doggosexual',\n",
       " 'nigntmare',\n",
       " 'afcorse',\n",
       " 'b9red',\n",
       " 'thenkyu',\n",
       " 'meeitate',\n",
       " 'kshimna',\n",
       " 'infrastruture',\n",
       " 'itbhere',\n",
       " 'smoodles',\n",
       " 'favar',\n",
       " 'lifep',\n",
       " 'exactllyy',\n",
       " 'refrs',\n",
       " 'egarliy',\n",
       " 'goofle',\n",
       " 'l.l.b.',\n",
       " '✔️',\n",
       " 'libspill2',\n",
       " '🤷',\n",
       " 'moasing',\n",
       " 'hushaar',\n",
       " 'roomee',\n",
       " 'pglii',\n",
       " 'cgat',\n",
       " 'gaayab',\n",
       " 'hurman',\n",
       " 'wakarimasen',\n",
       " 'locx',\n",
       " 'toungh',\n",
       " 'x‑d',\n",
       " 'dumbk',\n",
       " 'ytjph',\n",
       " 'sufring',\n",
       " 'ohhu',\n",
       " 'pharchaun',\n",
       " 'chtbt',\n",
       " 'wahtsup',\n",
       " 'arunava',\n",
       " 'yayayayyaayyayaya',\n",
       " 'amoviemm',\n",
       " 'dubstub',\n",
       " '</allcaps>',\n",
       " 'heenu',\n",
       " 'pluers',\n",
       " 'proosal',\n",
       " 'osthada',\n",
       " 'areepeating',\n",
       " 'myby',\n",
       " 'abtbur',\n",
       " 'kkrh',\n",
       " 'wrick',\n",
       " 'anuppu',\n",
       " 'sone1',\n",
       " 'fevee',\n",
       " 'ehahaha',\n",
       " 'fuunya',\n",
       " 'gurjars',\n",
       " 'aftaab',\n",
       " 'erutha',\n",
       " 'eldg',\n",
       " 'ledha',\n",
       " 'baffellow',\n",
       " 'feevar',\n",
       " 'kcubftv',\n",
       " 'agericalchar',\n",
       " 'notjin',\n",
       " 'naatilinde',\n",
       " 'expoprt',\n",
       " 'gadhaa',\n",
       " 'yyup',\n",
       " 'kislay',\n",
       " 'kurozuka',\n",
       " 'ookh',\n",
       " 'bbhe',\n",
       " 'ruuch',\n",
       " 'sahas',\n",
       " 'ppast',\n",
       " 'excitefull',\n",
       " 'madkolth',\n",
       " 'fmail',\n",
       " 'vertual',\n",
       " 'girfreind',\n",
       " 'eigenvector',\n",
       " 'commly',\n",
       " 'noonnono',\n",
       " 'chesukundam',\n",
       " 'kantikatopa',\n",
       " 'syntaxes',\n",
       " 'christophee',\n",
       " 'dirtynaughty',\n",
       " 'mondegar',\n",
       " 'llspiderman',\n",
       " 'mornon',\n",
       " 'skirllex',\n",
       " 'coupan',\n",
       " 'tikda',\n",
       " 'ctupid',\n",
       " 'kirollos',\n",
       " 'speality',\n",
       " 'bhoma',\n",
       " 'adangappa',\n",
       " 'microsofe',\n",
       " 'mastrbte',\n",
       " 'yeuggsggee6ge',\n",
       " 'cacter',\n",
       " 'oforacle',\n",
       " 'bhadvya',\n",
       " 'succha',\n",
       " 'vh2o',\n",
       " 'yaantey',\n",
       " 'soket',\n",
       " 'llthe',\n",
       " 'replyi',\n",
       " 'aeronatutics',\n",
       " 'heaten',\n",
       " 'pohot',\n",
       " 'pefok',\n",
       " 'everythingh',\n",
       " 'yaaraiyavthu',\n",
       " 'secrare',\n",
       " 'nabar',\n",
       " 'waitingh',\n",
       " 'phosphade',\n",
       " 'yourbwhatsapp',\n",
       " 'therilaye',\n",
       " 'romontic',\n",
       " 'libspil',\n",
       " 'wwrong',\n",
       " 'rightm',\n",
       " 'inagree',\n",
       " 'fokkal',\n",
       " 'celob',\n",
       " 'sisterzoned',\n",
       " 'rosein',\n",
       " 'ennakku',\n",
       " 'peekaboohh',\n",
       " 'vaoov',\n",
       " 'meesee',\n",
       " 'jardinains',\n",
       " 'kiness',\n",
       " 'ziphone',\n",
       " 'monologur',\n",
       " 'tihri',\n",
       " 'decript',\n",
       " '☺️',\n",
       " 'unking',\n",
       " 'nilk',\n",
       " 'begetarians',\n",
       " 'intenlligent',\n",
       " 'bollywoid',\n",
       " 'phoro',\n",
       " 'nomoros',\n",
       " 'timevis',\n",
       " 'coupns',\n",
       " 'sxual',\n",
       " 'ckearly',\n",
       " 'ignorese',\n",
       " 'scienctist',\n",
       " 'gurlfrnd',\n",
       " 'justfine',\n",
       " 'areeh',\n",
       " 'chocolava',\n",
       " 'citizendium',\n",
       " 'àapka',\n",
       " 'attrocity',\n",
       " 'babuls',\n",
       " 'gdxkgasgc',\n",
       " 'linetskypaul',\n",
       " 'useropenreflink',\n",
       " 'gfvsg',\n",
       " 'hairdone',\n",
       " 'proofe',\n",
       " 'refracts',\n",
       " 'barmounda',\n",
       " 'oglf',\n",
       " 'nigusta',\n",
       " 'cummimg',\n",
       " 'havesome',\n",
       " 'jesaus',\n",
       " 'updarling',\n",
       " 'bdiya',\n",
       " 'whatsall',\n",
       " '⏸️',\n",
       " 'bsdk',\n",
       " 'antiope',\n",
       " 'irritatingne',\n",
       " 'anjoo',\n",
       " 'divxplanet',\n",
       " 'tnzz',\n",
       " 'empathies',\n",
       " 'talav',\n",
       " 'paib',\n",
       " 'efoejgoegopseopfpoefopesfop',\n",
       " 'kñew',\n",
       " 'righth',\n",
       " 'rşch',\n",
       " 'prejudistic',\n",
       " 'explean',\n",
       " 'iwantcakee',\n",
       " 'bangram',\n",
       " 'modaks',\n",
       " 'bahubali2',\n",
       " 'ishappened',\n",
       " 'neyamma',\n",
       " '(-_\\\\)',\n",
       " 'jaaju',\n",
       " '⊄',\n",
       " 'bayolover',\n",
       " 'mculum',\n",
       " 'graduatn',\n",
       " 'kehch',\n",
       " 'kalsid',\n",
       " 'opyrtc',\n",
       " 'emailto',\n",
       " 'pawala',\n",
       " 'dhanyawad',\n",
       " 'prefarce',\n",
       " 'adilbad',\n",
       " 'nampr',\n",
       " 'chechay',\n",
       " 'okkati',\n",
       " 'thowrn',\n",
       " 'corechat',\n",
       " 'bhamgarh',\n",
       " 'gudn8',\n",
       " 'topicz',\n",
       " 'meeeeeeeereeeeeeeeeeeeeeeeeepppppppppp',\n",
       " 'haaww',\n",
       " 'zwian',\n",
       " 'holys**t',\n",
       " 'peath',\n",
       " 'andstay',\n",
       " 'spuer',\n",
       " 'barmouda',\n",
       " '\\U0001f9d0',\n",
       " 'lovear',\n",
       " 'hanubot',\n",
       " 'kikiyo',\n",
       " 'seriaesly',\n",
       " 'nayis',\n",
       " 'luok',\n",
       " 'codeproblem',\n",
       " 'qsts',\n",
       " 'tiddi',\n",
       " 'pluglass',\n",
       " 'abıt',\n",
       " 'haweli',\n",
       " 'suoerb',\n",
       " 'problemcom',\n",
       " 'evenng',\n",
       " 'somedbody',\n",
       " 'mrowit',\n",
       " 'insomiaa',\n",
       " 'whting',\n",
       " 'boovs',\n",
       " 'merind',\n",
       " 'intentimes',\n",
       " 'rubingoogleapplelast',\n",
       " 'repharse',\n",
       " 'sagarwcam',\n",
       " 'banchod',\n",
       " 'chingari',\n",
       " 'kavish',\n",
       " 'poseley',\n",
       " 'dipression',\n",
       " 'robort',\n",
       " 'sweetei',\n",
       " 'cupan',\n",
       " 'yuujincho',\n",
       " 'pohoto',\n",
       " 'hi555',\n",
       " 'legohouse',\n",
       " 'softeware',\n",
       " 'nothiny',\n",
       " 'intellegient',\n",
       " 'slimebaby',\n",
       " 'ahdabaad',\n",
       " 'siatet',\n",
       " 'hhhffh',\n",
       " 'langvej',\n",
       " 'trru',\n",
       " 'yurslf',\n",
       " 'tilltomorrow',\n",
       " 'asshle',\n",
       " 'bharathidasan',\n",
       " 'pribkems',\n",
       " 'rejetted',\n",
       " 'progrer',\n",
       " 'behenchood',\n",
       " 'kudaellu',\n",
       " 'swes',\n",
       " '❤️',\n",
       " 'vaijy',\n",
       " 'whére',\n",
       " 'hfer',\n",
       " 'underdiving',\n",
       " 'vkski',\n",
       " 'goodmrg',\n",
       " 'sadke',\n",
       " 'handaome',\n",
       " 'hibberish',\n",
       " 'propersion',\n",
       " 'baiber',\n",
       " 'chteing',\n",
       " 'nudea',\n",
       " '/(x',\n",
       " 'zailet',\n",
       " 'asaid',\n",
       " 'ahahaann',\n",
       " 'tomoy',\n",
       " 'winnipusakee',\n",
       " 'beatd',\n",
       " 'answwr',\n",
       " 'zakhm',\n",
       " 'hextic',\n",
       " 'reasorts',\n",
       " 'lonelt',\n",
       " 'naxt',\n",
       " 'vcook',\n",
       " 'aginc',\n",
       " 'atlteast',\n",
       " 'rattofied',\n",
       " 'sarakku',\n",
       " 'mapaas',\n",
       " 'huyokbfr',\n",
       " 'ruih',\n",
       " 'yyi',\n",
       " 'wakenup',\n",
       " 'ilearnt',\n",
       " 'imprees',\n",
       " 'rooely',\n",
       " 'leavethree',\n",
       " 'mitsuku',\n",
       " 'oroblem',\n",
       " 'udupy',\n",
       " 'raatko',\n",
       " 'lovevu',\n",
       " 'mattaer',\n",
       " 'orajinal',\n",
       " 'ardam',\n",
       " 'gots7',\n",
       " 'shaharukh',\n",
       " 'after17days',\n",
       " 'dipanshu',\n",
       " 'usergetsstarted',\n",
       " 'amazingo',\n",
       " 'hydbadi',\n",
       " 'rantir',\n",
       " 'charithra',\n",
       " 'ttamilnatu',\n",
       " 'kopta',\n",
       " 'ysles',\n",
       " 'ghoonghat',\n",
       " 'vakola',\n",
       " 'actot',\n",
       " 'redfort',\n",
       " 'meesengr',\n",
       " 'introducted',\n",
       " 'marag',\n",
       " 'epilespy',\n",
       " 'animenl',\n",
       " 'sierri',\n",
       " 'understtand',\n",
       " 'robut',\n",
       " 'arrugment',\n",
       " 'relationnship',\n",
       " 'flirthy',\n",
       " 'dubaa',\n",
       " 'roties',\n",
       " 'ni8t',\n",
       " 'zukergberg',\n",
       " 'hapou',\n",
       " 'ewho',\n",
       " 'velapan',\n",
       " 'feelingsd',\n",
       " 'proseed',\n",
       " 'shariyaayilla',\n",
       " 'rybgrbi',\n",
       " 'uffo',\n",
       " 'catosexual',\n",
       " 'shanananananana',\n",
       " 'understandng',\n",
       " 'igfisisfxfskxkxgksrxgkxtxfizgxgvhsch',\n",
       " 'rediclous',\n",
       " 'friendchip',\n",
       " 'hshhshhdjh',\n",
       " 'imittate',\n",
       " 'heavinly',\n",
       " 'surz',\n",
       " 'pancajes',\n",
       " 'whatsappapp',\n",
       " 'dumbassee',\n",
       " 'freiends',\n",
       " 'geniee',\n",
       " 'roomal',\n",
       " 'febret',\n",
       " 'formual',\n",
       " 'webcamp',\n",
       " 'rimajol',\n",
       " 'marrye',\n",
       " 'pakag',\n",
       " 'ogopdegopjgopejogjoemgoesjfo',\n",
       " 'mudam',\n",
       " 'avadamledu',\n",
       " 'hypoteticaly',\n",
       " 'tppic',\n",
       " 'underweara',\n",
       " 'heppens',\n",
       " 'hereapple',\n",
       " 'namper',\n",
       " 'pakaoo',\n",
       " 'tovmuch',\n",
       " 'rmtatooas',\n",
       " 'spagett',\n",
       " 'nakhres',\n",
       " 'caupphechino',\n",
       " 'edsheerans',\n",
       " 'checkedyo',\n",
       " 'fernds',\n",
       " '<eos>',\n",
       " 'roboy',\n",
       " 'udressed',\n",
       " 'flawer',\n",
       " 'serieas',\n",
       " 'peyechen',\n",
       " 'ivvi',\n",
       " 'exjactly',\n",
       " 'fawret',\n",
       " 'eishes',\n",
       " 'mastribute',\n",
       " 'halua',\n",
       " 'whatap',\n",
       " 'pursnal',\n",
       " 'asach',\n",
       " 'yed1',\n",
       " 'yfvx',\n",
       " 'loivr',\n",
       " 'epabe',\n",
       " 'ranbeersingh',\n",
       " 'beatuhfull',\n",
       " 'overbold',\n",
       " 'zarvise',\n",
       " 'splooges',\n",
       " 'understandig',\n",
       " 'autny',\n",
       " 'nimsy',\n",
       " 'relxd',\n",
       " 'inali',\n",
       " 'dunbo',\n",
       " 'benaz',\n",
       " 'itӳ',\n",
       " 'sexiguallowmeforsex',\n",
       " 'goshalls',\n",
       " 'laae',\n",
       " 'alaone',\n",
       " 'bayys',\n",
       " 'siilence',\n",
       " 'gannam',\n",
       " 'tougj',\n",
       " 'teluu',\n",
       " 'kolambu',\n",
       " 'ideak',\n",
       " 'eakada',\n",
       " 'judawaa',\n",
       " 'hahahahahhehehehehuhuhu',\n",
       " 'moind',\n",
       " 'sanuhoi',\n",
       " 'strangr',\n",
       " 'cornform',\n",
       " 'adicter',\n",
       " 'panriya',\n",
       " 'dunp',\n",
       " ':-[}',\n",
       " 'whereareyougoing',\n",
       " 'chicen',\n",
       " 'boribg',\n",
       " 'masturbaated',\n",
       " 'sometimg',\n",
       " 'kķkkkk',\n",
       " 'barain',\n",
       " 'peddapalli',\n",
       " 'mastee',\n",
       " 'bhosdi',\n",
       " 'prgent',\n",
       " 'ywss',\n",
       " 'lallulal',\n",
       " 'moneyyuu',\n",
       " 'hasbend',\n",
       " '✈️',\n",
       " 'thnig',\n",
       " 'lyadh',\n",
       " 'hwru',\n",
       " 'campliet',\n",
       " 'asvice',\n",
       " 'cunfuse',\n",
       " 'bettry',\n",
       " '🤢',\n",
       " 'derling',\n",
       " 'conphyoojed',\n",
       " 'antaryaamini',\n",
       " 'waatsup',\n",
       " 'usex',\n",
       " 'bhaskars',\n",
       " 'wrriten',\n",
       " 'humar',\n",
       " 'kanguage',\n",
       " '(�?�)',\n",
       " 'visiyed',\n",
       " 'ugadhi',\n",
       " 'deskgod',\n",
       " 'bestgirlfriend',\n",
       " 'swagath',\n",
       " ...}"
      ]
     },
     "execution_count": 143,
     "metadata": {},
     "output_type": "execute_result"
    }
   ],
   "source": [
    "unknown_words"
   ]
  },
  {
   "cell_type": "markdown",
   "metadata": {},
   "source": [
    "### Transforming our sequences of words to indexes"
   ]
  },
  {
   "cell_type": "code",
   "execution_count": 151,
   "metadata": {
    "ExecuteTime": {
     "end_time": "2018-12-03T16:24:22.133233Z",
     "start_time": "2018-12-03T16:24:09.888036Z"
    }
   },
   "outputs": [
    {
     "data": {
      "text/plain": [
       "(30160, 163)"
      ]
     },
     "execution_count": 151,
     "metadata": {},
     "output_type": "execute_result"
    }
   ],
   "source": [
    "X_train = sequences_to_index(X_train, word_index, max_seq_len)\n",
    "\n",
    "X_train.shape"
   ]
  },
  {
   "cell_type": "code",
   "execution_count": 152,
   "metadata": {
    "ExecuteTime": {
     "end_time": "2018-12-03T16:24:31.268496Z",
     "start_time": "2018-12-03T16:24:31.075863Z"
    }
   },
   "outputs": [
    {
     "name": "stdout",
     "output_type": "stream",
     "text": [
      "training set: 24128 samples\n",
      "validation set: 3016 samples\n",
      "validation_test set: 3016 samples\n",
      "x_train: (24128, 163)\n",
      "y_train: (24128, 4)\n"
     ]
    }
   ],
   "source": [
    "y_train = to_categorical(y_train, 4)\n",
    "(x_trn, y_trn), (x_val, y_val), (x_tst, y_tst) = train_test_val_split(X_train, y_train)\n",
    "\n",
    "print('training set: ' + str(len(x_trn)) + ' samples')\n",
    "print('validation set: ' + str(len(x_val)) + ' samples')\n",
    "print('validation_test set: ' + str(len(x_tst)) + ' samples')\n",
    "\n",
    "print('x_train:', x_trn.shape)\n",
    "print('y_train:', y_trn.shape)"
   ]
  },
  {
   "cell_type": "markdown",
   "metadata": {},
   "source": [
    "### Training"
   ]
  },
  {
   "cell_type": "code",
   "execution_count": 153,
   "metadata": {
    "ExecuteTime": {
     "end_time": "2018-12-03T16:24:44.279291Z",
     "start_time": "2018-12-03T16:24:36.113304Z"
    }
   },
   "outputs": [
    {
     "name": "stdout",
     "output_type": "stream",
     "text": [
      "_________________________________________________________________\n",
      "Layer (type)                 Output Shape              Param #   \n",
      "=================================================================\n",
      "embedding_layer (Embedding)  (None, 163, 300)          4424400   \n",
      "_________________________________________________________________\n",
      "dropout_7 (Dropout)          (None, 163, 300)          0         \n",
      "_________________________________________________________________\n",
      "bidirectional_5 (Bidirection (None, 163, 300)          541200    \n",
      "_________________________________________________________________\n",
      "dropout_8 (Dropout)          (None, 163, 300)          0         \n",
      "_________________________________________________________________\n",
      "bidirectional_6 (Bidirection (None, 163, 300)          541200    \n",
      "_________________________________________________________________\n",
      "dropout_9 (Dropout)          (None, 163, 300)          0         \n",
      "_________________________________________________________________\n",
      "flatten_3 (Flatten)          (None, 48900)             0         \n",
      "_________________________________________________________________\n",
      "dense_3 (Dense)              (None, 4)                 195604    \n",
      "=================================================================\n",
      "Total params: 5,702,404\n",
      "Trainable params: 1,278,004\n",
      "Non-trainable params: 4,424,400\n",
      "_________________________________________________________________\n",
      "None\n"
     ]
    }
   ],
   "source": [
    "model = model_mine(emb_matrix, max_seq_len)"
   ]
  },
  {
   "cell_type": "code",
   "execution_count": 163,
   "metadata": {
    "ExecuteTime": {
     "end_time": "2018-12-03T17:38:03.346898Z",
     "start_time": "2018-12-03T17:38:03.237121Z"
    }
   },
   "outputs": [],
   "source": [
    "checkpointer = ModelCheckpoint(filepath='pickles/models/best.h5', save_best_only=True, verbose=1)"
   ]
  },
  {
   "cell_type": "code",
   "execution_count": 154,
   "metadata": {
    "ExecuteTime": {
     "end_time": "2018-12-03T16:45:44.200773Z",
     "start_time": "2018-12-03T16:24:52.228218Z"
    }
   },
   "outputs": [
    {
     "name": "stdout",
     "output_type": "stream",
     "text": [
      "Train on 24128 samples, validate on 3016 samples\n",
      "Epoch 1/3\n",
      "24128/24128 [==============================] - 417s 17ms/step - loss: 0.7434 - acc: 0.7127 - val_loss: 0.5028 - val_acc: 0.8229\n",
      "Epoch 2/3\n",
      "24128/24128 [==============================] - 414s 17ms/step - loss: 0.4985 - acc: 0.8150 - val_loss: 0.4339 - val_acc: 0.8568\n",
      "Epoch 3/3\n",
      "24128/24128 [==============================] - 414s 17ms/step - loss: 0.4183 - acc: 0.8481 - val_loss: 0.3804 - val_acc: 0.8578\n"
     ]
    }
   ],
   "source": [
    "history = model.fit(x_trn, y_trn, batch_size=128, validation_data=(x_val, y_val), epochs=3, class_weight=cls_weights, callbacks=[checkpointer])"
   ]
  },
  {
   "cell_type": "code",
   "execution_count": 161,
   "metadata": {
    "ExecuteTime": {
     "end_time": "2018-12-03T17:36:26.830432Z",
     "start_time": "2018-12-03T17:15:49.102833Z"
    }
   },
   "outputs": [
    {
     "name": "stdout",
     "output_type": "stream",
     "text": [
      "Train on 24128 samples, validate on 3016 samples\n",
      "Epoch 1/3\n",
      "24128/24128 [==============================] - 410s 17ms/step - loss: 0.2695 - acc: 0.9016 - val_loss: 0.3013 - val_acc: 0.8962\n",
      "Epoch 2/3\n",
      "24128/24128 [==============================] - 414s 17ms/step - loss: 0.2503 - acc: 0.9087 - val_loss: 0.3186 - val_acc: 0.8932\n",
      "Epoch 3/3\n",
      "24128/24128 [==============================] - 412s 17ms/step - loss: 0.2277 - acc: 0.9164 - val_loss: 0.3202 - val_acc: 0.8962\n"
     ]
    }
   ],
   "source": [
    "history = model.fit(x_trn, y_trn, batch_size=128, validation_data=(x_val, y_val), epochs=3, class_weight=cls_weights, callbacks=[checkpointer])"
   ]
  },
  {
   "cell_type": "markdown",
   "metadata": {},
   "source": [
    "### Evaluating our model"
   ]
  },
  {
   "cell_type": "markdown",
   "metadata": {},
   "source": [
    "#### Validation set"
   ]
  },
  {
   "cell_type": "code",
   "execution_count": 115,
   "metadata": {
    "ExecuteTime": {
     "end_time": "2018-12-03T15:32:15.269016Z",
     "start_time": "2018-12-03T15:31:54.847888Z"
    }
   },
   "outputs": [
    {
     "name": "stdout",
     "output_type": "stream",
     "text": [
      "True Positives per class :  [ 491.  375.  462. 1350.]\n",
      "False Positives per class :  [ 78.  53.  46. 161.]\n",
      "False Negatives per class :  [ 87.  48.  77. 126.]\n",
      "\n",
      "Class angry : Precision : 0.863, Recall : 0.849, F1 : 0.856\n",
      "Class happy : Precision : 0.876, Recall : 0.887, F1 : 0.881\n",
      "Class sad : Precision : 0.909, Recall : 0.857, F1 : 0.883\n",
      "\n",
      "Ignoring the Others class, Macro Precision : 0.8828, Macro Recall : 0.8644, Macro F1 : 0.8735\n",
      "Ignoring the Others class, Micro TP : 1328, FP : 177, FN : 212\n",
      "\n",
      "Accuracy : 0.8879, Micro Precision : 0.8824, Micro Recall : 0.8623, Micro F1 : 0.8722\n"
     ]
    },
    {
     "data": {
      "image/png": "[encoded data removed]",
      "text/plain": [
       "<Figure size 504x360 with 2 Axes>"
      ]
     },
     "metadata": {
      "needs_background": "light"
     },
     "output_type": "display_data"
    }
   ],
   "source": [
    "y_pred_val = get_predictions(model, x_val, y_val) # Last Best"
   ]
  },
  {
   "cell_type": "code",
   "execution_count": 165,
   "metadata": {
    "ExecuteTime": {
     "end_time": "2018-12-03T17:39:57.716252Z",
     "start_time": "2018-12-03T17:39:36.838739Z"
    }
   },
   "outputs": [
    {
     "name": "stdout",
     "output_type": "stream",
     "text": [
      "True Positives per class :  [ 511.  373.  475. 1344.]\n",
      "False Positives per class :  [104.  45.  47. 117.]\n",
      "False Negatives per class :  [ 47.  62.  64. 140.]\n",
      "\n",
      "Class angry : Precision : 0.831, Recall : 0.916, F1 : 0.871\n",
      "Class happy : Precision : 0.892, Recall : 0.857, F1 : 0.875\n",
      "Class sad : Precision : 0.910, Recall : 0.881, F1 : 0.895\n",
      "\n",
      "Ignoring the Others class, Macro Precision : 0.8777, Macro Recall : 0.8848, Macro F1 : 0.8813\n",
      "Ignoring the Others class, Micro TP : 1359, FP : 196, FN : 173\n",
      "\n",
      "Accuracy : 0.8962, Micro Precision : 0.8740, Micro Recall : 0.8871, Micro F1 : 0.8805\n"
     ]
    },
    {
     "data": {
      "image/png": "[encoded data removed]",
      "text/plain": [
       "<Figure size 504x360 with 2 Axes>"
      ]
     },
     "metadata": {
      "needs_background": "light"
     },
     "output_type": "display_data"
    }
   ],
   "source": [
    "y_pred_val = get_predictions(model, x_val, y_val)"
   ]
  },
  {
   "cell_type": "markdown",
   "metadata": {},
   "source": [
    "#### Test set"
   ]
  },
  {
   "cell_type": "code",
   "execution_count": 112,
   "metadata": {
    "ExecuteTime": {
     "end_time": "2018-12-03T15:26:58.106596Z",
     "start_time": "2018-12-03T15:26:38.599972Z"
    }
   },
   "outputs": [
    {
     "name": "stdout",
     "output_type": "stream",
     "text": [
      "True Positives per class :  [ 482.  359.  497. 1348.]\n",
      "False Positives per class :  [ 72.  60.  40. 158.]\n",
      "False Negatives per class :  [ 69.  48.  83. 130.]\n",
      "\n",
      "Class angry : Precision : 0.870, Recall : 0.875, F1 : 0.872\n",
      "Class happy : Precision : 0.857, Recall : 0.882, F1 : 0.869\n",
      "Class sad : Precision : 0.926, Recall : 0.857, F1 : 0.890\n",
      "\n",
      "Ignoring the Others class, Macro Precision : 0.8841, Macro Recall : 0.8712, Macro F1 : 0.8776\n",
      "Ignoring the Others class, Micro TP : 1338, FP : 172, FN : 200\n",
      "\n",
      "Accuracy : 0.8906, Micro Precision : 0.8861, Micro Recall : 0.8700, Micro F1 : 0.8780\n"
     ]
    },
    {
     "data": {
      "image/png": "[encoded data removed]",
      "text/plain": [
       "<Figure size 504x360 with 2 Axes>"
      ]
     },
     "metadata": {
      "needs_background": "light"
     },
     "output_type": "display_data"
    }
   ],
   "source": [
    "y_pred_tst = get_predictions(model, x_tst, y_tst) # Last Best"
   ]
  },
  {
   "cell_type": "code",
   "execution_count": 164,
   "metadata": {
    "ExecuteTime": {
     "end_time": "2018-12-03T17:38:43.399957Z",
     "start_time": "2018-12-03T17:38:23.160234Z"
    }
   },
   "outputs": [
    {
     "name": "stdout",
     "output_type": "stream",
     "text": [
      "True Positives per class :  [ 508.  377.  507. 1331.]\n",
      "False Positives per class :  [91. 49. 54. 99.]\n",
      "False Negatives per class :  [ 36.  65.  44. 148.]\n",
      "\n",
      "Class angry : Precision : 0.848, Recall : 0.934, F1 : 0.889\n",
      "Class happy : Precision : 0.885, Recall : 0.853, F1 : 0.869\n",
      "Class sad : Precision : 0.904, Recall : 0.920, F1 : 0.912\n",
      "\n",
      "Ignoring the Others class, Macro Precision : 0.8789, Macro Recall : 0.9023, Macro F1 : 0.8905\n",
      "Ignoring the Others class, Micro TP : 1392, FP : 194, FN : 145\n",
      "\n",
      "Accuracy : 0.9029, Micro Precision : 0.8777, Micro Recall : 0.9057, Micro F1 : 0.8915\n"
     ]
    },
    {
     "data": {
      "image/png": "[encoded data removed]",
      "text/plain": [
       "<Figure size 504x360 with 2 Axes>"
      ]
     },
     "metadata": {
      "needs_background": "light"
     },
     "output_type": "display_data"
    }
   ],
   "source": [
    "y_pred_tst = get_predictions(model, x_tst, y_tst)"
   ]
  },
  {
   "cell_type": "code",
   "execution_count": 114,
   "metadata": {
    "ExecuteTime": {
     "end_time": "2018-12-03T15:28:09.106399Z",
     "start_time": "2018-12-03T15:28:06.930094Z"
    }
   },
   "outputs": [],
   "source": [
    "model.save('pickles/models/tst_acc_0.89-tst_f1_0.878.h5')"
   ]
  },
  {
   "cell_type": "markdown",
   "metadata": {},
   "source": [
    "### Generating a submission file"
   ]
  },
  {
   "cell_type": "code",
   "execution_count": 166,
   "metadata": {
    "ExecuteTime": {
     "end_time": "2018-12-03T17:42:59.662174Z",
     "start_time": "2018-12-03T17:42:28.621855Z"
    }
   },
   "outputs": [
    {
     "name": "stdout",
     "output_type": "stream",
     "text": [
      "Loading dataset...\n",
      "Reading twitter - 1grams ...\n",
      "Reading twitter - 2grams ...\n"
     ]
    },
    {
     "name": "stderr",
     "output_type": "stream",
     "text": [
      "\r",
      "Preprocessing...:   0%|          | 0/2755 [00:00<?, ?it/s]"
     ]
    },
    {
     "name": "stdout",
     "output_type": "stream",
     "text": [
      "Reading twitter - 1grams ...\n"
     ]
    },
    {
     "name": "stderr",
     "output_type": "stream",
     "text": [
      "Preprocessing...: 100%|██████████| 2755/2755 [00:01<00:00, 2726.38it/s]\n"
     ]
    },
    {
     "name": "stdout",
     "output_type": "stream",
     "text": [
      "Generating Predictions...\n",
      "Done. Wrote submission.txt file at project's root\n"
     ]
    }
   ],
   "source": [
    "generate_predictions(model, 'data/test.txt', word_index=word_index)"
   ]
  },
  {
   "cell_type": "code",
   "execution_count": null,
   "metadata": {},
   "outputs": [],
   "source": []
  }
 ],
 "metadata": {
  "kernelspec": {
   "display_name": "Python 3",
   "language": "python",
   "name": "python3"
  },
  "language_info": {
   "codemirror_mode": {
    "name": "ipython",
    "version": 3
   },
   "file_extension": ".py",
   "mimetype": "text/x-python",
   "name": "python",
   "nbconvert_exporter": "python",
   "pygments_lexer": "ipython3",
   "version": "3.6.6"
  }
 },
 "nbformat": 4,
 "nbformat_minor": 2
}
