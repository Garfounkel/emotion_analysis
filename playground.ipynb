{
 "cells": [
  {
   "cell_type": "code",
   "execution_count": 1,
   "metadata": {
    "ExecuteTime": {
     "end_time": "2018-12-28T13:00:16.473146Z",
     "start_time": "2018-12-28T13:00:16.437222Z"
    }
   },
   "outputs": [],
   "source": [
    "%load_ext autoreload\n",
    "%autoreload 2"
   ]
  },
  {
   "cell_type": "code",
   "execution_count": 74,
   "metadata": {
    "ExecuteTime": {
     "end_time": "2018-12-28T18:01:55.034053Z",
     "start_time": "2018-12-28T18:01:54.837349Z"
    }
   },
   "outputs": [],
   "source": [
    "import pandas as pd\n",
    "import numpy as np\n",
    "from keras.utils import to_categorical\n",
    "from keras.callbacks import ModelCheckpoint, EarlyStopping\n",
    "from keras.models import load_model\n",
    "from sklearn.utils import class_weight\n",
    "from collections import defaultdict\n",
    "import matplotlib.pyplot as plt\n",
    "import pickle\n",
    "\n",
    "from src.embeddings import get_embedding_dictionnary, get_embeddings_and_word_index, sequences_to_index\n",
    "from src.dataset import load_dataset, load_datasets_and_vocab_pipeline, train_test_val_split\n",
    "from src.evaluate import get_metrics, get_predictions, compare_metrics\n",
    "from src.models import model_mine\n",
    "from src.submission import generate_predictions\n",
    "from src.model_saverloader import save_model_full, load_model_full, load_best_metrics\n",
    "\n",
    "embeddings_path = '../sentiment_analysis/data/embeddings/datastories.twitter.300d.txt'"
   ]
  },
  {
   "cell_type": "markdown",
   "metadata": {},
   "source": [
    "### Load and preprocess Train and Test"
   ]
  },
  {
   "cell_type": "code",
   "execution_count": 3,
   "metadata": {
    "ExecuteTime": {
     "end_time": "2018-12-28T13:00:48.490668Z",
     "start_time": "2018-12-28T13:00:25.556188Z"
    }
   },
   "outputs": [
    {
     "name": "stdout",
     "output_type": "stream",
     "text": [
      "Reading twitter - 1grams ...\n",
      "Reading twitter - 2grams ...\n"
     ]
    },
    {
     "name": "stderr",
     "output_type": "stream",
     "text": [
      "\r",
      "Preprocessing...:   0%|          | 0/30160 [00:00<?, ?it/s]"
     ]
    },
    {
     "name": "stdout",
     "output_type": "stream",
     "text": [
      "Reading twitter - 1grams ...\n"
     ]
    },
    {
     "name": "stderr",
     "output_type": "stream",
     "text": [
      "Preprocessing...: 100%|██████████| 30160/30160 [00:10<00:00, 2750.98it/s]\n",
      "Preprocessing...: 100%|██████████| 2755/2755 [00:01<00:00, 1716.43it/s]\n",
      "Building vocabulary...: 100%|██████████| 32915/32915 [00:00<00:00, 165836.64it/s]\n"
     ]
    }
   ],
   "source": [
    "(X_train, y_train), (X_test, y_test), (vocab, max_seq_len) = load_datasets_and_vocab_pipeline()"
   ]
  },
  {
   "cell_type": "code",
   "execution_count": 4,
   "metadata": {
    "ExecuteTime": {
     "end_time": "2018-12-28T13:00:48.567377Z",
     "start_time": "2018-12-28T13:00:48.494415Z"
    }
   },
   "outputs": [
    {
     "data": {
      "text/plain": [
       "((30160,), (30160,), (2755,), (2755,))"
      ]
     },
     "execution_count": 4,
     "metadata": {},
     "output_type": "execute_result"
    }
   ],
   "source": [
    "X_train.shape, X_train.values.shape, X_test.shape, y_test.values.shape"
   ]
  },
  {
   "cell_type": "markdown",
   "metadata": {},
   "source": [
    "### Check sequences lengths"
   ]
  },
  {
   "cell_type": "code",
   "execution_count": 8,
   "metadata": {
    "ExecuteTime": {
     "end_time": "2018-12-14T17:53:00.904509Z",
     "start_time": "2018-12-14T17:53:00.836170Z"
    }
   },
   "outputs": [],
   "source": [
    "lenghts = [len(x) for x in X_train]\n",
    "lenghts += [len(x) for x in X_test]"
   ]
  },
  {
   "cell_type": "code",
   "execution_count": 9,
   "metadata": {
    "ExecuteTime": {
     "end_time": "2018-12-14T17:53:01.379065Z",
     "start_time": "2018-12-14T17:53:01.324526Z"
    }
   },
   "outputs": [
    {
     "data": {
      "text/plain": [
       "32915"
      ]
     },
     "execution_count": 9,
     "metadata": {},
     "output_type": "execute_result"
    }
   ],
   "source": [
    "len(lenghts)"
   ]
  },
  {
   "cell_type": "code",
   "execution_count": 16,
   "metadata": {
    "ExecuteTime": {
     "end_time": "2018-12-14T17:56:18.061439Z",
     "start_time": "2018-12-14T17:56:17.703983Z"
    }
   },
   "outputs": [
    {
     "data": {
      "text/plain": [
       "(array([2.3686e+04, 8.6050e+03, 5.4600e+02, 6.7000e+01, 6.0000e+00,\n",
       "        2.0000e+00, 0.0000e+00, 1.0000e+00, 1.0000e+00, 1.0000e+00]),\n",
       " array([  5. ,  20.8,  36.6,  52.4,  68.2,  84. ,  99.8, 115.6, 131.4,\n",
       "        147.2, 163. ]),\n",
       " <a list of 10 Patch objects>)"
      ]
     },
     "execution_count": 16,
     "metadata": {},
     "output_type": "execute_result"
    },
    {
     "data": {
      "image/png": "[encoded data removed]",
      "text/plain": [
       "<Figure size 432x288 with 1 Axes>"
      ]
     },
     "metadata": {
      "needs_background": "light"
     },
     "output_type": "display_data"
    }
   ],
   "source": [
    "plt.hist(lenghts)"
   ]
  },
  {
   "cell_type": "code",
   "execution_count": 22,
   "metadata": {
    "ExecuteTime": {
     "end_time": "2018-12-14T17:57:00.376786Z",
     "start_time": "2018-12-14T17:57:00.315031Z"
    }
   },
   "outputs": [
    {
     "data": {
      "text/plain": [
       "6"
      ]
     },
     "execution_count": 22,
     "metadata": {},
     "output_type": "execute_result"
    }
   ],
   "source": [
    "len([l for l in lenghts if l > 80])"
   ]
  },
  {
   "cell_type": "code",
   "execution_count": 12,
   "metadata": {
    "ExecuteTime": {
     "end_time": "2018-12-14T17:54:40.707669Z",
     "start_time": "2018-12-14T17:54:40.630957Z"
    }
   },
   "outputs": [
    {
     "data": {
      "text/plain": [
       "[163,\n",
       " 143,\n",
       " 118,\n",
       " 87,\n",
       " 85,\n",
       " 81,\n",
       " 79,\n",
       " 77,\n",
       " 75,\n",
       " 74,\n",
       " 74,\n",
       " 68,\n",
       " 68,\n",
       " 68,\n",
       " 67,\n",
       " 67,\n",
       " 67,\n",
       " 66,\n",
       " 66,\n",
       " 66,\n",
       " 66,\n",
       " 66,\n",
       " 65,\n",
       " 65,\n",
       " 65,\n",
       " 65,\n",
       " 65,\n",
       " 64,\n",
       " 64,\n",
       " 64]"
      ]
     },
     "execution_count": 12,
     "metadata": {},
     "output_type": "execute_result"
    }
   ],
   "source": [
    "sorted(lenghts, reverse=True)[:30]"
   ]
  },
  {
   "cell_type": "code",
   "execution_count": null,
   "metadata": {},
   "outputs": [],
   "source": []
  },
  {
   "cell_type": "markdown",
   "metadata": {},
   "source": [
    "### Compute the classes weights because our dataset is largely unbalanced"
   ]
  },
  {
   "cell_type": "code",
   "execution_count": 43,
   "metadata": {
    "ExecuteTime": {
     "end_time": "2018-12-28T15:39:10.217154Z",
     "start_time": "2018-12-28T15:39:10.130569Z"
    }
   },
   "outputs": [
    {
     "data": {
      "text/plain": [
       "array([1.36941518, 1.77704454, 1.38019403, 0.50441531])"
      ]
     },
     "execution_count": 43,
     "metadata": {},
     "output_type": "execute_result"
    }
   ],
   "source": [
    "cls_weights = class_weight.compute_class_weight('balanced', np.unique(y_train), y_train)\n",
    "cls_weights"
   ]
  },
  {
   "cell_type": "code",
   "execution_count": 56,
   "metadata": {
    "ExecuteTime": {
     "end_time": "2018-12-26T17:56:01.186069Z",
     "start_time": "2018-12-26T17:56:01.114352Z"
    }
   },
   "outputs": [
    {
     "data": {
      "text/plain": [
       "array([4.59166667, 4.85035211, 5.51      , 0.29458939])"
      ]
     },
     "execution_count": 56,
     "metadata": {},
     "output_type": "execute_result"
    }
   ],
   "source": [
    "cls_weights_tst = class_weight.compute_class_weight('balanced', np.unique(y_test), y_test)\n",
    "cls_weights_tst"
   ]
  },
  {
   "cell_type": "markdown",
   "metadata": {},
   "source": [
    "### Create an embedding matrix for our vocabulary"
   ]
  },
  {
   "cell_type": "code",
   "execution_count": 7,
   "metadata": {
    "ExecuteTime": {
     "end_time": "2018-12-28T13:03:04.409876Z",
     "start_time": "2018-12-28T13:03:04.294845Z"
    },
    "scrolled": true
   },
   "outputs": [
    {
     "name": "stdout",
     "output_type": "stream",
     "text": [
      "Unknown words from the vocabulary: 507 (previously 1300 without spellcheck fixes)\n",
      "3.44% of our vocabulary are unknown words to the embedding matrix\n"
     ]
    }
   ],
   "source": [
    "emb_matrix, word_index, unknown_words = get_embeddings_and_word_index(embeddings_path, max_seq_len, vocab)\n",
    "# Unknown words: 1300\n",
    "\n",
    "print(f'Unknown words from the vocabulary: {len(unknown_words)} (previously 1300 without spellcheck fixes)')\n",
    "print(f'{len(unknown_words) / len(vocab) * 100:.2f}% of our vocabulary are unknown words to the embedding matrix')"
   ]
  },
  {
   "cell_type": "markdown",
   "metadata": {},
   "source": [
    "### Transforming our sequences of words to indexes"
   ]
  },
  {
   "cell_type": "code",
   "execution_count": 12,
   "metadata": {
    "ExecuteTime": {
     "end_time": "2018-12-28T13:05:34.724904Z",
     "start_time": "2018-12-28T13:05:24.411427Z"
    }
   },
   "outputs": [
    {
     "data": {
      "text/plain": [
       "((30160, 163), (2755, 163))"
      ]
     },
     "execution_count": 12,
     "metadata": {},
     "output_type": "execute_result"
    }
   ],
   "source": [
    "X_train = sequences_to_index(X_train, word_index, max_seq_len)\n",
    "X_test = sequences_to_index(X_test, word_index, max_seq_len)\n",
    "\n",
    "X_train.shape, X_test.shape"
   ]
  },
  {
   "cell_type": "code",
   "execution_count": 13,
   "metadata": {
    "ExecuteTime": {
     "end_time": "2018-12-28T13:05:34.861569Z",
     "start_time": "2018-12-28T13:05:34.728679Z"
    }
   },
   "outputs": [
    {
     "name": "stdout",
     "output_type": "stream",
     "text": [
      "training set: 21111 samples\n",
      "validation set: 9049 samples\n",
      "x_train: (21111, 163)\n",
      "y_train: (21111, 4)\n"
     ]
    }
   ],
   "source": [
    "y_train = to_categorical(y_train, 4) if len(y_train.shape) == 1 else y_train\n",
    "y_test = to_categorical(y_test, 4) if len(y_test.shape) == 1 else y_test\n",
    "(x_trn, y_trn), (x_val, y_val) = train_test_val_split(X_train, y_train)\n",
    "\n",
    "print('training set: ' + str(len(x_trn)) + ' samples')\n",
    "print('validation set: ' + str(len(x_val)) + ' samples')\n",
    "\n",
    "print('x_train:', x_trn.shape)\n",
    "print('y_train:', y_trn.shape)"
   ]
  },
  {
   "cell_type": "markdown",
   "metadata": {},
   "source": [
    "### Training"
   ]
  },
  {
   "cell_type": "code",
   "execution_count": 39,
   "metadata": {
    "ExecuteTime": {
     "end_time": "2018-12-28T15:38:28.228232Z",
     "start_time": "2018-12-28T15:38:25.231215Z"
    }
   },
   "outputs": [
    {
     "name": "stdout",
     "output_type": "stream",
     "text": [
      "_________________________________________________________________\n",
      "Layer (type)                 Output Shape              Param #   \n",
      "=================================================================\n",
      "embedding_layer (Embedding)  (None, 163, 300)          4424100   \n",
      "_________________________________________________________________\n",
      "dropout_1 (Dropout)          (None, 163, 300)          0         \n",
      "_________________________________________________________________\n",
      "bidirectional_1 (Bidirection (None, 163, 300)          541200    \n",
      "_________________________________________________________________\n",
      "dropout_2 (Dropout)          (None, 163, 300)          0         \n",
      "_________________________________________________________________\n",
      "bidirectional_2 (Bidirection (None, 163, 300)          541200    \n",
      "_________________________________________________________________\n",
      "dropout_3 (Dropout)          (None, 163, 300)          0         \n",
      "_________________________________________________________________\n",
      "flatten_1 (Flatten)          (None, 48900)             0         \n",
      "_________________________________________________________________\n",
      "dense_1 (Dense)              (None, 4)                 195604    \n",
      "=================================================================\n",
      "Total params: 5,702,104\n",
      "Trainable params: 1,278,004\n",
      "Non-trainable params: 4,424,100\n",
      "_________________________________________________________________\n",
      "None\n"
     ]
    }
   ],
   "source": [
    "model = model_mine(emb_matrix, max_seq_len)"
   ]
  },
  {
   "cell_type": "code",
   "execution_count": 40,
   "metadata": {
    "ExecuteTime": {
     "end_time": "2018-12-28T15:38:33.145601Z",
     "start_time": "2018-12-28T15:38:33.069924Z"
    }
   },
   "outputs": [],
   "source": [
    "callbacks_list = [\n",
    "        ModelCheckpoint(filepath='pickles/models/best.h5', save_best_only=True, verbose=1),\n",
    "        EarlyStopping(patience=3, verbose=0)\n",
    "    ]"
   ]
  },
  {
   "cell_type": "code",
   "execution_count": 44,
   "metadata": {
    "ExecuteTime": {
     "end_time": "2018-12-28T16:43:45.567684Z",
     "start_time": "2018-12-28T15:39:23.871494Z"
    }
   },
   "outputs": [
    {
     "name": "stdout",
     "output_type": "stream",
     "text": [
      "Train on 21111 samples, validate on 9049 samples\n",
      "Epoch 1/10\n",
      "21111/21111 [==============================] - 384s 18ms/step - loss: 0.7778 - acc: 0.6932 - val_loss: 0.5683 - val_acc: 0.7809\n",
      "\n",
      "Epoch 00001: val_loss improved from inf to 0.56829, saving model to pickles/models/best.h5\n",
      "Epoch 2/10\n",
      "21111/21111 [==============================] - 377s 18ms/step - loss: 0.5163 - acc: 0.8046 - val_loss: 0.4471 - val_acc: 0.8334\n",
      "\n",
      "Epoch 00002: val_loss improved from 0.56829 to 0.44709, saving model to pickles/models/best.h5\n",
      "Epoch 3/10\n",
      "21111/21111 [==============================] - 384s 18ms/step - loss: 0.4321 - acc: 0.8428 - val_loss: 0.3703 - val_acc: 0.8676\n",
      "\n",
      "Epoch 00003: val_loss improved from 0.44709 to 0.37026, saving model to pickles/models/best.h5\n",
      "Epoch 4/10\n",
      "21111/21111 [==============================] - 388s 18ms/step - loss: 0.3760 - acc: 0.8623 - val_loss: 0.3676 - val_acc: 0.8715\n",
      "\n",
      "Epoch 00004: val_loss improved from 0.37026 to 0.36764, saving model to pickles/models/best.h5\n",
      "Epoch 5/10\n",
      "21111/21111 [==============================] - 385s 18ms/step - loss: 0.3277 - acc: 0.8803 - val_loss: 0.3270 - val_acc: 0.8822\n",
      "\n",
      "Epoch 00005: val_loss improved from 0.36764 to 0.32695, saving model to pickles/models/best.h5\n",
      "Epoch 6/10\n",
      "21111/21111 [==============================] - 388s 18ms/step - loss: 0.2972 - acc: 0.8927 - val_loss: 0.3149 - val_acc: 0.8882\n",
      "\n",
      "Epoch 00006: val_loss improved from 0.32695 to 0.31493, saving model to pickles/models/best.h5\n",
      "Epoch 7/10\n",
      "21111/21111 [==============================] - 385s 18ms/step - loss: 0.2696 - acc: 0.8994 - val_loss: 0.3127 - val_acc: 0.8904\n",
      "\n",
      "Epoch 00007: val_loss improved from 0.31493 to 0.31275, saving model to pickles/models/best.h5\n",
      "Epoch 8/10\n",
      "21111/21111 [==============================] - 387s 18ms/step - loss: 0.2472 - acc: 0.9114 - val_loss: 0.3070 - val_acc: 0.8952\n",
      "\n",
      "Epoch 00008: val_loss improved from 0.31275 to 0.30698, saving model to pickles/models/best.h5\n",
      "Epoch 9/10\n",
      "21111/21111 [==============================] - 385s 18ms/step - loss: 0.2228 - acc: 0.9182 - val_loss: 0.3015 - val_acc: 0.8951\n",
      "\n",
      "Epoch 00009: val_loss improved from 0.30698 to 0.30148, saving model to pickles/models/best.h5\n",
      "Epoch 10/10\n",
      "21111/21111 [==============================] - 388s 18ms/step - loss: 0.2036 - acc: 0.9269 - val_loss: 0.3091 - val_acc: 0.8986\n",
      "\n",
      "Epoch 00010: val_loss did not improve from 0.30148\n"
     ]
    }
   ],
   "source": [
    "history = model.fit(x_trn, y_trn, batch_size=128, validation_data=(x_val, y_val), epochs=10, class_weight=cls_weights, callbacks=callbacks_list)"
   ]
  },
  {
   "cell_type": "code",
   "execution_count": 64,
   "metadata": {
    "ExecuteTime": {
     "end_time": "2018-12-28T17:30:58.980415Z",
     "start_time": "2018-12-28T16:58:48.851004Z"
    }
   },
   "outputs": [
    {
     "name": "stdout",
     "output_type": "stream",
     "text": [
      "Train on 21111 samples, validate on 9049 samples\n",
      "Epoch 11/15\n",
      "21111/21111 [==============================] - 391s 19ms/step - loss: 0.1823 - acc: 0.9343 - val_loss: 0.3465 - val_acc: 0.8893\n",
      "\n",
      "Epoch 00011: val_loss did not improve from 0.30148\n",
      "Epoch 12/15\n",
      "21111/21111 [==============================] - 386s 18ms/step - loss: 0.1712 - acc: 0.9370 - val_loss: 0.3332 - val_acc: 0.8968\n",
      "\n",
      "Epoch 00012: val_loss did not improve from 0.30148\n",
      "Epoch 13/15\n",
      "21111/21111 [==============================] - 387s 18ms/step - loss: 0.1563 - acc: 0.9435 - val_loss: 0.3574 - val_acc: 0.8916\n",
      "\n",
      "Epoch 00013: val_loss did not improve from 0.30148\n",
      "Epoch 14/15\n",
      "21111/21111 [==============================] - 385s 18ms/step - loss: 0.1437 - acc: 0.9469 - val_loss: 0.3793 - val_acc: 0.8936\n",
      "\n",
      "Epoch 00014: val_loss did not improve from 0.30148\n",
      "Epoch 15/15\n",
      "21111/21111 [==============================] - 381s 18ms/step - loss: 0.1247 - acc: 0.9544 - val_loss: 0.3988 - val_acc: 0.8906\n",
      "\n",
      "Epoch 00015: val_loss did not improve from 0.30148\n"
     ]
    }
   ],
   "source": [
    "epochs_to_do = 5\n",
    "\n",
    "initial_ep = model.history.params['epochs']\n",
    "epochs = epochs_to_do + initial_ep\n",
    "\n",
    "history2 = model.fit(x_trn, y_trn, batch_size=128, validation_data=(x_val, y_val), epochs=epochs, initial_epoch=initial_ep, class_weight=cls_weights, callbacks=callbacks_list)"
   ]
  },
  {
   "cell_type": "code",
   "execution_count": 65,
   "metadata": {
    "ExecuteTime": {
     "end_time": "2018-12-28T17:45:15.548089Z",
     "start_time": "2018-12-28T17:45:15.090670Z"
    }
   },
   "outputs": [
    {
     "data": {
      "text/plain": [
       "<matplotlib.legend.Legend at 0x7f83317047f0>"
      ]
     },
     "execution_count": 65,
     "metadata": {},
     "output_type": "execute_result"
    },
    {
     "data": {
      "image/png": "[encoded data removed]",
      "text/plain": [
       "<Figure size 432x288 with 1 Axes>"
      ]
     },
     "metadata": {
      "needs_background": "light"
     },
     "output_type": "display_data"
    }
   ],
   "source": [
    "import matplotlib.pyplot as plt\n",
    "\n",
    "\n",
    "plt.plot(history.epoch + history2.epoch, history.history['val_loss'] + history2.history['val_loss'], label='val_loss')\n",
    "plt.plot(history.epoch + history2.epoch, history.history['loss'] + history2.history['loss'], label='loss')\n",
    "plt.legend()"
   ]
  },
  {
   "cell_type": "markdown",
   "metadata": {},
   "source": [
    "### Training Others vs all"
   ]
  },
  {
   "cell_type": "code",
   "execution_count": 79,
   "metadata": {
    "ExecuteTime": {
     "end_time": "2018-12-12T20:14:47.635786Z",
     "start_time": "2018-12-12T20:14:42.193055Z"
    }
   },
   "outputs": [
    {
     "name": "stdout",
     "output_type": "stream",
     "text": [
      "_________________________________________________________________\n",
      "Layer (type)                 Output Shape              Param #   \n",
      "=================================================================\n",
      "embedding_layer (Embedding)  (None, 163, 300)          4424400   \n",
      "_________________________________________________________________\n",
      "dropout_4 (Dropout)          (None, 163, 300)          0         \n",
      "_________________________________________________________________\n",
      "bidirectional_3 (Bidirection (None, 163, 300)          541200    \n",
      "_________________________________________________________________\n",
      "dropout_5 (Dropout)          (None, 163, 300)          0         \n",
      "_________________________________________________________________\n",
      "bidirectional_4 (Bidirection (None, 163, 300)          541200    \n",
      "_________________________________________________________________\n",
      "dropout_6 (Dropout)          (None, 163, 300)          0         \n",
      "_________________________________________________________________\n",
      "flatten_2 (Flatten)          (None, 48900)             0         \n",
      "_________________________________________________________________\n",
      "dense_2 (Dense)              (None, 2)                 97802     \n",
      "=================================================================\n",
      "Total params: 5,604,602\n",
      "Trainable params: 1,180,202\n",
      "Non-trainable params: 4,424,400\n",
      "_________________________________________________________________\n",
      "None\n"
     ]
    }
   ],
   "source": [
    "model_bin = model_mine(emb_matrix, max_seq_len, class_number=2)"
   ]
  },
  {
   "cell_type": "code",
   "execution_count": 88,
   "metadata": {
    "ExecuteTime": {
     "end_time": "2018-12-12T20:19:02.890621Z",
     "start_time": "2018-12-12T20:19:02.803041Z"
    }
   },
   "outputs": [],
   "source": [
    "binarize = np.vectorize(lambda x: 0 if x in [0, 1, 2] else 1)\n",
    "\n",
    "y_trn_2 = to_categorical(binarize(y_trn.argmax(axis=1)), 2)\n",
    "y_val_2 = to_categorical(binarize(y_val.argmax(axis=1)), 2)"
   ]
  },
  {
   "cell_type": "code",
   "execution_count": 89,
   "metadata": {
    "ExecuteTime": {
     "end_time": "2018-12-12T20:19:04.070683Z",
     "start_time": "2018-12-12T20:19:04.012989Z"
    }
   },
   "outputs": [],
   "source": [
    "callbacks_list_2 = [\n",
    "        ModelCheckpoint(filepath='pickles/models/best_bin.h5', save_best_only=True, verbose=1),\n",
    "        EarlyStopping(patience=3, verbose=0)\n",
    "    ]"
   ]
  },
  {
   "cell_type": "code",
   "execution_count": 90,
   "metadata": {
    "ExecuteTime": {
     "end_time": "2018-12-12T20:39:57.393472Z",
     "start_time": "2018-12-12T20:19:04.523265Z"
    }
   },
   "outputs": [
    {
     "name": "stdout",
     "output_type": "stream",
     "text": [
      "Train on 21111 samples, validate on 9049 samples\n",
      "Epoch 1/3\n",
      "21111/21111 [==============================] - 419s 20ms/step - loss: 0.5068 - acc: 0.7452 - val_loss: 0.4039 - val_acc: 0.8240\n",
      "\n",
      "Epoch 00001: val_loss improved from inf to 0.40387, saving model to pickles/models/best_bin.h5\n",
      "Epoch 2/3\n",
      "21111/21111 [==============================] - 413s 20ms/step - loss: 0.3873 - acc: 0.8304 - val_loss: 0.3391 - val_acc: 0.8597\n",
      "\n",
      "Epoch 00002: val_loss improved from 0.40387 to 0.33913, saving model to pickles/models/best_bin.h5\n",
      "Epoch 3/3\n",
      "21111/21111 [==============================] - 410s 19ms/step - loss: 0.3323 - acc: 0.8611 - val_loss: 0.3221 - val_acc: 0.8695\n",
      "\n",
      "Epoch 00003: val_loss improved from 0.33913 to 0.32211, saving model to pickles/models/best_bin.h5\n"
     ]
    }
   ],
   "source": [
    "history = model_bin.fit(x_trn, y_trn_2, batch_size=128, validation_data=(x_val, y_val_2), epochs=3, callbacks=callbacks_list_2)"
   ]
  },
  {
   "cell_type": "code",
   "execution_count": 92,
   "metadata": {
    "ExecuteTime": {
     "end_time": "2018-12-12T21:31:48.183065Z",
     "start_time": "2018-12-12T20:57:29.672873Z"
    }
   },
   "outputs": [
    {
     "name": "stdout",
     "output_type": "stream",
     "text": [
      "Train on 21111 samples, validate on 9049 samples\n",
      "Epoch 1/10\n",
      "21111/21111 [==============================] - 412s 20ms/step - loss: 0.2985 - acc: 0.8794 - val_loss: 0.3039 - val_acc: 0.8853\n",
      "\n",
      "Epoch 00001: val_loss improved from 0.32211 to 0.30394, saving model to pickles/models/best_bin.h5\n",
      "Epoch 2/10\n",
      "21111/21111 [==============================] - 412s 20ms/step - loss: 0.2764 - acc: 0.8892 - val_loss: 0.2682 - val_acc: 0.8946\n",
      "\n",
      "Epoch 00002: val_loss improved from 0.30394 to 0.26821, saving model to pickles/models/best_bin.h5\n",
      "Epoch 3/10\n",
      "21111/21111 [==============================] - 414s 20ms/step - loss: 0.2487 - acc: 0.8996 - val_loss: 0.2698 - val_acc: 0.8971\n",
      "\n",
      "Epoch 00003: val_loss did not improve from 0.26821\n",
      "Epoch 4/10\n",
      "21111/21111 [==============================] - 411s 19ms/step - loss: 0.2297 - acc: 0.9126 - val_loss: 0.2754 - val_acc: 0.8969\n",
      "\n",
      "Epoch 00004: val_loss did not improve from 0.26821\n",
      "Epoch 5/10\n",
      "21111/21111 [==============================] - 409s 19ms/step - loss: 0.2082 - acc: 0.9173 - val_loss: 0.2728 - val_acc: 0.9028\n",
      "\n",
      "Epoch 00005: val_loss did not improve from 0.26821\n"
     ]
    }
   ],
   "source": [
    "history = model_bin.fit(x_trn, y_trn_2, batch_size=128, validation_data=(x_val, y_val_2), epochs=10, callbacks=callbacks_list_2)"
   ]
  },
  {
   "cell_type": "markdown",
   "metadata": {},
   "source": [
    "### Plot model 4 vs model 2"
   ]
  },
  {
   "cell_type": "code",
   "execution_count": 18,
   "metadata": {
    "ExecuteTime": {
     "end_time": "2018-12-13T12:45:00.123176Z",
     "start_time": "2018-12-13T12:44:49.573276Z"
    }
   },
   "outputs": [],
   "source": [
    "model_bin = load_model('pickles/models/best_bin.h5')"
   ]
  },
  {
   "cell_type": "code",
   "execution_count": 19,
   "metadata": {
    "ExecuteTime": {
     "end_time": "2018-12-13T12:47:29.429718Z",
     "start_time": "2018-12-13T12:45:02.150105Z"
    }
   },
   "outputs": [],
   "source": [
    "m_4 = last_best\n",
    "m_2 = model_bin\n",
    "\n",
    "preds_4 = m_4.predict(X_test, batch_size=128)\n",
    "preds_2 = m_2.predict(X_test, batch_size=128)"
   ]
  },
  {
   "cell_type": "code",
   "execution_count": 20,
   "metadata": {
    "ExecuteTime": {
     "end_time": "2018-12-13T12:47:46.601355Z",
     "start_time": "2018-12-13T12:47:46.489217Z"
    }
   },
   "outputs": [],
   "source": [
    "np.save('pickles/preds/preds_4.npy', preds_4)\n",
    "np.save('pickles/preds/preds_2.npy', preds_2)"
   ]
  },
  {
   "cell_type": "code",
   "execution_count": 21,
   "metadata": {
    "ExecuteTime": {
     "end_time": "2018-12-13T12:49:02.811830Z",
     "start_time": "2018-12-13T12:49:02.724913Z"
    }
   },
   "outputs": [],
   "source": [
    "preds_4 = np.load('pickles/preds/preds_4.npy')\n",
    "preds_2 = np.load('pickles/preds/preds_2.npy')"
   ]
  },
  {
   "cell_type": "code",
   "execution_count": 32,
   "metadata": {
    "ExecuteTime": {
     "end_time": "2018-12-13T12:50:41.345948Z",
     "start_time": "2018-12-13T12:50:40.860942Z"
    }
   },
   "outputs": [
    {
     "data": {
      "image/png": "[encoded data removed]",
      "text/plain": [
       "<Figure size 432x288 with 1 Axes>"
      ]
     },
     "metadata": {
      "needs_background": "light"
     },
     "output_type": "display_data"
    }
   ],
   "source": [
    "noised_4 = preds_4.argmax(axis=1) + np.random.uniform(low=-0.3, high=0.3, size=len(X_test))\n",
    "noised_2 = preds_2.argmax(axis=1) + np.random.uniform(low=-0.3, high=0.3, size=len(X_test))\n",
    "\n",
    "labels = y_test.argmax(axis=1)\n",
    "\n",
    "unique = np.unique(labels)\n",
    "colors = ['r', 'b', 'g', 'y']\n",
    "for i, u in enumerate(unique):\n",
    "    xi = [noised_4[j] for j  in range(len(noised_4)) if labels[j] == u]\n",
    "    yi = [noised_2[j] for j  in range(len(noised_2)) if labels[j] == u]\n",
    "    plt.scatter(xi, yi, c=colors[i], label=str(u))\n",
    "plt.legend(loc='center left', bbox_to_anchor=(1, 0.5));"
   ]
  },
  {
   "cell_type": "code",
   "execution_count": 45,
   "metadata": {
    "ExecuteTime": {
     "end_time": "2018-12-13T12:54:53.105150Z",
     "start_time": "2018-12-13T12:54:53.036301Z"
    }
   },
   "outputs": [
    {
     "name": "stdout",
     "output_type": "stream",
     "text": [
      "221 incorrectly classified others (2117 / 2338), f1=0.9216610549943883\n",
      "125 incorrectly classified others (2213 / 2338), f1=0.9408921116238189\n"
     ]
    }
   ],
   "source": [
    "from sklearn.metrics import f1_score\n",
    "\n",
    "binarize = np.vectorize(lambda x: 0 if x in [0, 1, 2] else 1)\n",
    "\n",
    "def wrong_others(preds, y_test):\n",
    "    y_hat = preds.argmax(axis=1)\n",
    "    if np.max(y_hat) == 3:\n",
    "        y_hat = binarize(y_hat)\n",
    "    \n",
    "    bin_y_test = binarize(y_test.argmax(axis=1))\n",
    "    \n",
    "    num_others_preds = len(np.argwhere(y_hat == 1))\n",
    "    num_others_y_test = len(np.argwhere(bin_y_test == 1))\n",
    "    \n",
    "    print(f'{abs(num_others_y_test - num_others_preds)} incorrectly classified others ({num_others_preds} / {num_others_y_test}), f1={f1_score(y_hat, bin_y_test)}')\n",
    "\n",
    "\n",
    "wrong_others(preds_2, y_test)\n",
    "wrong_others(preds_4, y_test)"
   ]
  },
  {
   "cell_type": "code",
   "execution_count": 49,
   "metadata": {
    "ExecuteTime": {
     "end_time": "2018-12-13T12:56:22.875761Z",
     "start_time": "2018-12-13T12:56:22.804001Z"
    }
   },
   "outputs": [
    {
     "data": {
      "text/plain": [
       "(2755, 6)"
      ]
     },
     "execution_count": 49,
     "metadata": {},
     "output_type": "execute_result"
    }
   ],
   "source": [
    "combi_preds = np.hstack([preds_4, preds_2])\n",
    "combi_preds.shape"
   ]
  },
  {
   "cell_type": "code",
   "execution_count": 63,
   "metadata": {
    "ExecuteTime": {
     "end_time": "2018-12-13T14:29:55.083923Z",
     "start_time": "2018-12-13T14:04:30.466349Z"
    }
   },
   "outputs": [],
   "source": [
    "trn_preds_4 = m_4.predict(X_train, batch_size=128)\n",
    "trn_preds_2 = m_2.predict(X_train, batch_size=128)"
   ]
  },
  {
   "cell_type": "code",
   "execution_count": 66,
   "metadata": {
    "ExecuteTime": {
     "end_time": "2018-12-13T14:30:03.560720Z",
     "start_time": "2018-12-13T14:30:03.491279Z"
    }
   },
   "outputs": [],
   "source": [
    "np.save('pickles/preds/trn_preds_4.npy', trn_preds_4)\n",
    "np.save('pickles/preds/trn_preds_2.npy', trn_preds_2)"
   ]
  },
  {
   "cell_type": "code",
   "execution_count": 64,
   "metadata": {
    "ExecuteTime": {
     "end_time": "2018-12-13T14:29:55.201915Z",
     "start_time": "2018-12-13T14:29:55.104287Z"
    }
   },
   "outputs": [
    {
     "data": {
      "text/plain": [
       "(30160, 6)"
      ]
     },
     "execution_count": 64,
     "metadata": {},
     "output_type": "execute_result"
    }
   ],
   "source": [
    "combi_train_preds = np.hstack([trn_preds_4, trn_preds_2])\n",
    "combi_train_preds.shape"
   ]
  },
  {
   "cell_type": "code",
   "execution_count": 76,
   "metadata": {
    "ExecuteTime": {
     "end_time": "2018-12-13T14:42:03.346673Z",
     "start_time": "2018-12-13T14:42:02.598823Z"
    }
   },
   "outputs": [],
   "source": [
    "from sklearn.linear_model import LogisticRegression\n",
    "\n",
    "\n",
    "lreg = LogisticRegression(solver='lbfgs', multi_class='auto').fit(combi_train_preds, y_train.argmax(axis=1))"
   ]
  },
  {
   "cell_type": "code",
   "execution_count": 77,
   "metadata": {
    "ExecuteTime": {
     "end_time": "2018-12-13T14:42:04.422968Z",
     "start_time": "2018-12-13T14:42:04.356618Z"
    }
   },
   "outputs": [],
   "source": [
    "lreg_pred_sub = lreg.predict_proba(combi_preds)"
   ]
  },
  {
   "cell_type": "code",
   "execution_count": 78,
   "metadata": {
    "ExecuteTime": {
     "end_time": "2018-12-13T14:42:05.200551Z",
     "start_time": "2018-12-13T14:42:04.726991Z"
    }
   },
   "outputs": [
    {
     "name": "stdout",
     "output_type": "stream",
     "text": [
      "True Positives per class :  [ 129.  110.  101. 2140.]\n",
      "False Positives per class :  [90. 74. 47. 64.]\n",
      "False Negatives per class :  [ 21.  32.  24. 198.]\n",
      "\n",
      "Class angry : Precision : 0.589, Recall : 0.860, F1 : 0.699\n",
      "Class happy : Precision : 0.598, Recall : 0.775, F1 : 0.675\n",
      "Class sad : Precision : 0.682, Recall : 0.808, F1 : 0.740\n",
      "\n",
      "Ignoring the Others class, Macro Precision : 0.6231, Macro Recall : 0.8142, Macro F1 : 0.7060\n",
      "Ignoring the Others class, Micro TP : 340, FP : 211, FN : 77\n",
      "\n",
      "Accuracy : 0.9002, Micro Precision : 0.6171, Micro Recall : 0.8153, Micro F1 : 0.7025\n"
     ]
    },
    {
     "data": {
      "text/plain": [
       "(0.9001814882032668, 0.6170599, 0.81534773, 0.7024793392770537)"
      ]
     },
     "execution_count": 78,
     "metadata": {},
     "output_type": "execute_result"
    },
    {
     "data": {
      "image/png": "[encoded data removed]",
      "text/plain": [
       "<Figure size 504x360 with 2 Axes>"
      ]
     },
     "metadata": {
      "needs_background": "light"
     },
     "output_type": "display_data"
    }
   ],
   "source": [
    "get_metrics(lreg_pred_sub.argmax(axis=1), to_categorical(labels, 4))"
   ]
  },
  {
   "cell_type": "markdown",
   "metadata": {},
   "source": [
    "### Evaluating our model"
   ]
  },
  {
   "cell_type": "code",
   "execution_count": null,
   "metadata": {},
   "outputs": [],
   "source": [
    "model, emb_matrix, word_index, model_metrics = load_model_full()"
   ]
  },
  {
   "cell_type": "code",
   "execution_count": 68,
   "metadata": {
    "ExecuteTime": {
     "end_time": "2018-12-28T17:49:14.144798Z",
     "start_time": "2018-12-28T17:49:03.665773Z"
    }
   },
   "outputs": [],
   "source": [
    "model = load_model('pickles/models/best.h5')"
   ]
  },
  {
   "cell_type": "code",
   "execution_count": 86,
   "metadata": {
    "ExecuteTime": {
     "end_time": "2018-12-28T18:16:59.914482Z",
     "start_time": "2018-12-28T18:16:59.750128Z"
    }
   },
   "outputs": [
    {
     "name": "stdout",
     "output_type": "stream",
     "text": [
      "Best categorical model is acc_0.8980-f1_0.6945 with f1=0.6945\n"
     ]
    }
   ],
   "source": [
    "best_metrics = load_best_metrics(binary=False)"
   ]
  },
  {
   "cell_type": "markdown",
   "metadata": {},
   "source": [
    "#### Test set"
   ]
  },
  {
   "cell_type": "code",
   "execution_count": 69,
   "metadata": {
    "ExecuteTime": {
     "end_time": "2018-12-28T17:50:34.299937Z",
     "start_time": "2018-12-28T17:50:15.689794Z"
    }
   },
   "outputs": [
    {
     "data": {
      "text/plain": [
       "array([0, 1, 2, 3])"
      ]
     },
     "execution_count": 69,
     "metadata": {},
     "output_type": "execute_result"
    }
   ],
   "source": [
    "y_pred_test, proba_preds = get_predictions(model, X_test)\n",
    "np.unique(y_pred_test)"
   ]
  },
  {
   "cell_type": "code",
   "execution_count": 87,
   "metadata": {
    "ExecuteTime": {
     "end_time": "2018-12-28T18:18:02.987069Z",
     "start_time": "2018-12-28T18:18:02.025300Z"
    }
   },
   "outputs": [
    {
     "name": "stdout",
     "output_type": "stream",
     "text": [
      "True Positives per class :  [ 126.  106.  105. 2127.]\n",
      "False Positives per class :  [84. 70. 68. 69.]\n",
      "False Negatives per class :  [ 24.  36.  20. 211.]\n",
      "\n",
      "Class angry : Precision : 0.600, Recall : 0.840, F1 : 0.700\n",
      "Class happy : Precision : 0.602, Recall : 0.746, F1 : 0.667\n",
      "Class sad : Precision : 0.607, Recall : 0.840, F1 : 0.705\n",
      "\n",
      "Ignoring the Others class, Macro Precision : 0.6031, Macro Recall : 0.8088, Macro F1 : 0.6910\n",
      "Ignoring the Others class, Micro TP : 337, FP : 222, FN : 80\n",
      "\n"
     ]
    },
    {
     "data": {
      "image/png": "[encoded data removed]",
      "text/plain": [
       "<Figure size 1008x360 with 4 Axes>"
      ]
     },
     "metadata": {
      "needs_background": "light"
     },
     "output_type": "display_data"
    }
   ],
   "source": [
    "model_metrics = compare_metrics(proba_preds, y_test, best_metrics, binary_model=False)"
   ]
  },
  {
   "cell_type": "code",
   "execution_count": 73,
   "metadata": {
    "ExecuteTime": {
     "end_time": "2018-12-28T17:53:09.502534Z",
     "start_time": "2018-12-28T17:53:07.183009Z"
    }
   },
   "outputs": [
    {
     "name": "stdout",
     "output_type": "stream",
     "text": [
      "Model saved at pickles/models/categorical/acc_0.8944-f1_0.6906/\n"
     ]
    }
   ],
   "source": [
    "save_model_full(model, emb_matrix, word_index, model_metrics)"
   ]
  },
  {
   "cell_type": "markdown",
   "metadata": {},
   "source": [
    "### Generating a submission file"
   ]
  },
  {
   "cell_type": "code",
   "execution_count": 64,
   "metadata": {
    "ExecuteTime": {
     "end_time": "2018-12-12T18:38:11.205685Z",
     "start_time": "2018-12-12T18:37:40.773480Z"
    }
   },
   "outputs": [
    {
     "name": "stdout",
     "output_type": "stream",
     "text": [
      "Loading dataset...\n",
      "Reading twitter - 1grams ...\n",
      "Reading twitter - 2grams ...\n"
     ]
    },
    {
     "name": "stderr",
     "output_type": "stream",
     "text": [
      "\r",
      "Preprocessing...:   0%|          | 0/2755 [00:00<?, ?it/s]"
     ]
    },
    {
     "name": "stdout",
     "output_type": "stream",
     "text": [
      "Reading twitter - 1grams ...\n"
     ]
    },
    {
     "name": "stderr",
     "output_type": "stream",
     "text": [
      "Preprocessing...: 100%|██████████| 2755/2755 [00:00<00:00, 2928.88it/s]\n"
     ]
    },
    {
     "name": "stdout",
     "output_type": "stream",
     "text": [
      "Generating Predictions...\n",
      "Done. Wrote submission.txt file at project's root\n"
     ]
    }
   ],
   "source": [
    "y_pred_sub = generate_predictions(model, 'data/test.txt', word_index=word_index)"
   ]
  },
  {
   "cell_type": "code",
   "execution_count": null,
   "metadata": {},
   "outputs": [],
   "source": []
  }
 ],
 "metadata": {
  "kernelspec": {
   "display_name": "Python 3",
   "language": "python",
   "name": "python3"
  },
  "language_info": {
   "codemirror_mode": {
    "name": "ipython",
    "version": 3
   },
   "file_extension": ".py",
   "mimetype": "text/x-python",
   "name": "python",
   "nbconvert_exporter": "python",
   "pygments_lexer": "ipython3",
   "version": "3.6.7"
  }
 },
 "nbformat": 4,
 "nbformat_minor": 2
}
