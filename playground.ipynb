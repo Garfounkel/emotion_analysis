{
 "cells": [
  {
   "cell_type": "code",
   "execution_count": 1,
   "metadata": {
    "ExecuteTime": {
     "end_time": "2019-01-06T19:21:54.683324Z",
     "start_time": "2019-01-06T19:21:54.620130Z"
    }
   },
   "outputs": [],
   "source": [
    "%load_ext autoreload\n",
    "%autoreload 2"
   ]
  },
  {
   "cell_type": "code",
   "execution_count": 46,
   "metadata": {
    "ExecuteTime": {
     "end_time": "2019-01-06T21:09:12.666220Z",
     "start_time": "2019-01-06T21:09:12.568119Z"
    }
   },
   "outputs": [],
   "source": [
    "import pandas as pd\n",
    "import numpy as np\n",
    "from keras.utils import to_categorical\n",
    "from keras.callbacks import ModelCheckpoint, EarlyStopping\n",
    "from keras.models import load_model\n",
    "from sklearn.utils import class_weight\n",
    "from sklearn.linear_model import LogisticRegression\n",
    "from collections import defaultdict\n",
    "import matplotlib.pyplot as plt\n",
    "import pickle\n",
    "\n",
    "from src.embeddings import get_embedding_dictionnary, get_embeddings_and_word_index, sequences_to_index\n",
    "from src.dataset import load_dataset, load_datasets_and_vocab_pipeline, train_test_val_split\n",
    "from src.evaluate import get_metrics, get_predictions, compare_metrics, get_metrics_binary\n",
    "from src.models import model_mine, model_conv1d, EnsembleModel\n",
    "from src.submission import generate_predictions\n",
    "from src.model_saverloader import *\n",
    "from src.utils import get_wrongs, emotion2label, label2emotion, reindex_sequences\n",
    "\n",
    "embeddings_path = './data/embeddings/datastories.twitter.300d.txt'"
   ]
  },
  {
   "cell_type": "code",
   "execution_count": 14,
   "metadata": {
    "ExecuteTime": {
     "end_time": "2019-01-06T19:38:33.578520Z",
     "start_time": "2019-01-06T19:38:33.513805Z"
    }
   },
   "outputs": [],
   "source": [
    "os.makedirs('pickles/models/', exist_ok=True)"
   ]
  },
  {
   "cell_type": "markdown",
   "metadata": {},
   "source": [
    "### Load and preprocess Train and Test"
   ]
  },
  {
   "cell_type": "code",
   "execution_count": 4,
   "metadata": {
    "ExecuteTime": {
     "end_time": "2019-01-06T19:32:02.929113Z",
     "start_time": "2019-01-06T19:31:41.273455Z"
    }
   },
   "outputs": [
    {
     "name": "stdout",
     "output_type": "stream",
     "text": [
      "Reading twitter - 1grams ...\n",
      "Reading twitter - 2grams ...\n"
     ]
    },
    {
     "name": "stderr",
     "output_type": "stream",
     "text": [
      "\r",
      "Preprocessing...:   0%|          | 0/30160 [00:00<?, ?it/s]"
     ]
    },
    {
     "name": "stdout",
     "output_type": "stream",
     "text": [
      "Reading twitter - 1grams ...\n"
     ]
    },
    {
     "name": "stderr",
     "output_type": "stream",
     "text": [
      "Preprocessing...: 100%|██████████| 30160/30160 [00:09<00:00, 3059.58it/s]\n",
      "Preprocessing...: 100%|██████████| 2755/2755 [00:01<00:00, 1587.20it/s]\n",
      "Building vocabulary...: 100%|██████████| 32915/32915 [00:00<00:00, 184701.51it/s]\n"
     ]
    }
   ],
   "source": [
    "(X_train_txt, y_train), (X_test_txt, y_test), (vocab, max_seq_len) = load_datasets_and_vocab_pipeline()"
   ]
  },
  {
   "cell_type": "code",
   "execution_count": 5,
   "metadata": {
    "ExecuteTime": {
     "end_time": "2019-01-06T19:32:02.992831Z",
     "start_time": "2019-01-06T19:32:02.932472Z"
    }
   },
   "outputs": [
    {
     "data": {
      "text/plain": [
       "((30160,), (30160,), (2755,), (2755,))"
      ]
     },
     "execution_count": 5,
     "metadata": {},
     "output_type": "execute_result"
    }
   ],
   "source": [
    "X_train_txt.shape, y_train.values.shape, X_test_txt.shape, y_test.values.shape"
   ]
  },
  {
   "cell_type": "markdown",
   "metadata": {},
   "source": [
    "### Check sequences lengths"
   ]
  },
  {
   "cell_type": "code",
   "execution_count": 6,
   "metadata": {
    "ExecuteTime": {
     "end_time": "2019-01-06T19:32:32.767391Z",
     "start_time": "2019-01-06T19:32:32.692763Z"
    }
   },
   "outputs": [
    {
     "data": {
      "text/plain": [
       "32915"
      ]
     },
     "execution_count": 6,
     "metadata": {},
     "output_type": "execute_result"
    }
   ],
   "source": [
    "lenghts = []\n",
    "lenghts += [len(x) for x in X_train_txt]\n",
    "lenghts += [len(x) for x in X_test_txt]\n",
    "\n",
    "len(lenghts)"
   ]
  },
  {
   "cell_type": "code",
   "execution_count": 7,
   "metadata": {
    "ExecuteTime": {
     "end_time": "2019-01-06T19:32:34.321546Z",
     "start_time": "2019-01-06T19:32:33.333157Z"
    }
   },
   "outputs": [
    {
     "name": "stdout",
     "output_type": "stream",
     "text": [
      "32915 32909 32806\n"
     ]
    },
    {
     "data": {
      "image/png": "[encoded data removed]",
      "text/plain": [
       "<Figure size 1008x360 with 3 Axes>"
      ]
     },
     "metadata": {
      "needs_background": "light"
     },
     "output_type": "display_data"
    }
   ],
   "source": [
    "len2 = [l for l in lenghts if l < 80]\n",
    "len3 = [l for l in lenghts if l < 50]\n",
    "\n",
    "print(len(lenghts), len(len2), len(len3))\n",
    "\n",
    "fig, (ax1, ax2, ax3) = plt.subplots(ncols=3, figsize=(14,5))\n",
    "\n",
    "ax1.hist(lenghts, bins=15)\n",
    "ax1.set_xlabel('Text length', fontsize=12)\n",
    "ax1.set_ylabel('Sample Number', fontsize=12)\n",
    "ax1.set_title('All lengths')\n",
    "\n",
    "ax2.hist(len2, bins=8)\n",
    "ax2.set_xlabel('Text length', fontsize=12)\n",
    "ax2.set_ylabel('Sample Number', fontsize=12)\n",
    "ax2.set_title('Lengths below 80')\n",
    "\n",
    "ax3.hist(len3, bins=5)\n",
    "ax3.set_xlabel('Text length', fontsize=12)\n",
    "ax3.set_ylabel('Sample Number', fontsize=12)\n",
    "ax3.set_title('Lengths below 50')\n",
    "\n",
    "plt.tight_layout()"
   ]
  },
  {
   "cell_type": "markdown",
   "metadata": {},
   "source": [
    "### Compute the classes weights because our dataset is largely unbalanced"
   ]
  },
  {
   "cell_type": "code",
   "execution_count": 8,
   "metadata": {
    "ExecuteTime": {
     "end_time": "2019-01-06T19:32:37.468239Z",
     "start_time": "2019-01-06T19:32:37.398129Z"
    }
   },
   "outputs": [
    {
     "data": {
      "text/plain": [
       "array([1.36941518, 1.77704454, 1.38019403, 0.50441531])"
      ]
     },
     "execution_count": 8,
     "metadata": {},
     "output_type": "execute_result"
    }
   ],
   "source": [
    "cls_weights = class_weight.compute_class_weight('balanced', np.unique(y_train), y_train)\n",
    "cls_weights"
   ]
  },
  {
   "cell_type": "markdown",
   "metadata": {},
   "source": [
    "### Create an embedding matrix for our vocabulary"
   ]
  },
  {
   "cell_type": "code",
   "execution_count": 9,
   "metadata": {
    "ExecuteTime": {
     "end_time": "2019-01-06T19:35:07.147432Z",
     "start_time": "2019-01-06T19:33:27.169199Z"
    },
    "scrolled": true
   },
   "outputs": [
    {
     "name": "stdout",
     "output_type": "stream",
     "text": [
      "Unknown words from the vocabulary: 513 (previously 1300 without spellcheck fixes)\n",
      "3.48% of our vocabulary are unknown words to the embedding matrix\n"
     ]
    }
   ],
   "source": [
    "max_seq_len = 80\n",
    "emb_matrix, word_index, unknown_words = get_embeddings_and_word_index(embeddings_path, max_seq_len, vocab)\n",
    "max_seq_len = word_index['<max_seq_len>']\n",
    "# Unknown words: 1300\n",
    "\n",
    "print(f'Unknown words from the vocabulary: {len(unknown_words)} (previously 1300 without spellcheck fixes)')\n",
    "print(f'{len(unknown_words) / len(vocab) * 100:.2f}% of our vocabulary are unknown words to the embedding matrix')"
   ]
  },
  {
   "cell_type": "markdown",
   "metadata": {},
   "source": [
    "### Transforming our sequences of words to indexes"
   ]
  },
  {
   "cell_type": "code",
   "execution_count": 10,
   "metadata": {
    "ExecuteTime": {
     "end_time": "2019-01-06T19:35:07.817814Z",
     "start_time": "2019-01-06T19:35:07.160217Z"
    }
   },
   "outputs": [
    {
     "data": {
      "text/plain": [
       "((30160, 80), (2755, 80))"
      ]
     },
     "execution_count": 10,
     "metadata": {},
     "output_type": "execute_result"
    }
   ],
   "source": [
    "X_train = sequences_to_index(X_train_txt, word_index)\n",
    "X_test = sequences_to_index(X_test_txt, word_index)\n",
    "\n",
    "X_train.shape, X_test.shape"
   ]
  },
  {
   "cell_type": "code",
   "execution_count": 11,
   "metadata": {
    "ExecuteTime": {
     "end_time": "2019-01-06T19:35:07.915731Z",
     "start_time": "2019-01-06T19:35:07.821873Z"
    }
   },
   "outputs": [
    {
     "name": "stdout",
     "output_type": "stream",
     "text": [
      "training set: 21111 samples\n",
      "validation set: 9049 samples\n",
      "x_train: (21111, 80)\n",
      "y_train: (21111, 4)\n"
     ]
    }
   ],
   "source": [
    "y_train = to_categorical(y_train, 4) if len(y_train.shape) == 1 else y_train\n",
    "y_test = to_categorical(y_test, 4) if len(y_test.shape) == 1 else y_test\n",
    "(x_trn, y_trn), (x_val, y_val) = train_test_val_split(X_train, y_train)\n",
    "\n",
    "\n",
    "print('training set: ' + str(len(x_trn)) + ' samples')\n",
    "print('validation set: ' + str(len(x_val)) + ' samples')\n",
    "\n",
    "print('x_train:', x_trn.shape)\n",
    "print('y_train:', y_trn.shape)\n",
    "\n",
    "binarize = np.vectorize(lambda x: 0 if x in [0, 1, 2] else 1)\n",
    "y_trn_2 = to_categorical(binarize(y_trn.argmax(axis=1)), 2)\n",
    "y_val_2 = to_categorical(binarize(y_val.argmax(axis=1)), 2)"
   ]
  },
  {
   "cell_type": "markdown",
   "metadata": {},
   "source": [
    "## Training categorical"
   ]
  },
  {
   "cell_type": "code",
   "execution_count": 12,
   "metadata": {
    "ExecuteTime": {
     "end_time": "2019-01-06T19:37:17.394120Z",
     "start_time": "2019-01-06T19:37:12.908013Z"
    }
   },
   "outputs": [
    {
     "name": "stdout",
     "output_type": "stream",
     "text": [
      "_________________________________________________________________\n",
      "Layer (type)                 Output Shape              Param #   \n",
      "=================================================================\n",
      "embedding_layer (Embedding)  (None, 80, 300)           4424100   \n",
      "_________________________________________________________________\n",
      "dropout_1 (Dropout)          (None, 80, 300)           0         \n",
      "_________________________________________________________________\n",
      "bidirectional_1 (Bidirection (None, 80, 300)           541200    \n",
      "_________________________________________________________________\n",
      "dropout_2 (Dropout)          (None, 80, 300)           0         \n",
      "_________________________________________________________________\n",
      "bidirectional_2 (Bidirection (None, 80, 300)           541200    \n",
      "_________________________________________________________________\n",
      "dropout_3 (Dropout)          (None, 80, 300)           0         \n",
      "_________________________________________________________________\n",
      "flatten_1 (Flatten)          (None, 24000)             0         \n",
      "_________________________________________________________________\n",
      "dense_1 (Dense)              (None, 4)                 96004     \n",
      "=================================================================\n",
      "Total params: 5,602,504\n",
      "Trainable params: 1,178,404\n",
      "Non-trainable params: 4,424,100\n",
      "_________________________________________________________________\n",
      "None\n"
     ]
    }
   ],
   "source": [
    "model = model_mine(emb_matrix, max_seq_len)"
   ]
  },
  {
   "cell_type": "code",
   "execution_count": 15,
   "metadata": {
    "ExecuteTime": {
     "end_time": "2019-01-06T19:38:52.697553Z",
     "start_time": "2019-01-06T19:38:52.599133Z"
    }
   },
   "outputs": [],
   "source": [
    "callbacks_list = [\n",
    "        ModelCheckpoint(filepath='pickles/models/best.h5', save_best_only=True, verbose=1),\n",
    "        EarlyStopping(patience=4, verbose=0)\n",
    "    ]"
   ]
  },
  {
   "cell_type": "code",
   "execution_count": 16,
   "metadata": {
    "ExecuteTime": {
     "end_time": "2019-01-06T20:13:10.815994Z",
     "start_time": "2019-01-06T19:39:12.714098Z"
    }
   },
   "outputs": [
    {
     "name": "stdout",
     "output_type": "stream",
     "text": [
      "Train on 21111 samples, validate on 9049 samples\n",
      "Epoch 1/15\n",
      "21111/21111 [==============================] - 206s 10ms/step - loss: 0.8371 - acc: 0.6677 - val_loss: 0.6303 - val_acc: 0.7499\n",
      "\n",
      "Epoch 00001: val_loss improved from inf to 0.63030, saving model to pickles/models/best.h5\n",
      "Epoch 2/15\n",
      "21111/21111 [==============================] - 204s 10ms/step - loss: 0.5657 - acc: 0.7876 - val_loss: 0.4711 - val_acc: 0.8273\n",
      "\n",
      "Epoch 00002: val_loss improved from 0.63030 to 0.47108, saving model to pickles/models/best.h5\n",
      "Epoch 3/15\n",
      "21111/21111 [==============================] - 205s 10ms/step - loss: 0.4751 - acc: 0.8234 - val_loss: 0.4241 - val_acc: 0.8472\n",
      "\n",
      "Epoch 00003: val_loss improved from 0.47108 to 0.42411, saving model to pickles/models/best.h5\n",
      "Epoch 4/15\n",
      "21111/21111 [==============================] - 193s 9ms/step - loss: 0.4257 - acc: 0.8422 - val_loss: 0.3802 - val_acc: 0.8600\n",
      "\n",
      "Epoch 00004: val_loss improved from 0.42411 to 0.38018, saving model to pickles/models/best.h5\n",
      "Epoch 5/15\n",
      "21111/21111 [==============================] - 203s 10ms/step - loss: 0.3883 - acc: 0.8578 - val_loss: 0.3645 - val_acc: 0.8730\n",
      "\n",
      "Epoch 00005: val_loss improved from 0.38018 to 0.36447, saving model to pickles/models/best.h5\n",
      "Epoch 6/15\n",
      "21111/21111 [==============================] - 205s 10ms/step - loss: 0.3502 - acc: 0.8719 - val_loss: 0.3423 - val_acc: 0.8831\n",
      "\n",
      "Epoch 00006: val_loss improved from 0.36447 to 0.34234, saving model to pickles/models/best.h5\n",
      "Epoch 7/15\n",
      "21111/21111 [==============================] - 202s 10ms/step - loss: 0.3243 - acc: 0.8834 - val_loss: 0.3297 - val_acc: 0.8836\n",
      "\n",
      "Epoch 00007: val_loss improved from 0.34234 to 0.32970, saving model to pickles/models/best.h5\n",
      "Epoch 8/15\n",
      "21111/21111 [==============================] - 204s 10ms/step - loss: 0.3017 - acc: 0.8896 - val_loss: 0.3383 - val_acc: 0.8851\n",
      "\n",
      "Epoch 00008: val_loss did not improve from 0.32970\n",
      "Epoch 9/15\n",
      "21111/21111 [==============================] - 203s 10ms/step - loss: 0.2876 - acc: 0.8956 - val_loss: 0.3364 - val_acc: 0.8850\n",
      "\n",
      "Epoch 00009: val_loss did not improve from 0.32970\n",
      "Epoch 10/15\n",
      "21111/21111 [==============================] - 203s 10ms/step - loss: 0.2687 - acc: 0.9008 - val_loss: 0.3497 - val_acc: 0.8867\n",
      "\n",
      "Epoch 00010: val_loss did not improve from 0.32970\n"
     ]
    }
   ],
   "source": [
    "history = model.fit(x_trn, y_trn, batch_size=128, validation_data=(x_val, y_val), epochs=15, class_weight=cls_weights, callbacks=callbacks_list)"
   ]
  },
  {
   "cell_type": "code",
   "execution_count": 18,
   "metadata": {
    "ExecuteTime": {
     "end_time": "2019-01-06T20:34:55.774807Z",
     "start_time": "2019-01-06T20:34:55.420672Z"
    }
   },
   "outputs": [
    {
     "data": {
      "text/plain": [
       "<matplotlib.legend.Legend at 0x7f80333de2e8>"
      ]
     },
     "execution_count": 18,
     "metadata": {},
     "output_type": "execute_result"
    },
    {
     "data": {
      "image/png": "[encoded data removed]",
      "text/plain": [
       "<Figure size 432x288 with 1 Axes>"
      ]
     },
     "metadata": {
      "needs_background": "light"
     },
     "output_type": "display_data"
    }
   ],
   "source": [
    "histories = [history]\n",
    "eps, val_loss, loss = [], [], []\n",
    "for h in histories:\n",
    "    eps += h.epoch\n",
    "    val_loss += h.history['val_loss']\n",
    "    loss += h.history['loss']\n",
    "\n",
    "plt.plot(eps, val_loss, label='val_loss')\n",
    "plt.plot(eps, loss, label='loss')\n",
    "\n",
    "plt.legend()"
   ]
  },
  {
   "cell_type": "markdown",
   "metadata": {},
   "source": [
    "### Evaluating our categorical model"
   ]
  },
  {
   "cell_type": "code",
   "execution_count": 19,
   "metadata": {
    "ExecuteTime": {
     "end_time": "2019-01-06T20:35:21.092234Z",
     "start_time": "2019-01-06T20:35:10.775168Z"
    }
   },
   "outputs": [],
   "source": [
    "model = load_model('pickles/models/best.h5')"
   ]
  },
  {
   "cell_type": "code",
   "execution_count": 20,
   "metadata": {
    "ExecuteTime": {
     "end_time": "2019-01-06T20:35:21.150013Z",
     "start_time": "2019-01-06T20:35:21.096083Z"
    }
   },
   "outputs": [
    {
     "name": "stdout",
     "output_type": "stream",
     "text": [
      "Best categorical model is acc_0.9060-f1_0.7061 with f1=0.7061355939404048\n"
     ]
    }
   ],
   "source": [
    "best_metrics = load_best_metrics(mode='categorical')"
   ]
  },
  {
   "cell_type": "code",
   "execution_count": 21,
   "metadata": {
    "ExecuteTime": {
     "end_time": "2019-01-06T20:35:34.331585Z",
     "start_time": "2019-01-06T20:35:24.021469Z"
    }
   },
   "outputs": [],
   "source": [
    "y_pred_test, proba_preds = get_predictions(model, X_test)"
   ]
  },
  {
   "cell_type": "code",
   "execution_count": 22,
   "metadata": {
    "ExecuteTime": {
     "end_time": "2019-01-06T20:35:35.919802Z",
     "start_time": "2019-01-06T20:35:34.951210Z"
    }
   },
   "outputs": [
    {
     "name": "stdout",
     "output_type": "stream",
     "text": [
      "True Positives per class :  [ 130.  113.  100. 2097.]\n",
      "False Positives per class :  [ 92. 109.  55.  59.]\n",
      "False Negatives per class :  [ 20.  29.  25. 241.]\n",
      "\n",
      "Class angry : Precision : 0.586, Recall : 0.867, F1 : 0.699\n",
      "Class happy : Precision : 0.509, Recall : 0.796, F1 : 0.621\n",
      "Class sad : Precision : 0.645, Recall : 0.800, F1 : 0.714\n",
      "\n",
      "Ignoring the Others class, Macro Precision : 0.5799, Macro Recall : 0.8208, Macro F1 : 0.6797\n",
      "Ignoring the Others class, Micro TP : 343, FP : 256, FN : 74\n",
      "\n"
     ]
    },
    {
     "data": {
      "image/png": "[encoded data removed]",
      "text/plain": [
       "<Figure size 1008x360 with 4 Axes>"
      ]
     },
     "metadata": {
      "needs_background": "light"
     },
     "output_type": "display_data"
    }
   ],
   "source": [
    "model_metrics = compare_metrics(proba_preds, y_test, best_metrics, mode='categorical')"
   ]
  },
  {
   "cell_type": "code",
   "execution_count": 23,
   "metadata": {
    "ExecuteTime": {
     "end_time": "2019-01-06T20:36:14.354994Z",
     "start_time": "2019-01-06T20:36:12.929936Z"
    }
   },
   "outputs": [
    {
     "name": "stdout",
     "output_type": "stream",
     "text": [
      "Model saved at pickles/models/categorical/acc_0.8857-f1_0.6752/\n"
     ]
    }
   ],
   "source": [
    "save_model_full(model, emb_matrix, word_index, model_metrics)"
   ]
  },
  {
   "cell_type": "markdown",
   "metadata": {},
   "source": [
    "## Training Others vs all (binary)"
   ]
  },
  {
   "cell_type": "code",
   "execution_count": 24,
   "metadata": {
    "ExecuteTime": {
     "end_time": "2019-01-06T20:36:48.583111Z",
     "start_time": "2019-01-06T20:36:44.348025Z"
    }
   },
   "outputs": [
    {
     "name": "stdout",
     "output_type": "stream",
     "text": [
      "_________________________________________________________________\n",
      "Layer (type)                 Output Shape              Param #   \n",
      "=================================================================\n",
      "embedding_layer (Embedding)  (None, 80, 300)           4424100   \n",
      "_________________________________________________________________\n",
      "dropout_4 (Dropout)          (None, 80, 300)           0         \n",
      "_________________________________________________________________\n",
      "conv1d_1 (Conv1D)            (None, 80, 64)            96064     \n",
      "_________________________________________________________________\n",
      "max_pooling1d_1 (MaxPooling1 (None, 16, 64)            0         \n",
      "_________________________________________________________________\n",
      "dropout_5 (Dropout)          (None, 16, 64)            0         \n",
      "_________________________________________________________________\n",
      "bidirectional_3 (Bidirection (None, 16, 300)           258000    \n",
      "_________________________________________________________________\n",
      "dropout_6 (Dropout)          (None, 16, 300)           0         \n",
      "_________________________________________________________________\n",
      "bidirectional_4 (Bidirection (None, 16, 300)           541200    \n",
      "_________________________________________________________________\n",
      "dropout_7 (Dropout)          (None, 16, 300)           0         \n",
      "_________________________________________________________________\n",
      "flatten_2 (Flatten)          (None, 4800)              0         \n",
      "_________________________________________________________________\n",
      "dense_2 (Dense)              (None, 2)                 9602      \n",
      "=================================================================\n",
      "Total params: 5,328,966\n",
      "Trainable params: 904,866\n",
      "Non-trainable params: 4,424,100\n",
      "_________________________________________________________________\n",
      "None\n"
     ]
    }
   ],
   "source": [
    "model_bin = model_conv1d(emb_matrix, max_seq_len, class_number=2)"
   ]
  },
  {
   "cell_type": "code",
   "execution_count": 25,
   "metadata": {
    "ExecuteTime": {
     "end_time": "2019-01-06T20:36:54.745732Z",
     "start_time": "2019-01-06T20:36:54.676180Z"
    }
   },
   "outputs": [],
   "source": [
    "callbacks_list_bin = [\n",
    "        ModelCheckpoint(filepath='pickles/models/best_bin.h5', save_best_only=True, verbose=1),\n",
    "        EarlyStopping(patience=4, verbose=0)\n",
    "    ]"
   ]
  },
  {
   "cell_type": "code",
   "execution_count": 26,
   "metadata": {
    "ExecuteTime": {
     "end_time": "2019-01-06T20:36:58.352298Z",
     "start_time": "2019-01-06T20:36:58.292430Z"
    }
   },
   "outputs": [
    {
     "data": {
      "text/plain": [
       "array([0.5, 1.5])"
      ]
     },
     "execution_count": 26,
     "metadata": {},
     "output_type": "execute_result"
    }
   ],
   "source": [
    "cls_weight_bin = np.array([0.5, 1.5])\n",
    "cls_weight_bin"
   ]
  },
  {
   "cell_type": "code",
   "execution_count": 27,
   "metadata": {
    "ExecuteTime": {
     "end_time": "2019-01-06T20:51:32.948647Z",
     "start_time": "2019-01-06T20:37:11.645460Z"
    }
   },
   "outputs": [
    {
     "name": "stdout",
     "output_type": "stream",
     "text": [
      "Train on 21111 samples, validate on 9049 samples\n",
      "Epoch 1/20\n",
      "21111/21111 [==============================] - 56s 3ms/step - loss: 0.5596 - acc: 0.7023 - val_loss: 0.4450 - val_acc: 0.8074\n",
      "\n",
      "Epoch 00001: val_loss improved from inf to 0.44501, saving model to pickles/models/best_bin.h5\n",
      "Epoch 2/20\n",
      "21111/21111 [==============================] - 47s 2ms/step - loss: 0.4506 - acc: 0.7922 - val_loss: 0.4108 - val_acc: 0.8183\n",
      "\n",
      "Epoch 00002: val_loss improved from 0.44501 to 0.41081, saving model to pickles/models/best_bin.h5\n",
      "Epoch 3/20\n",
      "21111/21111 [==============================] - 47s 2ms/step - loss: 0.4130 - acc: 0.8147 - val_loss: 0.3905 - val_acc: 0.8173\n",
      "\n",
      "Epoch 00003: val_loss improved from 0.41081 to 0.39050, saving model to pickles/models/best_bin.h5\n",
      "Epoch 4/20\n",
      "21111/21111 [==============================] - 49s 2ms/step - loss: 0.3835 - acc: 0.8331 - val_loss: 0.3324 - val_acc: 0.8559\n",
      "\n",
      "Epoch 00004: val_loss improved from 0.39050 to 0.33245, saving model to pickles/models/best_bin.h5\n",
      "Epoch 5/20\n",
      "21111/21111 [==============================] - 49s 2ms/step - loss: 0.3641 - acc: 0.8410 - val_loss: 0.3180 - val_acc: 0.8657\n",
      "\n",
      "Epoch 00005: val_loss improved from 0.33245 to 0.31795, saving model to pickles/models/best_bin.h5\n",
      "Epoch 6/20\n",
      "21111/21111 [==============================] - 48s 2ms/step - loss: 0.3536 - acc: 0.8475 - val_loss: 0.3302 - val_acc: 0.8624\n",
      "\n",
      "Epoch 00006: val_loss did not improve from 0.31795\n",
      "Epoch 7/20\n",
      "21111/21111 [==============================] - 55s 3ms/step - loss: 0.3400 - acc: 0.8552 - val_loss: 0.3178 - val_acc: 0.8614\n",
      "\n",
      "Epoch 00007: val_loss improved from 0.31795 to 0.31785, saving model to pickles/models/best_bin.h5\n",
      "Epoch 8/20\n",
      "21111/21111 [==============================] - 45s 2ms/step - loss: 0.3332 - acc: 0.8571 - val_loss: 0.2985 - val_acc: 0.8768\n",
      "\n",
      "Epoch 00008: val_loss improved from 0.31785 to 0.29850, saving model to pickles/models/best_bin.h5\n",
      "Epoch 9/20\n",
      "21111/21111 [==============================] - 39s 2ms/step - loss: 0.3225 - acc: 0.8650 - val_loss: 0.3021 - val_acc: 0.8738\n",
      "\n",
      "Epoch 00009: val_loss did not improve from 0.29850\n",
      "Epoch 10/20\n",
      "21111/21111 [==============================] - 39s 2ms/step - loss: 0.3131 - acc: 0.8686 - val_loss: 0.2926 - val_acc: 0.8762\n",
      "\n",
      "Epoch 00010: val_loss improved from 0.29850 to 0.29264, saving model to pickles/models/best_bin.h5\n",
      "Epoch 11/20\n",
      "21111/21111 [==============================] - 38s 2ms/step - loss: 0.3036 - acc: 0.8734 - val_loss: 0.2919 - val_acc: 0.8799\n",
      "\n",
      "Epoch 00011: val_loss improved from 0.29264 to 0.29192, saving model to pickles/models/best_bin.h5\n",
      "Epoch 12/20\n",
      "21111/21111 [==============================] - 38s 2ms/step - loss: 0.3027 - acc: 0.8717 - val_loss: 0.2948 - val_acc: 0.8819\n",
      "\n",
      "Epoch 00012: val_loss did not improve from 0.29192\n",
      "Epoch 13/20\n",
      "21111/21111 [==============================] - 37s 2ms/step - loss: 0.2926 - acc: 0.8784 - val_loss: 0.2891 - val_acc: 0.8835\n",
      "\n",
      "Epoch 00013: val_loss improved from 0.29192 to 0.28909, saving model to pickles/models/best_bin.h5\n",
      "Epoch 14/20\n",
      "21111/21111 [==============================] - 37s 2ms/step - loss: 0.2915 - acc: 0.8765 - val_loss: 0.3123 - val_acc: 0.8714\n",
      "\n",
      "Epoch 00014: val_loss did not improve from 0.28909\n",
      "Epoch 15/20\n",
      "21111/21111 [==============================] - 38s 2ms/step - loss: 0.2867 - acc: 0.8784 - val_loss: 0.3119 - val_acc: 0.8749\n",
      "\n",
      "Epoch 00015: val_loss did not improve from 0.28909\n",
      "Epoch 16/20\n",
      "21111/21111 [==============================] - 38s 2ms/step - loss: 0.2822 - acc: 0.8835 - val_loss: 0.2790 - val_acc: 0.8885\n",
      "\n",
      "Epoch 00016: val_loss improved from 0.28909 to 0.27903, saving model to pickles/models/best_bin.h5\n",
      "Epoch 17/20\n",
      "21111/21111 [==============================] - 38s 2ms/step - loss: 0.2784 - acc: 0.8845 - val_loss: 0.2784 - val_acc: 0.8885\n",
      "\n",
      "Epoch 00017: val_loss improved from 0.27903 to 0.27844, saving model to pickles/models/best_bin.h5\n",
      "Epoch 18/20\n",
      "21111/21111 [==============================] - 39s 2ms/step - loss: 0.2757 - acc: 0.8887 - val_loss: 0.2780 - val_acc: 0.8866\n",
      "\n",
      "Epoch 00018: val_loss improved from 0.27844 to 0.27800, saving model to pickles/models/best_bin.h5\n",
      "Epoch 19/20\n",
      "21111/21111 [==============================] - 36s 2ms/step - loss: 0.2727 - acc: 0.8880 - val_loss: 0.2776 - val_acc: 0.8882\n",
      "\n",
      "Epoch 00019: val_loss improved from 0.27800 to 0.27759, saving model to pickles/models/best_bin.h5\n",
      "Epoch 20/20\n",
      "21111/21111 [==============================] - 34s 2ms/step - loss: 0.2732 - acc: 0.8890 - val_loss: 0.2924 - val_acc: 0.8816\n",
      "\n",
      "Epoch 00020: val_loss did not improve from 0.27759\n"
     ]
    }
   ],
   "source": [
    "history_bin = model_bin.fit(x_trn, y_trn_2, batch_size=128, validation_data=(x_val, y_val_2), epochs=20, class_weight=cls_weight_bin, callbacks=callbacks_list_bin)"
   ]
  },
  {
   "cell_type": "code",
   "execution_count": 28,
   "metadata": {
    "ExecuteTime": {
     "end_time": "2019-01-06T20:59:37.161777Z",
     "start_time": "2019-01-06T20:59:36.733267Z"
    }
   },
   "outputs": [
    {
     "data": {
      "text/plain": [
       "<matplotlib.legend.Legend at 0x7f80320ca6d8>"
      ]
     },
     "execution_count": 28,
     "metadata": {},
     "output_type": "execute_result"
    },
    {
     "data": {
      "image/png": "[encoded data removed]",
      "text/plain": [
       "<Figure size 432x288 with 1 Axes>"
      ]
     },
     "metadata": {
      "needs_background": "light"
     },
     "output_type": "display_data"
    }
   ],
   "source": [
    "histories = [history_bin]\n",
    "eps, val_loss, loss = [], [], []\n",
    "for h in histories:\n",
    "    eps += h.epoch\n",
    "    val_loss += h.history['val_loss']\n",
    "    loss += h.history['loss']\n",
    "\n",
    "plt.plot(eps, val_loss, label='val_loss')\n",
    "plt.plot(eps, loss, label='loss')\n",
    "\n",
    "plt.legend()"
   ]
  },
  {
   "cell_type": "markdown",
   "metadata": {},
   "source": [
    "### Evaluate our binary model"
   ]
  },
  {
   "cell_type": "code",
   "execution_count": 29,
   "metadata": {
    "ExecuteTime": {
     "end_time": "2019-01-06T21:00:04.328706Z",
     "start_time": "2019-01-06T20:59:48.064400Z"
    }
   },
   "outputs": [],
   "source": [
    "model_bin = load_model('pickles/models/best_bin.h5')"
   ]
  },
  {
   "cell_type": "code",
   "execution_count": 30,
   "metadata": {
    "ExecuteTime": {
     "end_time": "2019-01-06T21:00:04.447975Z",
     "start_time": "2019-01-06T21:00:04.334636Z"
    }
   },
   "outputs": [
    {
     "name": "stdout",
     "output_type": "stream",
     "text": [
      "Best binary model is acc_0.8915-f1_0.9348 with f1=0.9347588915557495\n"
     ]
    }
   ],
   "source": [
    "best_bin_metrics = load_best_metrics(mode='binary')"
   ]
  },
  {
   "cell_type": "code",
   "execution_count": 31,
   "metadata": {
    "ExecuteTime": {
     "end_time": "2019-01-06T21:00:07.257749Z",
     "start_time": "2019-01-06T21:00:04.450682Z"
    }
   },
   "outputs": [],
   "source": [
    "preds_2_tst = model_bin.predict(X_test, batch_size=128)"
   ]
  },
  {
   "cell_type": "code",
   "execution_count": 32,
   "metadata": {
    "ExecuteTime": {
     "end_time": "2019-01-06T21:00:08.118087Z",
     "start_time": "2019-01-06T21:00:07.262832Z"
    }
   },
   "outputs": [
    {
     "data": {
      "image/png": "[encoded data removed]",
      "text/plain": [
       "<Figure size 1008x360 with 4 Axes>"
      ]
     },
     "metadata": {
      "needs_background": "light"
     },
     "output_type": "display_data"
    }
   ],
   "source": [
    "model_bin_metrics = compare_metrics(preds_2_tst, y_test, best_bin_metrics, mode='binary')"
   ]
  },
  {
   "cell_type": "code",
   "execution_count": 33,
   "metadata": {
    "ExecuteTime": {
     "end_time": "2019-01-06T21:00:36.935064Z",
     "start_time": "2019-01-06T21:00:33.945560Z"
    }
   },
   "outputs": [
    {
     "name": "stdout",
     "output_type": "stream",
     "text": [
      "Model saved at pickles/models/binary/acc_0.8744-f1_0.9226/\n"
     ]
    }
   ],
   "source": [
    "save_model_full(model_bin, emb_matrix, word_index, model_bin_metrics)"
   ]
  },
  {
   "cell_type": "markdown",
   "metadata": {},
   "source": [
    "## Ensemble binary and categorical"
   ]
  },
  {
   "cell_type": "code",
   "execution_count": 34,
   "metadata": {
    "ExecuteTime": {
     "end_time": "2019-01-06T21:05:13.952391Z",
     "start_time": "2019-01-06T21:04:55.761923Z"
    }
   },
   "outputs": [
    {
     "name": "stdout",
     "output_type": "stream",
     "text": [
      "Best categorical model is acc_0.9060-f1_0.7061 with f1=0.7061355939404048\n",
      "Loaded model from pickles/models/categorical/acc_0.9060-f1_0.7061/\n"
     ]
    }
   ],
   "source": [
    "model_cat, _, word_index_cat, model_metrics_cat = load_best_model(mode='categorical')"
   ]
  },
  {
   "cell_type": "code",
   "execution_count": 35,
   "metadata": {
    "ExecuteTime": {
     "end_time": "2019-01-06T21:05:33.060207Z",
     "start_time": "2019-01-06T21:05:13.959887Z"
    }
   },
   "outputs": [
    {
     "name": "stdout",
     "output_type": "stream",
     "text": [
      "Best binary model is acc_0.8915-f1_0.9348 with f1=0.9347588915557495\n",
      "Loaded model from pickles/models/binary/acc_0.8915-f1_0.9348/\n"
     ]
    }
   ],
   "source": [
    "model_bin, _, word_index_bin, model_metrics_bin = load_best_model(mode='binary')"
   ]
  },
  {
   "cell_type": "code",
   "execution_count": 36,
   "metadata": {
    "ExecuteTime": {
     "end_time": "2019-01-06T21:05:33.181193Z",
     "start_time": "2019-01-06T21:05:33.069253Z"
    }
   },
   "outputs": [
    {
     "name": "stdout",
     "output_type": "stream",
     "text": [
      "Best ensemble model is acc_0.9056-f1_0.7099 with f1=0.7098830899953152\n",
      "Loaded model from pickles/models/ensemble/acc_0.9056-f1_0.7099/\n"
     ]
    }
   ],
   "source": [
    "model_ens = EnsembleModel(*load_best_model(mode='ensemble'))"
   ]
  },
  {
   "cell_type": "code",
   "execution_count": 37,
   "metadata": {
    "ExecuteTime": {
     "end_time": "2019-01-06T21:05:33.228496Z",
     "start_time": "2019-01-06T21:05:33.186012Z"
    }
   },
   "outputs": [],
   "source": [
    "model_1 = model_cat\n",
    "model_2 = model_bin"
   ]
  },
  {
   "cell_type": "markdown",
   "metadata": {},
   "source": [
    "#### Test combi"
   ]
  },
  {
   "cell_type": "code",
   "execution_count": 38,
   "metadata": {
    "ExecuteTime": {
     "end_time": "2019-01-06T21:05:58.094569Z",
     "start_time": "2019-01-06T21:05:57.979745Z"
    }
   },
   "outputs": [
    {
     "name": "stdout",
     "output_type": "stream",
     "text": [
      "categorical f1(bin)=0.946518227461253\n",
      "binary f1(bin)=0.9225604297224709\n"
     ]
    },
    {
     "data": {
      "text/plain": [
       "(2755, 6)"
      ]
     },
     "execution_count": 38,
     "metadata": {},
     "output_type": "execute_result"
    }
   ],
   "source": [
    "preds_tst_1 = model_metrics_cat['y_proba']\n",
    "preds_tst_2 = model_bin_metrics['y_proba']\n",
    "\n",
    "print(f'categorical f1(bin)={get_metrics_binary(preds_tst_1, y_test)[1]}')\n",
    "print(f'binary f1(bin)={get_metrics_binary(preds_tst_2, y_test)[1]}')\n",
    "\n",
    "combi_preds_tst = np.hstack([preds_tst_1, preds_tst_2])\n",
    "combi_preds_tst.shape"
   ]
  },
  {
   "cell_type": "markdown",
   "metadata": {},
   "source": [
    "#### Train combi"
   ]
  },
  {
   "cell_type": "code",
   "execution_count": 47,
   "metadata": {
    "ExecuteTime": {
     "end_time": "2019-01-06T21:10:01.694419Z",
     "start_time": "2019-01-06T21:09:59.658870Z"
    }
   },
   "outputs": [],
   "source": [
    "reindex_sequences(X_train, word_index, word_index_cat)"
   ]
  },
  {
   "cell_type": "code",
   "execution_count": 48,
   "metadata": {
    "ExecuteTime": {
     "end_time": "2019-01-06T21:11:26.097343Z",
     "start_time": "2019-01-06T21:10:16.620628Z"
    }
   },
   "outputs": [],
   "source": [
    "trn_preds_1 = model_1.predict(X_train, batch_size=128)"
   ]
  },
  {
   "cell_type": "code",
   "execution_count": 49,
   "metadata": {
    "ExecuteTime": {
     "end_time": "2019-01-06T21:11:28.147764Z",
     "start_time": "2019-01-06T21:11:26.102792Z"
    }
   },
   "outputs": [],
   "source": [
    "reindex_sequences(X_train, word_index_cat, word_index_bin)"
   ]
  },
  {
   "cell_type": "code",
   "execution_count": 50,
   "metadata": {
    "ExecuteTime": {
     "end_time": "2019-01-06T21:11:43.118216Z",
     "start_time": "2019-01-06T21:11:28.156231Z"
    }
   },
   "outputs": [],
   "source": [
    "trn_preds_2 = model_2.predict(X_train, batch_size=128)"
   ]
  },
  {
   "cell_type": "code",
   "execution_count": 51,
   "metadata": {
    "ExecuteTime": {
     "end_time": "2019-01-06T21:11:43.204477Z",
     "start_time": "2019-01-06T21:11:43.124023Z"
    }
   },
   "outputs": [
    {
     "data": {
      "text/plain": [
       "(30160, 6)"
      ]
     },
     "execution_count": 51,
     "metadata": {},
     "output_type": "execute_result"
    }
   ],
   "source": [
    "combi_preds_trn = np.hstack([trn_preds_1, trn_preds_2])\n",
    "combi_preds_trn.shape"
   ]
  },
  {
   "cell_type": "code",
   "execution_count": 52,
   "metadata": {
    "ExecuteTime": {
     "end_time": "2019-01-06T21:11:43.910006Z",
     "start_time": "2019-01-06T21:11:43.207502Z"
    }
   },
   "outputs": [],
   "source": [
    "lreg = LogisticRegression(solver='lbfgs', multi_class='auto', max_iter=1000).fit(combi_preds_trn, y_train.argmax(axis=1))"
   ]
  },
  {
   "cell_type": "markdown",
   "metadata": {},
   "source": [
    "### Evaluate our ensembling model"
   ]
  },
  {
   "cell_type": "code",
   "execution_count": 53,
   "metadata": {
    "ExecuteTime": {
     "end_time": "2019-01-06T21:11:43.950822Z",
     "start_time": "2019-01-06T21:11:43.914329Z"
    }
   },
   "outputs": [],
   "source": [
    "lreg_pred_tst = lreg.predict_proba(combi_preds_tst)"
   ]
  },
  {
   "cell_type": "code",
   "execution_count": 54,
   "metadata": {
    "ExecuteTime": {
     "end_time": "2019-01-06T21:11:43.993636Z",
     "start_time": "2019-01-06T21:11:43.953823Z"
    }
   },
   "outputs": [
    {
     "name": "stdout",
     "output_type": "stream",
     "text": [
      "Best ensemble model is acc_0.9056-f1_0.7099 with f1=0.7098830899953152\n"
     ]
    }
   ],
   "source": [
    "best_metrics_combi = load_best_metrics(mode='ensemble')"
   ]
  },
  {
   "cell_type": "code",
   "execution_count": 55,
   "metadata": {
    "ExecuteTime": {
     "end_time": "2019-01-06T21:11:44.991204Z",
     "start_time": "2019-01-06T21:11:43.997839Z"
    }
   },
   "outputs": [
    {
     "name": "stdout",
     "output_type": "stream",
     "text": [
      "True Positives per class :  [ 129.  108.  102. 2133.]\n",
      "False Positives per class :  [89. 80. 51. 63.]\n",
      "False Negatives per class :  [ 21.  34.  23. 205.]\n",
      "\n",
      "Class angry : Precision : 0.592, Recall : 0.860, F1 : 0.701\n",
      "Class happy : Precision : 0.574, Recall : 0.761, F1 : 0.655\n",
      "Class sad : Precision : 0.667, Recall : 0.816, F1 : 0.734\n",
      "\n",
      "Ignoring the Others class, Macro Precision : 0.6110, Macro Recall : 0.8122, Macro F1 : 0.6973\n",
      "Ignoring the Others class, Micro TP : 339, FP : 220, FN : 78\n",
      "\n"
     ]
    },
    {
     "data": {
      "image/png": "[encoded data removed]",
      "text/plain": [
       "<Figure size 1008x360 with 4 Axes>"
      ]
     },
     "metadata": {
      "needs_background": "light"
     },
     "output_type": "display_data"
    }
   ],
   "source": [
    "model_combi_metrics = compare_metrics(lreg_pred_tst, y_test, best_metrics_combi, mode='ensemble')"
   ]
  },
  {
   "cell_type": "code",
   "execution_count": 193,
   "metadata": {
    "ExecuteTime": {
     "end_time": "2019-01-02T19:17:02.788038Z",
     "start_time": "2019-01-02T19:17:02.642588Z"
    }
   },
   "outputs": [
    {
     "name": "stdout",
     "output_type": "stream",
     "text": [
      "Model saved at pickles/models/ensemble/acc_0.9049-f1_0.7087/\n"
     ]
    }
   ],
   "source": [
    "save_ensemble_model(lreg, model_combi_metrics, [model_metrics_cat, model_metrics_bin])"
   ]
  },
  {
   "cell_type": "markdown",
   "metadata": {},
   "source": [
    "## Generating a submission file"
   ]
  },
  {
   "cell_type": "code",
   "execution_count": 56,
   "metadata": {
    "ExecuteTime": {
     "end_time": "2019-01-06T21:12:18.722531Z",
     "start_time": "2019-01-06T21:12:18.615366Z"
    }
   },
   "outputs": [
    {
     "name": "stdout",
     "output_type": "stream",
     "text": [
      "Best ensemble model is acc_0.9056-f1_0.7099 with f1=0.7098830899953152\n",
      "Loaded model from pickles/models/ensemble/acc_0.9056-f1_0.7099/\n"
     ]
    }
   ],
   "source": [
    "# model, emb_matrix, word_index, model_metrics = load_best_model(mode='categorical')\n",
    "model = EnsembleModel(*load_best_model(mode='ensemble'))"
   ]
  },
  {
   "cell_type": "code",
   "execution_count": 58,
   "metadata": {
    "ExecuteTime": {
     "end_time": "2019-01-06T21:13:56.607904Z",
     "start_time": "2019-01-06T21:12:48.058572Z"
    }
   },
   "outputs": [
    {
     "name": "stdout",
     "output_type": "stream",
     "text": [
      "Loading dataset...\n",
      "Reading twitter - 1grams ...\n",
      "Reading twitter - 2grams ...\n"
     ]
    },
    {
     "name": "stderr",
     "output_type": "stream",
     "text": [
      "\r",
      "Preprocessing...:   0%|          | 0/2755 [00:00<?, ?it/s]"
     ]
    },
    {
     "name": "stdout",
     "output_type": "stream",
     "text": [
      "Reading twitter - 1grams ...\n"
     ]
    },
    {
     "name": "stderr",
     "output_type": "stream",
     "text": [
      "Preprocessing...: 100%|██████████| 2755/2755 [00:01<00:00, 2327.59it/s]\n"
     ]
    },
    {
     "name": "stdout",
     "output_type": "stream",
     "text": [
      "Generating Predictions...\n",
      "Loaded model from pickles/models/categorical/acc_0.9060-f1_0.7061/\n",
      "Loaded model from pickles/models/binary/acc_0.8846-f1_0.9293/\n",
      "Done. Wrote submission.txt file at project's root\n"
     ]
    }
   ],
   "source": [
    "y_pred_sub, proba_preds = generate_predictions(model, 'data/test.txt', word_index=word_index)"
   ]
  },
  {
   "cell_type": "markdown",
   "metadata": {},
   "source": [
    "### Explore answers"
   ]
  },
  {
   "cell_type": "code",
   "execution_count": 59,
   "metadata": {
    "ExecuteTime": {
     "end_time": "2019-01-06T21:15:03.649557Z",
     "start_time": "2019-01-06T21:15:02.984939Z"
    }
   },
   "outputs": [
    {
     "data": {
      "text/html": [
       "<div>\n",
       "<style scoped>\n",
       "    .dataframe tbody tr th:only-of-type {\n",
       "        vertical-align: middle;\n",
       "    }\n",
       "\n",
       "    .dataframe tbody tr th {\n",
       "        vertical-align: top;\n",
       "    }\n",
       "\n",
       "    .dataframe thead th {\n",
       "        text-align: right;\n",
       "    }\n",
       "</style>\n",
       "<table border=\"1\" class=\"dataframe\">\n",
       "  <thead>\n",
       "    <tr style=\"text-align: right;\">\n",
       "      <th></th>\n",
       "      <th>Predicted</th>\n",
       "      <th>Actual</th>\n",
       "      <th>Text</th>\n",
       "    </tr>\n",
       "  </thead>\n",
       "  <tbody>\n",
       "    <tr>\n",
       "      <th>21</th>\n",
       "      <td>happy</td>\n",
       "      <td>sad</td>\n",
       "      <td>but . &lt;repeated&gt; &lt;eos&gt; then &lt;eos&gt; i am feeling...</td>\n",
       "    </tr>\n",
       "    <tr>\n",
       "      <th>159</th>\n",
       "      <td>happy</td>\n",
       "      <td>others</td>\n",
       "      <td>missed you to &lt;elongated&gt; &lt;eos&gt; lol how are yo...</td>\n",
       "    </tr>\n",
       "    <tr>\n",
       "      <th>213</th>\n",
       "      <td>happy</td>\n",
       "      <td>others</td>\n",
       "      <td>welcome dear &lt;eos&gt; you are always welcome dear...</td>\n",
       "    </tr>\n",
       "    <tr>\n",
       "      <th>227</th>\n",
       "      <td>happy</td>\n",
       "      <td>others</td>\n",
       "      <td>i am funny &lt;eos&gt; &lt;allcaps&gt; youre hilarious &lt;/a...</td>\n",
       "    </tr>\n",
       "    <tr>\n",
       "      <th>290</th>\n",
       "      <td>happy</td>\n",
       "      <td>others</td>\n",
       "      <td>okay i am going office right now my sweet hear...</td>\n",
       "    </tr>\n",
       "  </tbody>\n",
       "</table>\n",
       "</div>"
      ],
      "text/plain": [
       "    Predicted  Actual                                               Text\n",
       "21      happy     sad  but . <repeated> <eos> then <eos> i am feeling...\n",
       "159     happy  others  missed you to <elongated> <eos> lol how are yo...\n",
       "213     happy  others  welcome dear <eos> you are always welcome dear...\n",
       "227     happy  others  i am funny <eos> <allcaps> youre hilarious </a...\n",
       "290     happy  others  okay i am going office right now my sweet hear..."
      ]
     },
     "execution_count": 59,
     "metadata": {},
     "output_type": "execute_result"
    }
   ],
   "source": [
    "wrong_df = get_wrongs(lreg_pred_tst, y_test, X_test_txt, 'happy')\n",
    "wrong_df.head()"
   ]
  },
  {
   "cell_type": "code",
   "execution_count": null,
   "metadata": {},
   "outputs": [],
   "source": []
  }
 ],
 "metadata": {
  "kernelspec": {
   "display_name": "Python 3",
   "language": "python",
   "name": "python3"
  },
  "language_info": {
   "codemirror_mode": {
    "name": "ipython",
    "version": 3
   },
   "file_extension": ".py",
   "mimetype": "text/x-python",
   "name": "python",
   "nbconvert_exporter": "python",
   "pygments_lexer": "ipython3",
   "version": "3.6.7"
  }
 },
 "nbformat": 4,
 "nbformat_minor": 2
}
