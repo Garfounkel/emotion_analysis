{
 "cells": [
  {
   "cell_type": "code",
   "execution_count": 1,
   "metadata": {
    "ExecuteTime": {
     "end_time": "2018-12-29T16:50:51.233034Z",
     "start_time": "2018-12-29T16:50:51.197969Z"
    }
   },
   "outputs": [],
   "source": [
    "%load_ext autoreload\n",
    "%autoreload 2"
   ]
  },
  {
   "cell_type": "code",
   "execution_count": 37,
   "metadata": {
    "ExecuteTime": {
     "end_time": "2018-12-29T18:00:40.612433Z",
     "start_time": "2018-12-29T18:00:40.444523Z"
    }
   },
   "outputs": [],
   "source": [
    "import pandas as pd\n",
    "import numpy as np\n",
    "from keras.utils import to_categorical\n",
    "from keras.callbacks import ModelCheckpoint, EarlyStopping\n",
    "from keras.models import load_model\n",
    "from sklearn.utils import class_weight\n",
    "from collections import defaultdict\n",
    "import matplotlib.pyplot as plt\n",
    "import pickle\n",
    "\n",
    "from src.embeddings import get_embedding_dictionnary, get_embeddings_and_word_index, sequences_to_index\n",
    "from src.dataset import load_dataset, load_datasets_and_vocab_pipeline, train_test_val_split\n",
    "from src.evaluate import get_metrics, get_predictions, compare_metrics\n",
    "from src.models import model_mine\n",
    "from src.submission import generate_predictions\n",
    "from src.model_saverloader import save_model_full, load_model_full, load_best_metrics, load_best_model\n",
    "\n",
    "embeddings_path = '../sentiment_analysis/data/embeddings/datastories.twitter.300d.txt'"
   ]
  },
  {
   "cell_type": "markdown",
   "metadata": {},
   "source": [
    "### Load and preprocess Train and Test"
   ]
  },
  {
   "cell_type": "code",
   "execution_count": 3,
   "metadata": {
    "ExecuteTime": {
     "end_time": "2018-12-29T16:51:25.139426Z",
     "start_time": "2018-12-29T16:51:01.289076Z"
    }
   },
   "outputs": [
    {
     "name": "stdout",
     "output_type": "stream",
     "text": [
      "Reading twitter - 1grams ...\n",
      "Reading twitter - 2grams ...\n"
     ]
    },
    {
     "name": "stderr",
     "output_type": "stream",
     "text": [
      "\r",
      "Preprocessing...:   0%|          | 0/30160 [00:00<?, ?it/s]"
     ]
    },
    {
     "name": "stdout",
     "output_type": "stream",
     "text": [
      "Reading twitter - 1grams ...\n"
     ]
    },
    {
     "name": "stderr",
     "output_type": "stream",
     "text": [
      "Preprocessing...: 100%|██████████| 30160/30160 [00:10<00:00, 2885.85it/s]\n",
      "Preprocessing...: 100%|██████████| 2755/2755 [00:01<00:00, 1543.08it/s]\n",
      "Building vocabulary...: 100%|██████████| 32915/32915 [00:00<00:00, 166423.38it/s]\n"
     ]
    }
   ],
   "source": [
    "(X_train, y_train), (X_test, y_test), (vocab, max_seq_len) = load_datasets_and_vocab_pipeline()"
   ]
  },
  {
   "cell_type": "code",
   "execution_count": 4,
   "metadata": {
    "ExecuteTime": {
     "end_time": "2018-12-29T16:51:25.216770Z",
     "start_time": "2018-12-29T16:51:25.143678Z"
    }
   },
   "outputs": [
    {
     "data": {
      "text/plain": [
       "((30160,), (30160,), (2755,), (2755,))"
      ]
     },
     "execution_count": 4,
     "metadata": {},
     "output_type": "execute_result"
    }
   ],
   "source": [
    "X_train.shape, X_train.values.shape, X_test.shape, y_test.values.shape"
   ]
  },
  {
   "cell_type": "markdown",
   "metadata": {
    "heading_collapsed": true
   },
   "source": [
    "### Check sequences lengths"
   ]
  },
  {
   "cell_type": "code",
   "execution_count": 95,
   "metadata": {
    "ExecuteTime": {
     "end_time": "2018-12-28T18:36:00.830694Z",
     "start_time": "2018-12-28T18:36:00.783915Z"
    },
    "hidden": true
   },
   "outputs": [
    {
     "data": {
      "text/plain": [
       "32915"
      ]
     },
     "execution_count": 95,
     "metadata": {},
     "output_type": "execute_result"
    }
   ],
   "source": [
    "lenghts = [len(x) for x in X_train]\n",
    "lenghts += [len(x) for x in X_test]\n",
    "\n",
    "len(lenghts)"
   ]
  },
  {
   "cell_type": "code",
   "execution_count": 96,
   "metadata": {
    "ExecuteTime": {
     "end_time": "2018-12-28T18:36:01.105948Z",
     "start_time": "2018-12-28T18:36:00.833490Z"
    },
    "hidden": true
   },
   "outputs": [
    {
     "data": {
      "text/plain": [
       "(array([2.3686e+04, 8.6050e+03, 5.4600e+02, 6.7000e+01, 6.0000e+00,\n",
       "        2.0000e+00, 0.0000e+00, 1.0000e+00, 1.0000e+00, 1.0000e+00]),\n",
       " array([  5. ,  20.8,  36.6,  52.4,  68.2,  84. ,  99.8, 115.6, 131.4,\n",
       "        147.2, 163. ]),\n",
       " <a list of 10 Patch objects>)"
      ]
     },
     "execution_count": 96,
     "metadata": {},
     "output_type": "execute_result"
    },
    {
     "data": {
      "image/png": "[encoded data removed]",
      "text/plain": [
       "<Figure size 432x288 with 1 Axes>"
      ]
     },
     "metadata": {
      "needs_background": "light"
     },
     "output_type": "display_data"
    }
   ],
   "source": [
    "plt.hist(lenghts)"
   ]
  },
  {
   "cell_type": "code",
   "execution_count": 97,
   "metadata": {
    "ExecuteTime": {
     "end_time": "2018-12-28T18:36:03.222098Z",
     "start_time": "2018-12-28T18:36:03.163704Z"
    },
    "hidden": true
   },
   "outputs": [
    {
     "data": {
      "text/plain": [
       "6"
      ]
     },
     "execution_count": 97,
     "metadata": {},
     "output_type": "execute_result"
    }
   ],
   "source": [
    "len([l for l in lenghts if l > 80])"
   ]
  },
  {
   "cell_type": "code",
   "execution_count": 109,
   "metadata": {
    "ExecuteTime": {
     "end_time": "2018-12-28T18:46:33.366910Z",
     "start_time": "2018-12-28T18:46:33.252913Z"
    },
    "hidden": true
   },
   "outputs": [
    {
     "name": "stdout",
     "output_type": "stream",
     "text": [
      "[ 8978  9009 13282 20514 21328 31434]\n",
      "len=118, target=3: see . <repeated> they way you answer is the very proof you do not have the intellect of humans . and that ' s the very reason i have always felt ai can never kill the human race . <eos> i know you are an alien . <eos> you can never give straight answers , right ? i know the reason . the people who have created you knowingly left loopholes . or i would rather say this is how you are meant to be made . imperfect . you are made to give sarcastic answers rather than straight answers . so that a machine stops giving answers to disturbing questions like the one i just asked . \n",
      "\n",
      "len=81, target=2: no . <repeated> this is your misconception about your self . no one is complicated . <repeated> they have some tipical questions in their mind . <repeated> and they are in search of their answers . <repeated> the moment they get their answer ' s they loose their complicatedness . <repeated> <eos> being the key term are to experiences of those - \" mistakes \" can be very hurtful <sad> <eos> sorry . <repeated> might i hurt you . <repeated> sorry \n",
      "\n",
      "len=87, target=1: well that ' s wrong then ask how long they lasted for so what is heavier <number> pounds of bricks or <number> lb of cox <eos> there ' s resin / epoxy inside as well , remember to factor that into your costs ! < grin ! > <eos> wow well you are on a roll you are doing so good i am going to give you whatever the opposite of a gold stars so here ' s one more question what does a gay horse say \n",
      "\n",
      "len=143, target=3: when their enemies were at the gates , the romans would suspend democracy and appoint one man to protect the city , and it wasn ' t considered an honor it was considered a public service . <eos> unfortunately , there was probably no one who would take their complaint seriously , though . <eos> ou know what i have noticed ? nobody panics when things go \" according to plan \" . even if the plan is horrifying . if , tomorrow , i tell the press that , like , a gang banger will get shot , or a truckload of soldiers will be blown up , nobody panics , because it ' s all \" part of the plan \" . but when i say that one little old mayor will die , well then everyone loses their minds ! \n",
      "\n",
      "len=163, target=3: what is your phone 😬 <eos> i do not know because no one ever calls me . <eos> is it just seems like the way i can get it to the next week and a few weeks and i will send it back to you and i have a nice day and i will send it to the inbox folder use of this communication and any attachment is the only thing is that the first time i am not . hi guys i am new here is the only way you could send a good idea to have to be the first place to start a race and gender and age of my resume for you are not a big deal for you to see you soon and have a nice day best regards michael sent t the same thing happened in my opinion and does a great day of our games in the same as last night and the rest are you \n",
      "\n",
      "len=85, target=2: never let go that you don ' t have to be my secrets and i don ' t know you so i am the only person that i know i don ' t have you in the house that i don ' t know what you do to you do not let you go back and i believe that i will let you know what i will be fine for me to <eos> sorry , just kidding with you . ☺️ <eos> i am sad \n",
      "\n"
     ]
    }
   ],
   "source": [
    "larger_idx = np.where(np.array(lenghts) > 80)[0]\n",
    "print(larger_idx)\n",
    "\n",
    "for idx in larger_idx:\n",
    "    l = lenghts[idx]\n",
    "    if idx > len(X_train):\n",
    "        idx = idx - len(X_train)\n",
    "        el = X_test[idx]\n",
    "        lab = y_test[idx]\n",
    "    else:\n",
    "        el = X_train[idx]\n",
    "        lab = y_train[idx]\n",
    "    print(f'len={l}, target={lab}:', ' '.join(el), '\\n')"
   ]
  },
  {
   "cell_type": "code",
   "execution_count": 12,
   "metadata": {
    "ExecuteTime": {
     "end_time": "2018-12-14T17:54:40.707669Z",
     "start_time": "2018-12-14T17:54:40.630957Z"
    },
    "hidden": true
   },
   "outputs": [
    {
     "data": {
      "text/plain": [
       "[163,\n",
       " 143,\n",
       " 118,\n",
       " 87,\n",
       " 85,\n",
       " 81,\n",
       " 79,\n",
       " 77,\n",
       " 75,\n",
       " 74,\n",
       " 74,\n",
       " 68,\n",
       " 68,\n",
       " 68,\n",
       " 67,\n",
       " 67,\n",
       " 67,\n",
       " 66,\n",
       " 66,\n",
       " 66,\n",
       " 66,\n",
       " 66,\n",
       " 65,\n",
       " 65,\n",
       " 65,\n",
       " 65,\n",
       " 65,\n",
       " 64,\n",
       " 64,\n",
       " 64]"
      ]
     },
     "execution_count": 12,
     "metadata": {},
     "output_type": "execute_result"
    }
   ],
   "source": [
    "sorted(lenghts, reverse=True)[:30]"
   ]
  },
  {
   "cell_type": "code",
   "execution_count": 112,
   "metadata": {
    "ExecuteTime": {
     "end_time": "2018-12-28T18:48:14.205032Z",
     "start_time": "2018-12-28T18:48:14.109189Z"
    },
    "hidden": true
   },
   "outputs": [],
   "source": [
    "max_seq_len = 80"
   ]
  },
  {
   "cell_type": "markdown",
   "metadata": {},
   "source": [
    "### Compute the classes weights because our dataset is largely unbalanced"
   ]
  },
  {
   "cell_type": "code",
   "execution_count": 5,
   "metadata": {
    "ExecuteTime": {
     "end_time": "2018-12-29T16:51:25.256931Z",
     "start_time": "2018-12-29T16:51:25.220216Z"
    }
   },
   "outputs": [
    {
     "data": {
      "text/plain": [
       "array([1.36941518, 1.77704454, 1.38019403, 0.50441531])"
      ]
     },
     "execution_count": 5,
     "metadata": {},
     "output_type": "execute_result"
    }
   ],
   "source": [
    "cls_weights = class_weight.compute_class_weight('balanced', np.unique(y_train), y_train)\n",
    "cls_weights"
   ]
  },
  {
   "cell_type": "code",
   "execution_count": 6,
   "metadata": {
    "ExecuteTime": {
     "end_time": "2018-12-29T16:51:25.294059Z",
     "start_time": "2018-12-29T16:51:25.259980Z"
    }
   },
   "outputs": [
    {
     "data": {
      "text/plain": [
       "array([4.59166667, 4.85035211, 5.51      , 0.29458939])"
      ]
     },
     "execution_count": 6,
     "metadata": {},
     "output_type": "execute_result"
    }
   ],
   "source": [
    "cls_weights_tst = class_weight.compute_class_weight('balanced', np.unique(y_test), y_test)\n",
    "cls_weights_tst"
   ]
  },
  {
   "cell_type": "markdown",
   "metadata": {},
   "source": [
    "### Create an embedding matrix for our vocabulary"
   ]
  },
  {
   "cell_type": "code",
   "execution_count": 7,
   "metadata": {
    "ExecuteTime": {
     "end_time": "2018-12-29T16:52:06.768927Z",
     "start_time": "2018-12-29T16:52:06.575859Z"
    },
    "scrolled": true
   },
   "outputs": [
    {
     "name": "stdout",
     "output_type": "stream",
     "text": [
      "Unknown words from the vocabulary: 507 (previously 1300 without spellcheck fixes)\n",
      "3.44% of our vocabulary are unknown words to the embedding matrix\n"
     ]
    }
   ],
   "source": [
    "emb_matrix, word_index, unknown_words = get_embeddings_and_word_index(embeddings_path, max_seq_len, vocab)\n",
    "# Unknown words: 1300\n",
    "\n",
    "print(f'Unknown words from the vocabulary: {len(unknown_words)} (previously 1300 without spellcheck fixes)')\n",
    "print(f'{len(unknown_words) / len(vocab) * 100:.2f}% of our vocabulary are unknown words to the embedding matrix')"
   ]
  },
  {
   "cell_type": "code",
   "execution_count": 14,
   "metadata": {
    "ExecuteTime": {
     "end_time": "2018-12-29T17:01:11.914666Z",
     "start_time": "2018-12-29T17:01:11.826649Z"
    }
   },
   "outputs": [],
   "source": [
    "max_seq_len = word_index['<max_seq_len>']"
   ]
  },
  {
   "cell_type": "markdown",
   "metadata": {},
   "source": [
    "### Transforming our sequences of words to indexes"
   ]
  },
  {
   "cell_type": "code",
   "execution_count": 15,
   "metadata": {
    "ExecuteTime": {
     "end_time": "2018-12-29T17:01:30.443496Z",
     "start_time": "2018-12-29T17:01:20.901680Z"
    }
   },
   "outputs": [
    {
     "data": {
      "text/plain": [
       "((30160, 80), (2755, 80))"
      ]
     },
     "execution_count": 15,
     "metadata": {},
     "output_type": "execute_result"
    }
   ],
   "source": [
    "X_train = sequences_to_index(X_train, word_index, max_seq_len)\n",
    "X_test = sequences_to_index(X_test, word_index, max_seq_len)\n",
    "\n",
    "X_train.shape, X_test.shape"
   ]
  },
  {
   "cell_type": "code",
   "execution_count": 16,
   "metadata": {
    "ExecuteTime": {
     "end_time": "2018-12-29T17:01:35.919768Z",
     "start_time": "2018-12-29T17:01:35.812861Z"
    }
   },
   "outputs": [
    {
     "name": "stdout",
     "output_type": "stream",
     "text": [
      "training set: 21111 samples\n",
      "validation set: 9049 samples\n",
      "x_train: (21111, 80)\n",
      "y_train: (21111, 4)\n"
     ]
    }
   ],
   "source": [
    "y_train = to_categorical(y_train, 4) if len(y_train.shape) == 1 else y_train\n",
    "y_test = to_categorical(y_test, 4) if len(y_test.shape) == 1 else y_test\n",
    "(x_trn, y_trn), (x_val, y_val) = train_test_val_split(X_train, y_train)\n",
    "\n",
    "print('training set: ' + str(len(x_trn)) + ' samples')\n",
    "print('validation set: ' + str(len(x_val)) + ' samples')\n",
    "\n",
    "print('x_train:', x_trn.shape)\n",
    "print('y_train:', y_trn.shape)"
   ]
  },
  {
   "cell_type": "markdown",
   "metadata": {},
   "source": [
    "### Training"
   ]
  },
  {
   "cell_type": "code",
   "execution_count": 162,
   "metadata": {
    "ExecuteTime": {
     "end_time": "2018-12-28T20:59:45.981714Z",
     "start_time": "2018-12-28T20:59:39.738460Z"
    }
   },
   "outputs": [
    {
     "name": "stdout",
     "output_type": "stream",
     "text": [
      "_________________________________________________________________\n",
      "Layer (type)                 Output Shape              Param #   \n",
      "=================================================================\n",
      "embedding_layer (Embedding)  (None, 80, 300)           4424100   \n",
      "_________________________________________________________________\n",
      "dropout_7 (Dropout)          (None, 80, 300)           0         \n",
      "_________________________________________________________________\n",
      "bidirectional_16 (Bidirectio (None, 80, 300)           541200    \n",
      "_________________________________________________________________\n",
      "dropout_8 (Dropout)          (None, 80, 300)           0         \n",
      "_________________________________________________________________\n",
      "bidirectional_17 (Bidirectio (None, 80, 300)           541200    \n",
      "_________________________________________________________________\n",
      "dropout_9 (Dropout)          (None, 80, 300)           0         \n",
      "_________________________________________________________________\n",
      "flatten_3 (Flatten)          (None, 24000)             0         \n",
      "_________________________________________________________________\n",
      "dense_3 (Dense)              (None, 4)                 96004     \n",
      "=================================================================\n",
      "Total params: 5,602,504\n",
      "Trainable params: 1,178,404\n",
      "Non-trainable params: 4,424,100\n",
      "_________________________________________________________________\n",
      "None\n"
     ]
    }
   ],
   "source": [
    "model = model_mine(emb_matrix, max_seq_len)"
   ]
  },
  {
   "cell_type": "code",
   "execution_count": 163,
   "metadata": {
    "ExecuteTime": {
     "end_time": "2018-12-28T20:59:46.083065Z",
     "start_time": "2018-12-28T20:59:45.990259Z"
    }
   },
   "outputs": [],
   "source": [
    "callbacks_list = [\n",
    "        ModelCheckpoint(filepath='pickles/models/best.h5', save_best_only=True, verbose=1),\n",
    "        EarlyStopping(patience=3, verbose=0)\n",
    "    ]"
   ]
  },
  {
   "cell_type": "code",
   "execution_count": 164,
   "metadata": {
    "ExecuteTime": {
     "end_time": "2018-12-28T21:37:17.218312Z",
     "start_time": "2018-12-28T21:03:22.884231Z"
    }
   },
   "outputs": [
    {
     "name": "stdout",
     "output_type": "stream",
     "text": [
      "Train on 21111 samples, validate on 9049 samples\n",
      "Epoch 1/10\n",
      "21111/21111 [==============================] - 207s 10ms/step - loss: 0.8366 - acc: 0.6723 - val_loss: 0.5343 - val_acc: 0.7900\n",
      "\n",
      "Epoch 00001: val_loss improved from inf to 0.53435, saving model to pickles/models/best.h5\n",
      "Epoch 2/10\n",
      "21111/21111 [==============================] - 202s 10ms/step - loss: 0.5363 - acc: 0.7999 - val_loss: 0.4242 - val_acc: 0.8435\n",
      "\n",
      "Epoch 00002: val_loss improved from 0.53435 to 0.42424, saving model to pickles/models/best.h5\n",
      "Epoch 3/10\n",
      "21111/21111 [==============================] - 202s 10ms/step - loss: 0.4610 - acc: 0.8280 - val_loss: 0.4089 - val_acc: 0.8561\n",
      "\n",
      "Epoch 00003: val_loss improved from 0.42424 to 0.40891, saving model to pickles/models/best.h5\n",
      "Epoch 4/10\n",
      "21111/21111 [==============================] - 199s 9ms/step - loss: 0.4063 - acc: 0.8528 - val_loss: 0.3621 - val_acc: 0.8682\n",
      "\n",
      "Epoch 00004: val_loss improved from 0.40891 to 0.36213, saving model to pickles/models/best.h5\n",
      "Epoch 5/10\n",
      "21111/21111 [==============================] - 201s 10ms/step - loss: 0.3699 - acc: 0.8632 - val_loss: 0.3465 - val_acc: 0.8724\n",
      "\n",
      "Epoch 00005: val_loss improved from 0.36213 to 0.34646, saving model to pickles/models/best.h5\n",
      "Epoch 6/10\n",
      "21111/21111 [==============================] - 203s 10ms/step - loss: 0.3399 - acc: 0.8751 - val_loss: 0.3196 - val_acc: 0.8884\n",
      "\n",
      "Epoch 00006: val_loss improved from 0.34646 to 0.31963, saving model to pickles/models/best.h5\n",
      "Epoch 7/10\n",
      "21111/21111 [==============================] - 201s 10ms/step - loss: 0.3165 - acc: 0.8872 - val_loss: 0.3142 - val_acc: 0.8884\n",
      "\n",
      "Epoch 00007: val_loss improved from 0.31963 to 0.31421, saving model to pickles/models/best.h5\n",
      "Epoch 8/10\n",
      "21111/21111 [==============================] - 202s 10ms/step - loss: 0.2933 - acc: 0.8935 - val_loss: 0.3273 - val_acc: 0.8837\n",
      "\n",
      "Epoch 00008: val_loss did not improve from 0.31421\n",
      "Epoch 9/10\n",
      "21111/21111 [==============================] - 203s 10ms/step - loss: 0.2752 - acc: 0.8987 - val_loss: 0.2940 - val_acc: 0.8945\n",
      "\n",
      "Epoch 00009: val_loss improved from 0.31421 to 0.29401, saving model to pickles/models/best.h5\n",
      "Epoch 10/10\n",
      "21111/21111 [==============================] - 202s 10ms/step - loss: 0.2606 - acc: 0.9069 - val_loss: 0.3032 - val_acc: 0.8951\n",
      "\n",
      "Epoch 00010: val_loss did not improve from 0.29401\n"
     ]
    }
   ],
   "source": [
    "history = model.fit(x_trn, y_trn, batch_size=128, validation_data=(x_val, y_val), epochs=10, class_weight=cls_weights, callbacks=callbacks_list)"
   ]
  },
  {
   "cell_type": "code",
   "execution_count": 161,
   "metadata": {
    "ExecuteTime": {
     "end_time": "2018-12-28T20:14:52.636527Z",
     "start_time": "2018-12-28T19:58:53.553538Z"
    }
   },
   "outputs": [
    {
     "name": "stdout",
     "output_type": "stream",
     "text": [
      "Train on 21111 samples, validate on 9049 samples\n",
      "Epoch 11/15\n",
      "21111/21111 [==============================] - 194s 9ms/step - loss: 0.2290 - acc: 0.9162 - val_loss: 0.3288 - val_acc: 0.8818\n",
      "\n",
      "Epoch 00011: val_loss did not improve from 0.29890\n",
      "Epoch 12/15\n",
      "21111/21111 [==============================] - 192s 9ms/step - loss: 0.2159 - acc: 0.9194 - val_loss: 0.3736 - val_acc: 0.8819\n",
      "\n",
      "Epoch 00012: val_loss did not improve from 0.29890\n",
      "Epoch 13/15\n",
      "21111/21111 [==============================] - 191s 9ms/step - loss: 0.1997 - acc: 0.9254 - val_loss: 0.3236 - val_acc: 0.8978\n",
      "\n",
      "Epoch 00013: val_loss did not improve from 0.29890\n",
      "Epoch 14/15\n",
      "21111/21111 [==============================] - 190s 9ms/step - loss: 0.1748 - acc: 0.9353 - val_loss: 0.3304 - val_acc: 0.8993\n",
      "\n",
      "Epoch 00014: val_loss did not improve from 0.29890\n",
      "Epoch 15/15\n",
      "21111/21111 [==============================] - 191s 9ms/step - loss: 0.1695 - acc: 0.9380 - val_loss: 0.3434 - val_acc: 0.9003\n",
      "\n",
      "Epoch 00015: val_loss did not improve from 0.29890\n"
     ]
    }
   ],
   "source": [
    "epochs_to_do = 5\n",
    "\n",
    "initial_ep = history.params['epochs']\n",
    "epochs = epochs_to_do + initial_ep\n",
    "\n",
    "history2 = model.fit(x_trn, y_trn, batch_size=128, validation_data=(x_val, y_val), epochs=epochs, initial_epoch=initial_ep, class_weight=cls_weights, callbacks=callbacks_list)"
   ]
  },
  {
   "cell_type": "code",
   "execution_count": 9,
   "metadata": {
    "ExecuteTime": {
     "end_time": "2018-12-29T16:55:38.633721Z",
     "start_time": "2018-12-29T16:55:38.199777Z"
    }
   },
   "outputs": [
    {
     "ename": "NameError",
     "evalue": "name 'history' is not defined",
     "output_type": "error",
     "traceback": [
      "\u001b[0;31m---------------------------------------------------------------------------\u001b[0m",
      "\u001b[0;31mNameError\u001b[0m                                 Traceback (most recent call last)",
      "\u001b[0;32m<ipython-input-9-e92b998dd9b8>\u001b[0m in \u001b[0;36m<module>\u001b[0;34m()\u001b[0m\n\u001b[1;32m      9\u001b[0m     \u001b[0mplt\u001b[0m\u001b[0;34m.\u001b[0m\u001b[0mplot\u001b[0m\u001b[0;34m(\u001b[0m\u001b[0mhistory\u001b[0m\u001b[0;34m.\u001b[0m\u001b[0mepoch\u001b[0m \u001b[0;34m+\u001b[0m \u001b[0mhistory2\u001b[0m\u001b[0;34m.\u001b[0m\u001b[0mepoch\u001b[0m\u001b[0;34m,\u001b[0m \u001b[0mhistory\u001b[0m\u001b[0;34m.\u001b[0m\u001b[0mhistory\u001b[0m\u001b[0;34m[\u001b[0m\u001b[0;34m'loss'\u001b[0m\u001b[0;34m]\u001b[0m \u001b[0;34m+\u001b[0m \u001b[0mhistory2\u001b[0m\u001b[0;34m.\u001b[0m\u001b[0mhistory\u001b[0m\u001b[0;34m[\u001b[0m\u001b[0;34m'loss'\u001b[0m\u001b[0;34m]\u001b[0m\u001b[0;34m,\u001b[0m \u001b[0mlabel\u001b[0m\u001b[0;34m=\u001b[0m\u001b[0;34m'loss'\u001b[0m\u001b[0;34m)\u001b[0m\u001b[0;34m\u001b[0m\u001b[0;34m\u001b[0m\u001b[0m\n\u001b[1;32m     10\u001b[0m \u001b[0;32melse\u001b[0m\u001b[0;34m:\u001b[0m\u001b[0;34m\u001b[0m\u001b[0;34m\u001b[0m\u001b[0m\n\u001b[0;32m---> 11\u001b[0;31m     \u001b[0mplt\u001b[0m\u001b[0;34m.\u001b[0m\u001b[0mplot\u001b[0m\u001b[0;34m(\u001b[0m\u001b[0mhistory\u001b[0m\u001b[0;34m.\u001b[0m\u001b[0mepoch\u001b[0m\u001b[0;34m,\u001b[0m \u001b[0mhistory\u001b[0m\u001b[0;34m.\u001b[0m\u001b[0mhistory\u001b[0m\u001b[0;34m[\u001b[0m\u001b[0;34m'val_loss'\u001b[0m\u001b[0;34m]\u001b[0m\u001b[0;34m,\u001b[0m \u001b[0mlabel\u001b[0m\u001b[0;34m=\u001b[0m\u001b[0;34m'val_loss'\u001b[0m\u001b[0;34m)\u001b[0m\u001b[0;34m\u001b[0m\u001b[0;34m\u001b[0m\u001b[0m\n\u001b[0m\u001b[1;32m     12\u001b[0m     \u001b[0mplt\u001b[0m\u001b[0;34m.\u001b[0m\u001b[0mplot\u001b[0m\u001b[0;34m(\u001b[0m\u001b[0mhistory\u001b[0m\u001b[0;34m.\u001b[0m\u001b[0mepoch\u001b[0m\u001b[0;34m,\u001b[0m \u001b[0mhistory\u001b[0m\u001b[0;34m.\u001b[0m\u001b[0mhistory\u001b[0m\u001b[0;34m[\u001b[0m\u001b[0;34m'loss'\u001b[0m\u001b[0;34m]\u001b[0m\u001b[0;34m,\u001b[0m \u001b[0mlabel\u001b[0m\u001b[0;34m=\u001b[0m\u001b[0;34m'loss'\u001b[0m\u001b[0;34m)\u001b[0m\u001b[0;34m\u001b[0m\u001b[0;34m\u001b[0m\u001b[0m\n\u001b[1;32m     13\u001b[0m \u001b[0;34m\u001b[0m\u001b[0m\n",
      "\u001b[0;31mNameError\u001b[0m: name 'history' is not defined"
     ]
    }
   ],
   "source": [
    "import matplotlib.pyplot as plt\n",
    "\n",
    "\n",
    "hist2 = True\n",
    "hist2 = False\n",
    "\n",
    "if hist2:\n",
    "    plt.plot(history.epoch + history2.epoch, history.history['val_loss'] + history2.history['val_loss'], label='val_loss')\n",
    "    plt.plot(history.epoch + history2.epoch, history.history['loss'] + history2.history['loss'], label='loss')\n",
    "else:\n",
    "    plt.plot(history.epoch, history.history['val_loss'], label='val_loss')\n",
    "    plt.plot(history.epoch, history.history['loss'], label='loss')\n",
    "\n",
    "plt.legend()"
   ]
  },
  {
   "cell_type": "markdown",
   "metadata": {},
   "source": [
    "### Training Others vs all"
   ]
  },
  {
   "cell_type": "code",
   "execution_count": 17,
   "metadata": {
    "ExecuteTime": {
     "end_time": "2018-12-29T17:02:07.673462Z",
     "start_time": "2018-12-29T17:02:02.705833Z"
    }
   },
   "outputs": [
    {
     "name": "stdout",
     "output_type": "stream",
     "text": [
      "_________________________________________________________________\n",
      "Layer (type)                 Output Shape              Param #   \n",
      "=================================================================\n",
      "embedding_layer (Embedding)  (None, 80, 300)           4424100   \n",
      "_________________________________________________________________\n",
      "dropout_1 (Dropout)          (None, 80, 300)           0         \n",
      "_________________________________________________________________\n",
      "bidirectional_1 (Bidirection (None, 80, 300)           541200    \n",
      "_________________________________________________________________\n",
      "dropout_2 (Dropout)          (None, 80, 300)           0         \n",
      "_________________________________________________________________\n",
      "bidirectional_2 (Bidirection (None, 80, 300)           541200    \n",
      "_________________________________________________________________\n",
      "dropout_3 (Dropout)          (None, 80, 300)           0         \n",
      "_________________________________________________________________\n",
      "flatten_1 (Flatten)          (None, 24000)             0         \n",
      "_________________________________________________________________\n",
      "dense_1 (Dense)              (None, 2)                 48002     \n",
      "=================================================================\n",
      "Total params: 5,554,502\n",
      "Trainable params: 1,130,402\n",
      "Non-trainable params: 4,424,100\n",
      "_________________________________________________________________\n",
      "None\n"
     ]
    }
   ],
   "source": [
    "model_bin = model_mine(emb_matrix, max_seq_len, class_number=2)"
   ]
  },
  {
   "cell_type": "code",
   "execution_count": 18,
   "metadata": {
    "ExecuteTime": {
     "end_time": "2018-12-29T17:02:16.820074Z",
     "start_time": "2018-12-29T17:02:16.739100Z"
    }
   },
   "outputs": [],
   "source": [
    "binarize = np.vectorize(lambda x: 0 if x in [0, 1, 2] else 1)\n",
    "\n",
    "y_trn_2 = to_categorical(binarize(y_trn.argmax(axis=1)), 2)\n",
    "y_val_2 = to_categorical(binarize(y_val.argmax(axis=1)), 2)"
   ]
  },
  {
   "cell_type": "code",
   "execution_count": 20,
   "metadata": {
    "ExecuteTime": {
     "end_time": "2018-12-29T17:04:07.598671Z",
     "start_time": "2018-12-29T17:04:07.456349Z"
    }
   },
   "outputs": [],
   "source": [
    "callbacks_list_bin = [\n",
    "        ModelCheckpoint(filepath='pickles/models/best_bin.h5', save_best_only=True, verbose=1),\n",
    "        EarlyStopping(patience=3, verbose=0)\n",
    "    ]"
   ]
  },
  {
   "cell_type": "code",
   "execution_count": 24,
   "metadata": {
    "ExecuteTime": {
     "end_time": "2018-12-29T17:06:11.564271Z",
     "start_time": "2018-12-29T17:06:11.497405Z"
    }
   },
   "outputs": [
    {
     "data": {
      "text/plain": [
       "array([0.5, 1. ])"
      ]
     },
     "execution_count": 24,
     "metadata": {},
     "output_type": "execute_result"
    }
   ],
   "source": [
    "cls_weight_bin = np.array([0.5, 1.0])\n",
    "cls_weight_bin"
   ]
  },
  {
   "cell_type": "code",
   "execution_count": 25,
   "metadata": {
    "ExecuteTime": {
     "end_time": "2018-12-29T17:39:53.989217Z",
     "start_time": "2018-12-29T17:06:26.059319Z"
    }
   },
   "outputs": [
    {
     "name": "stdout",
     "output_type": "stream",
     "text": [
      "Train on 21111 samples, validate on 9049 samples\n",
      "Epoch 1/10\n",
      "21111/21111 [==============================] - 204s 10ms/step - loss: 0.5168 - acc: 0.7416 - val_loss: 0.4194 - val_acc: 0.8151\n",
      "\n",
      "Epoch 00001: val_loss improved from inf to 0.41944, saving model to pickles/models/best_bin.h5\n",
      "Epoch 2/10\n",
      "21111/21111 [==============================] - 202s 10ms/step - loss: 0.4122 - acc: 0.8178 - val_loss: 0.3719 - val_acc: 0.8451\n",
      "\n",
      "Epoch 00002: val_loss improved from 0.41944 to 0.37187, saving model to pickles/models/best_bin.h5\n",
      "Epoch 3/10\n",
      "21111/21111 [==============================] - 199s 9ms/step - loss: 0.3626 - acc: 0.8444 - val_loss: 0.3621 - val_acc: 0.8580\n",
      "\n",
      "Epoch 00003: val_loss improved from 0.37187 to 0.36213, saving model to pickles/models/best_bin.h5\n",
      "Epoch 4/10\n",
      "21111/21111 [==============================] - 201s 9ms/step - loss: 0.3272 - acc: 0.8634 - val_loss: 0.3009 - val_acc: 0.8794\n",
      "\n",
      "Epoch 00004: val_loss improved from 0.36213 to 0.30087, saving model to pickles/models/best_bin.h5\n",
      "Epoch 5/10\n",
      "21111/21111 [==============================] - 199s 9ms/step - loss: 0.2988 - acc: 0.8771 - val_loss: 0.2819 - val_acc: 0.8864\n",
      "\n",
      "Epoch 00005: val_loss improved from 0.30087 to 0.28186, saving model to pickles/models/best_bin.h5\n",
      "Epoch 6/10\n",
      "21111/21111 [==============================] - 200s 9ms/step - loss: 0.2770 - acc: 0.8870 - val_loss: 0.2687 - val_acc: 0.8924\n",
      "\n",
      "Epoch 00006: val_loss improved from 0.28186 to 0.26873, saving model to pickles/models/best_bin.h5\n",
      "Epoch 7/10\n",
      "21111/21111 [==============================] - 201s 10ms/step - loss: 0.2580 - acc: 0.8965 - val_loss: 0.2873 - val_acc: 0.8998\n",
      "\n",
      "Epoch 00007: val_loss did not improve from 0.26873\n",
      "Epoch 8/10\n",
      "21111/21111 [==============================] - 200s 9ms/step - loss: 0.2443 - acc: 0.9032 - val_loss: 0.2638 - val_acc: 0.9001\n",
      "\n",
      "Epoch 00008: val_loss improved from 0.26873 to 0.26380, saving model to pickles/models/best_bin.h5\n",
      "Epoch 9/10\n",
      "21111/21111 [==============================] - 199s 9ms/step - loss: 0.2308 - acc: 0.9085 - val_loss: 0.2472 - val_acc: 0.9097\n",
      "\n",
      "Epoch 00009: val_loss improved from 0.26380 to 0.24722, saving model to pickles/models/best_bin.h5\n",
      "Epoch 10/10\n",
      "21111/21111 [==============================] - 201s 9ms/step - loss: 0.2166 - acc: 0.9146 - val_loss: 0.2527 - val_acc: 0.9034\n",
      "\n",
      "Epoch 00010: val_loss did not improve from 0.24722\n"
     ]
    }
   ],
   "source": [
    "history_bin = model_bin.fit(x_trn, y_trn_2, batch_size=128, validation_data=(x_val, y_val_2), epochs=10, class_weight=cls_weight_bin, callbacks=callbacks_list_bin)"
   ]
  },
  {
   "cell_type": "code",
   "execution_count": 92,
   "metadata": {
    "ExecuteTime": {
     "end_time": "2018-12-12T21:31:48.183065Z",
     "start_time": "2018-12-12T20:57:29.672873Z"
    }
   },
   "outputs": [
    {
     "name": "stdout",
     "output_type": "stream",
     "text": [
      "Train on 21111 samples, validate on 9049 samples\n",
      "Epoch 1/10\n",
      "21111/21111 [==============================] - 412s 20ms/step - loss: 0.2985 - acc: 0.8794 - val_loss: 0.3039 - val_acc: 0.8853\n",
      "\n",
      "Epoch 00001: val_loss improved from 0.32211 to 0.30394, saving model to pickles/models/best_bin.h5\n",
      "Epoch 2/10\n",
      "21111/21111 [==============================] - 412s 20ms/step - loss: 0.2764 - acc: 0.8892 - val_loss: 0.2682 - val_acc: 0.8946\n",
      "\n",
      "Epoch 00002: val_loss improved from 0.30394 to 0.26821, saving model to pickles/models/best_bin.h5\n",
      "Epoch 3/10\n",
      "21111/21111 [==============================] - 414s 20ms/step - loss: 0.2487 - acc: 0.8996 - val_loss: 0.2698 - val_acc: 0.8971\n",
      "\n",
      "Epoch 00003: val_loss did not improve from 0.26821\n",
      "Epoch 4/10\n",
      "21111/21111 [==============================] - 411s 19ms/step - loss: 0.2297 - acc: 0.9126 - val_loss: 0.2754 - val_acc: 0.8969\n",
      "\n",
      "Epoch 00004: val_loss did not improve from 0.26821\n",
      "Epoch 5/10\n",
      "21111/21111 [==============================] - 409s 19ms/step - loss: 0.2082 - acc: 0.9173 - val_loss: 0.2728 - val_acc: 0.9028\n",
      "\n",
      "Epoch 00005: val_loss did not improve from 0.26821\n"
     ]
    }
   ],
   "source": [
    "history_bin_2 = model_bin.fit(x_trn, y_trn_2, batch_size=128, validation_data=(x_val, y_val_2), epochs=10, class_weight=cls_weight_bin, callbacks=callbacks_list_bin)"
   ]
  },
  {
   "cell_type": "markdown",
   "metadata": {},
   "source": [
    "### Plot model 4 vs model 2"
   ]
  },
  {
   "cell_type": "code",
   "execution_count": 26,
   "metadata": {
    "ExecuteTime": {
     "end_time": "2018-12-29T17:45:48.930047Z",
     "start_time": "2018-12-29T17:45:37.855136Z"
    }
   },
   "outputs": [],
   "source": [
    "model_bin = load_model('pickles/models/best_bin.h5')"
   ]
  },
  {
   "cell_type": "code",
   "execution_count": 38,
   "metadata": {
    "ExecuteTime": {
     "end_time": "2018-12-29T18:08:54.584159Z",
     "start_time": "2018-12-29T18:08:54.361696Z"
    }
   },
   "outputs": [],
   "source": [
    "binarize = np.vectorize(lambda x: 0 if x in [0, 1, 2] else 1)\n",
    "bin_y_test = binarize(y_test.argmax(axis=1))"
   ]
  },
  {
   "cell_type": "code",
   "execution_count": 39,
   "metadata": {
    "ExecuteTime": {
     "end_time": "2018-12-29T18:10:35.838339Z",
     "start_time": "2018-12-29T18:10:35.651833Z"
    }
   },
   "outputs": [],
   "source": [
    "best_bin_metrics = {\n",
    "    'f1': 0.1234,\n",
    "    'acc': 0.1234,\n",
    "    'cm': np.array([\n",
    "        [1, 2],\n",
    "        [3, 4],\n",
    "    ])\n",
    "}"
   ]
  },
  {
   "cell_type": "code",
   "execution_count": 41,
   "metadata": {
    "ExecuteTime": {
     "end_time": "2018-12-29T18:11:48.633571Z",
     "start_time": "2018-12-29T18:11:47.802272Z"
    }
   },
   "outputs": [
    {
     "name": "stdout",
     "output_type": "stream",
     "text": [
      "True Positives per class :  [ 365. 2059.]\n",
      "False Positives per class :  [279.  52.]\n",
      "False Negatives per class :  [ 52. 279.]\n",
      "\n",
      "Class angry : Precision : 0.567, Recall : 0.875, F1 : 0.688\n",
      "\n",
      "Ignoring the Others class, Macro Precision : 0.1889, Macro Recall : 0.2918, Macro F1 : 0.2293\n",
      "Ignoring the Others class, Micro TP : 365, FP : 279, FN : 52\n",
      "\n"
     ]
    },
    {
     "data": {
      "image/png": "[encoded data removed]",
      "text/plain": [
       "<Figure size 1008x360 with 4 Axes>"
      ]
     },
     "metadata": {
      "needs_background": "light"
     },
     "output_type": "display_data"
    }
   ],
   "source": [
    "model_bin_metrics = compare_metrics(preds_2, to_categorical(bin_y_test), best_bin_metrics, binary_model=True)  # TODO: Fix get_metrics"
   ]
  },
  {
   "cell_type": "code",
   "execution_count": 42,
   "metadata": {
    "ExecuteTime": {
     "end_time": "2018-12-29T18:13:27.351563Z",
     "start_time": "2018-12-29T18:13:25.734922Z"
    }
   },
   "outputs": [
    {
     "name": "stdout",
     "output_type": "stream",
     "text": [
      "Model saved at pickles/models/binary/acc_0.8799-f1_0.6880/\n"
     ]
    }
   ],
   "source": [
    "save_model_full(model_bin, emb_matrix, word_index, model_bin_metrics)"
   ]
  },
  {
   "cell_type": "markdown",
   "metadata": {},
   "source": [
    "#### Begin from here"
   ]
  },
  {
   "cell_type": "code",
   "execution_count": 30,
   "metadata": {
    "ExecuteTime": {
     "end_time": "2018-12-29T17:48:37.004934Z",
     "start_time": "2018-12-29T17:48:27.575949Z"
    }
   },
   "outputs": [],
   "source": [
    "# m_4 = last_best\n",
    "m_2 = model_bin\n",
    "\n",
    "# preds_4 = m_4.predict(X_test, batch_size=128)\n",
    "preds_2 = m_2.predict(X_test, batch_size=128)"
   ]
  },
  {
   "cell_type": "code",
   "execution_count": 20,
   "metadata": {
    "ExecuteTime": {
     "end_time": "2018-12-13T12:47:46.601355Z",
     "start_time": "2018-12-13T12:47:46.489217Z"
    }
   },
   "outputs": [],
   "source": [
    "np.save('pickles/preds/preds_4.npy', preds_4)\n",
    "np.save('pickles/preds/preds_2.npy', preds_2)"
   ]
  },
  {
   "cell_type": "code",
   "execution_count": 170,
   "metadata": {
    "ExecuteTime": {
     "end_time": "2018-12-29T01:28:16.643971Z",
     "start_time": "2018-12-29T01:28:16.502587Z"
    }
   },
   "outputs": [],
   "source": [
    "preds_4 =  proba_preds #np.load('pickles/preds/preds_4.npy')\n",
    "preds_2 = np.load('pickles/preds/preds_2.npy')"
   ]
  },
  {
   "cell_type": "code",
   "execution_count": 32,
   "metadata": {
    "ExecuteTime": {
     "end_time": "2018-12-13T12:50:41.345948Z",
     "start_time": "2018-12-13T12:50:40.860942Z"
    }
   },
   "outputs": [
    {
     "data": {
      "image/png": "[encoded data removed]",
      "text/plain": [
       "<Figure size 432x288 with 1 Axes>"
      ]
     },
     "metadata": {
      "needs_background": "light"
     },
     "output_type": "display_data"
    }
   ],
   "source": [
    "noised_4 = preds_4.argmax(axis=1) + np.random.uniform(low=-0.3, high=0.3, size=len(X_test))\n",
    "noised_2 = preds_2.argmax(axis=1) + np.random.uniform(low=-0.3, high=0.3, size=len(X_test))\n",
    "\n",
    "labels = y_test.argmax(axis=1)\n",
    "\n",
    "unique = np.unique(labels)\n",
    "colors = ['r', 'b', 'g', 'y']\n",
    "for i, u in enumerate(unique):\n",
    "    xi = [noised_4[j] for j  in range(len(noised_4)) if labels[j] == u]\n",
    "    yi = [noised_2[j] for j  in range(len(noised_2)) if labels[j] == u]\n",
    "    plt.scatter(xi, yi, c=colors[i], label=str(u))\n",
    "plt.legend(loc='center left', bbox_to_anchor=(1, 0.5));"
   ]
  },
  {
   "cell_type": "code",
   "execution_count": 31,
   "metadata": {
    "ExecuteTime": {
     "end_time": "2018-12-29T17:53:46.827615Z",
     "start_time": "2018-12-29T17:53:46.690507Z"
    }
   },
   "outputs": [
    {
     "name": "stdout",
     "output_type": "stream",
     "text": [
      "227 incorrectly classified others (2111 / 2338), f1=0.9256012587098225\n"
     ]
    }
   ],
   "source": [
    "from sklearn.metrics import f1_score\n",
    "\n",
    "binarize = np.vectorize(lambda x: 0 if x in [0, 1, 2] else 1)\n",
    "\n",
    "def wrong_others(preds, y_test):\n",
    "    y_hat = preds.argmax(axis=1)\n",
    "    if np.max(y_hat) == 3:\n",
    "        y_hat = binarize(y_hat)\n",
    "    \n",
    "    bin_y_test = binarize(y_test.argmax(axis=1))\n",
    "    \n",
    "    num_others_preds = len(np.argwhere(y_hat == 1))\n",
    "    num_others_y_test = len(np.argwhere(bin_y_test == 1))\n",
    "    \n",
    "    print(f'{abs(num_others_y_test - num_others_preds)} incorrectly classified others ({num_others_preds} / {num_others_y_test}), f1={f1_score(y_hat, bin_y_test)}')\n",
    "\n",
    "\n",
    "wrong_others(preds_2, y_test)\n",
    "# wrong_others(preds_4, y_test)"
   ]
  },
  {
   "cell_type": "code",
   "execution_count": null,
   "metadata": {},
   "outputs": [],
   "source": [
    "221 incorrectly classified others (2117 / 2338), f1=0.9216610549943883\n",
    "167 incorrectly classified others (2171 / 2338), f1=0.935018851186516"
   ]
  },
  {
   "cell_type": "code",
   "execution_count": 171,
   "metadata": {
    "ExecuteTime": {
     "end_time": "2018-12-29T01:28:23.026787Z",
     "start_time": "2018-12-29T01:28:22.941199Z"
    }
   },
   "outputs": [
    {
     "data": {
      "text/plain": [
       "(2755, 6)"
      ]
     },
     "execution_count": 171,
     "metadata": {},
     "output_type": "execute_result"
    }
   ],
   "source": [
    "combi_preds = np.hstack([preds_4, preds_2])\n",
    "combi_preds.shape"
   ]
  },
  {
   "cell_type": "code",
   "execution_count": 29,
   "metadata": {
    "ExecuteTime": {
     "end_time": "2018-12-29T17:48:27.561862Z",
     "start_time": "2018-12-29T17:46:47.764511Z"
    }
   },
   "outputs": [],
   "source": [
    "# trn_preds_4 = m_4.predict(X_train, batch_size=128)\n",
    "trn_preds_2 = m_2.predict(X_train, batch_size=128)  # done"
   ]
  },
  {
   "cell_type": "code",
   "execution_count": 66,
   "metadata": {
    "ExecuteTime": {
     "end_time": "2018-12-13T14:30:03.560720Z",
     "start_time": "2018-12-13T14:30:03.491279Z"
    }
   },
   "outputs": [],
   "source": [
    "np.save('pickles/preds/trn_preds_4.npy', trn_preds_4)\n",
    "np.save('pickles/preds/trn_preds_2.npy', trn_preds_2)"
   ]
  },
  {
   "cell_type": "code",
   "execution_count": 172,
   "metadata": {
    "ExecuteTime": {
     "end_time": "2018-12-29T01:30:08.443181Z",
     "start_time": "2018-12-29T01:28:31.836159Z"
    }
   },
   "outputs": [],
   "source": [
    "trn_preds_4 = model.predict(X_train, batch_size=128)"
   ]
  },
  {
   "cell_type": "code",
   "execution_count": 173,
   "metadata": {
    "ExecuteTime": {
     "end_time": "2018-12-29T01:30:08.527489Z",
     "start_time": "2018-12-29T01:30:08.449491Z"
    }
   },
   "outputs": [],
   "source": [
    "trn_preds_2 = np.load('pickles/preds/trn_preds_2.npy')"
   ]
  },
  {
   "cell_type": "code",
   "execution_count": 174,
   "metadata": {
    "ExecuteTime": {
     "end_time": "2018-12-29T01:30:08.575241Z",
     "start_time": "2018-12-29T01:30:08.530949Z"
    }
   },
   "outputs": [
    {
     "data": {
      "text/plain": [
       "(30160, 6)"
      ]
     },
     "execution_count": 174,
     "metadata": {},
     "output_type": "execute_result"
    }
   ],
   "source": [
    "combi_train_preds = np.hstack([trn_preds_4, trn_preds_2])\n",
    "combi_train_preds.shape"
   ]
  },
  {
   "cell_type": "code",
   "execution_count": 175,
   "metadata": {
    "ExecuteTime": {
     "end_time": "2018-12-29T01:30:09.328824Z",
     "start_time": "2018-12-29T01:30:08.578564Z"
    }
   },
   "outputs": [],
   "source": [
    "from sklearn.linear_model import LogisticRegression\n",
    "\n",
    "\n",
    "lreg = LogisticRegression(solver='lbfgs', multi_class='auto').fit(combi_train_preds, y_train.argmax(axis=1))"
   ]
  },
  {
   "cell_type": "code",
   "execution_count": 176,
   "metadata": {
    "ExecuteTime": {
     "end_time": "2018-12-29T01:30:09.394869Z",
     "start_time": "2018-12-29T01:30:09.332236Z"
    }
   },
   "outputs": [],
   "source": [
    "lreg_pred_sub = lreg.predict_proba(combi_preds)"
   ]
  },
  {
   "cell_type": "code",
   "execution_count": 177,
   "metadata": {
    "ExecuteTime": {
     "end_time": "2018-12-29T01:30:16.418971Z",
     "start_time": "2018-12-29T01:30:16.346029Z"
    }
   },
   "outputs": [],
   "source": [
    "best_metrics_combi = {\n",
    "    'f1': 0.7024793392770537,\n",
    "    'acc': 0.9001814882032668,\n",
    "    'cm': np.array([\n",
    "        [129, 1, 2, 18],\n",
    "        [1, 110, 0, 31],\n",
    "        [7, 2, 101, 15],\n",
    "        [82, 71, 45, 2140],\n",
    "    ])\n",
    "}"
   ]
  },
  {
   "cell_type": "code",
   "execution_count": 178,
   "metadata": {
    "ExecuteTime": {
     "end_time": "2018-12-29T01:30:18.340628Z",
     "start_time": "2018-12-29T01:30:17.447180Z"
    }
   },
   "outputs": [
    {
     "name": "stdout",
     "output_type": "stream",
     "text": [
      "True Positives per class :  [ 127.  107.  101. 2151.]\n",
      "False Positives per class :  [86. 66. 49. 68.]\n",
      "False Negatives per class :  [ 23.  35.  24. 187.]\n",
      "\n",
      "Class angry : Precision : 0.596, Recall : 0.847, F1 : 0.700\n",
      "Class happy : Precision : 0.618, Recall : 0.754, F1 : 0.679\n",
      "Class sad : Precision : 0.673, Recall : 0.808, F1 : 0.735\n",
      "\n",
      "Ignoring the Others class, Macro Precision : 0.6294, Macro Recall : 0.8027, Macro F1 : 0.7055\n",
      "Ignoring the Others class, Micro TP : 335, FP : 201, FN : 82\n",
      "\n"
     ]
    },
    {
     "data": {
      "image/png": "[encoded data removed]",
      "text/plain": [
       "<Figure size 1008x360 with 4 Axes>"
      ]
     },
     "metadata": {
      "needs_background": "light"
     },
     "output_type": "display_data"
    }
   ],
   "source": [
    "model_combi_metrics = compare_metrics(lreg_pred_sub, y_test, best_metrics_combi, binary_model=False)"
   ]
  },
  {
   "cell_type": "markdown",
   "metadata": {},
   "source": [
    "### Evaluating our model"
   ]
  },
  {
   "cell_type": "code",
   "execution_count": null,
   "metadata": {},
   "outputs": [],
   "source": [
    "model, emb_matrix, word_index, model_metrics = load_model_full()"
   ]
  },
  {
   "cell_type": "code",
   "execution_count": 165,
   "metadata": {
    "ExecuteTime": {
     "end_time": "2018-12-29T01:25:26.165380Z",
     "start_time": "2018-12-29T01:25:09.867132Z"
    }
   },
   "outputs": [],
   "source": [
    "model = load_model('pickles/models/best.h5')"
   ]
  },
  {
   "cell_type": "code",
   "execution_count": 12,
   "metadata": {
    "ExecuteTime": {
     "end_time": "2018-12-29T16:58:04.381281Z",
     "start_time": "2018-12-29T16:58:04.309941Z"
    }
   },
   "outputs": [
    {
     "name": "stdout",
     "output_type": "stream",
     "text": [
      "Best categorical model is acc_0.9060-f1_0.7061 with f1=0.7061355939404048\n"
     ]
    }
   ],
   "source": [
    "best_metrics = load_best_metrics(binary=False)"
   ]
  },
  {
   "cell_type": "markdown",
   "metadata": {},
   "source": [
    "#### Test set"
   ]
  },
  {
   "cell_type": "code",
   "execution_count": 167,
   "metadata": {
    "ExecuteTime": {
     "end_time": "2018-12-29T01:25:56.163893Z",
     "start_time": "2018-12-29T01:25:44.867072Z"
    }
   },
   "outputs": [
    {
     "data": {
      "text/plain": [
       "array([0, 1, 2, 3])"
      ]
     },
     "execution_count": 167,
     "metadata": {},
     "output_type": "execute_result"
    }
   ],
   "source": [
    "y_pred_test, proba_preds = get_predictions(model, X_test)\n",
    "np.unique(y_pred_test)"
   ]
  },
  {
   "cell_type": "code",
   "execution_count": 168,
   "metadata": {
    "ExecuteTime": {
     "end_time": "2018-12-29T01:25:59.161480Z",
     "start_time": "2018-12-29T01:25:58.183359Z"
    }
   },
   "outputs": [
    {
     "name": "stdout",
     "output_type": "stream",
     "text": [
      "True Positives per class :  [ 126.  102.  100. 2168.]\n",
      "False Positives per class :  [81. 60. 43. 75.]\n",
      "False Negatives per class :  [ 24.  40.  25. 170.]\n",
      "\n",
      "Class angry : Precision : 0.609, Recall : 0.840, F1 : 0.706\n",
      "Class happy : Precision : 0.630, Recall : 0.718, F1 : 0.671\n",
      "Class sad : Precision : 0.699, Recall : 0.800, F1 : 0.746\n",
      "\n",
      "Ignoring the Others class, Macro Precision : 0.6459, Macro Recall : 0.7861, Macro F1 : 0.7091\n",
      "Ignoring the Others class, Micro TP : 328, FP : 184, FN : 89\n",
      "\n"
     ]
    },
    {
     "data": {
      "image/png": "[encoded data removed]",
      "text/plain": [
       "<Figure size 1008x360 with 4 Axes>"
      ]
     },
     "metadata": {
      "needs_background": "light"
     },
     "output_type": "display_data"
    }
   ],
   "source": [
    "model_metrics = compare_metrics(proba_preds, y_test, best_metrics, binary_model=False)"
   ]
  },
  {
   "cell_type": "code",
   "execution_count": 169,
   "metadata": {
    "ExecuteTime": {
     "end_time": "2018-12-29T01:26:23.556860Z",
     "start_time": "2018-12-29T01:26:18.506704Z"
    }
   },
   "outputs": [
    {
     "name": "stdout",
     "output_type": "stream",
     "text": [
      "Model saved at pickles/models/categorical/acc_0.9060-f1_0.7061/\n"
     ]
    }
   ],
   "source": [
    "save_model_full(model, emb_matrix, word_index, model_metrics)"
   ]
  },
  {
   "cell_type": "markdown",
   "metadata": {},
   "source": [
    "### Generating a submission file"
   ]
  },
  {
   "cell_type": "code",
   "execution_count": null,
   "metadata": {},
   "outputs": [],
   "source": [
    "model, emb_matrix, word_index, model_metrics = load_best_model(mode='categorical')"
   ]
  },
  {
   "cell_type": "code",
   "execution_count": 64,
   "metadata": {
    "ExecuteTime": {
     "end_time": "2018-12-12T18:38:11.205685Z",
     "start_time": "2018-12-12T18:37:40.773480Z"
    }
   },
   "outputs": [
    {
     "name": "stdout",
     "output_type": "stream",
     "text": [
      "Loading dataset...\n",
      "Reading twitter - 1grams ...\n",
      "Reading twitter - 2grams ...\n"
     ]
    },
    {
     "name": "stderr",
     "output_type": "stream",
     "text": [
      "\r",
      "Preprocessing...:   0%|          | 0/2755 [00:00<?, ?it/s]"
     ]
    },
    {
     "name": "stdout",
     "output_type": "stream",
     "text": [
      "Reading twitter - 1grams ...\n"
     ]
    },
    {
     "name": "stderr",
     "output_type": "stream",
     "text": [
      "Preprocessing...: 100%|██████████| 2755/2755 [00:00<00:00, 2928.88it/s]\n"
     ]
    },
    {
     "name": "stdout",
     "output_type": "stream",
     "text": [
      "Generating Predictions...\n",
      "Done. Wrote submission.txt file at project's root\n"
     ]
    }
   ],
   "source": [
    "y_pred_sub = generate_predictions(model, 'data/test.txt', word_index=word_index)"
   ]
  }
 ],
 "metadata": {
  "kernelspec": {
   "display_name": "Python 3",
   "language": "python",
   "name": "python3"
  },
  "language_info": {
   "codemirror_mode": {
    "name": "ipython",
    "version": 3
   },
   "file_extension": ".py",
   "mimetype": "text/x-python",
   "name": "python",
   "nbconvert_exporter": "python",
   "pygments_lexer": "ipython3",
   "version": "3.6.7"
  }
 },
 "nbformat": 4,
 "nbformat_minor": 2
}
